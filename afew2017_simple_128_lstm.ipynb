{
 "cells": [
  {
   "cell_type": "markdown",
   "metadata": {},
   "source": [
    "# Import libraries"
   ]
  },
  {
   "cell_type": "code",
   "execution_count": 1,
   "metadata": {
    "collapsed": true
   },
   "outputs": [],
   "source": [
    "is_going_to_train = 1\n",
    "\n",
    "base_model_path = './model/fer2013_simple_128_out_testing_nontop_1.h5'\n",
    "final_model_path = './model/fer2013_simple_128_out_testing_1.h5'\n",
    "\n",
    "final_model_json_path = './model/fer2013_simple_128_out_testing_nontop_1.json'\n",
    "base_model_json_path = './model/fer2013_simple_128_out_testing_1.json'\n",
    "\n",
    "# train_path = 'E:/EmotiW2017/Train_AFEW/face_images'\n",
    "# val_path = 'E:/EmotiW2017/Val_AFEW/face_images'\n",
    "\n",
    "train_path = './data/fer2013/train'\n",
    "val_path = './data/fer2013/test1'\n",
    "\n",
    "val_path_afew = 'E:/EmotiW2017/Val_AFEW/face_images'\n",
    "# val_path_afew = './data/fer2013/test1'\n",
    "# val_path_afew = './data/fer2013/test2'\n",
    "\n",
    "his_path = './model/fer2013_simple_128_out_testing_1.pickle'"
   ]
  },
  {
   "cell_type": "code",
   "execution_count": 2,
   "metadata": {},
   "outputs": [],
   "source": [
    "from tensorflow.contrib.keras.python.keras import applications, layers\n",
    "from tensorflow.contrib.keras.python.keras.preprocessing.image import ImageDataGenerator\n",
    "from tensorflow.contrib.keras.python.keras import optimizers\n",
    "from tensorflow.contrib.keras.python.keras.models import Sequential, Model\n",
    "from tensorflow.contrib.keras.python.keras.layers import Dropout, Flatten, Dense, Input, ZeroPadding2D, Conv2D, BatchNormalization, Activation, MaxPooling2D, AveragePooling2D, GlobalAveragePooling2D\n",
    "from tensorflow.contrib.keras.python.keras.callbacks import EarlyStopping\n",
    "from tensorflow.contrib.keras.python.keras.optimizers import Adam, RMSprop\n",
    "\n",
    "from tensorflow.contrib.keras.python.keras.applications.imagenet_utils import _obtain_input_shape\n",
    "from tensorflow.contrib.keras.python.keras import backend as K\n",
    "\n",
    "# CNN-LSTM\n",
    "from tensorflow.contrib.keras.python.keras.layers import LSTM\n",
    "from tensorflow.contrib.keras.python.keras.layers.embeddings import Embedding\n",
    "from tensorflow.contrib.keras.python.keras.preprocessing import sequence\n",
    "from tensorflow.contrib.keras.python.keras.layers.wrappers import TimeDistributed\n",
    "\n",
    "from residual_funcs import *\n",
    "\n",
    "import numpy as np\n",
    "import matplotlib.pyplot as plt\n",
    "\n",
    "# Visualization\n",
    "from IPython.display import SVG\n",
    "from tensorflow.contrib.keras.python.keras.utils.vis_utils import model_to_dot\n",
    "from tensorflow.contrib.keras.python.keras.utils import plot_model\n",
    "\n",
    "import pickle"
   ]
  },
  {
   "cell_type": "markdown",
   "metadata": {},
   "source": [
    "# Some functions"
   ]
  },
  {
   "cell_type": "code",
   "execution_count": 3,
   "metadata": {
    "collapsed": true
   },
   "outputs": [],
   "source": [
    "def get_emotion(ohv):\n",
    "    if ohv.shape[0] == 1:\n",
    "        indx = ohv[0]\n",
    "    else:\n",
    "        indx = np.argmax(ohv)\n",
    "        \n",
    "    if indx == 0:\n",
    "        return 'angry'\n",
    "    elif indx == 1:\n",
    "        return 'disgust'\n",
    "    elif indx == 2:\n",
    "        return 'fear'\n",
    "    elif indx == 3:\n",
    "        return 'happy'\n",
    "    elif indx == 4:\n",
    "        return 'sad'\n",
    "    elif indx == 5:\n",
    "        return 'surprise'\n",
    "    elif indx == 6:\n",
    "        return 'neutral'"
   ]
  },
  {
   "cell_type": "markdown",
   "metadata": {},
   "source": [
    "# CNN"
   ]
  },
  {
   "cell_type": "code",
   "execution_count": 4,
   "metadata": {
    "collapsed": true
   },
   "outputs": [],
   "source": [
    "def CNN():\n",
    "    base_model = Sequential()\n",
    "\n",
    "    base_model.add(Conv2D(64, (3, 3), activation='relu', padding='same', input_shape = (48, 48, 1)))\n",
    "\n",
    "    base_model.add(Conv2D(64, (3, 3), activation='relu', padding='same'))\n",
    "\n",
    "    base_model.add(MaxPooling2D(pool_size=(2, 2)))\n",
    "    base_model.add(Dropout(0.2))\n",
    "\n",
    "    base_model.add(Conv2D(128, (3, 3), activation='relu', padding='same'))\n",
    "\n",
    "    base_model.add(Conv2D(128, (3, 3), activation='relu', padding='same'))\n",
    "    \n",
    "    base_model.add(MaxPooling2D(pool_size=(2, 2)))\n",
    "    base_model.add(Dropout(0.2))\n",
    "\n",
    "    base_model.add(Conv2D(128, (3, 3), activation='relu', padding='same'))\n",
    "    \n",
    "    base_model.add(Conv2D(128, (3, 3), activation='relu', padding='same'))\n",
    "    \n",
    "    base_model.add(MaxPooling2D(pool_size=(2, 2)))\n",
    "    base_model.add(Dropout(0.2))\n",
    "\n",
    "    base_model.add(Conv2D(256, (3, 3), activation='relu', padding='same'))\n",
    "    \n",
    "    base_model.add(Conv2D(256, (3, 3), activation='relu', padding='same'))\n",
    "\n",
    "    base_model.add(MaxPooling2D(pool_size=(2, 2)))\n",
    "    base_model.add(Dropout(0.2))\n",
    "    \n",
    "    base_model.add(Conv2D(256, (3, 3), activation='relu', padding='same'))\n",
    "    \n",
    "    base_model.add(Conv2D(256, (3, 3), activation='relu', padding='same'))\n",
    "\n",
    "    base_model.add(MaxPooling2D(pool_size=(2, 2)))\n",
    "    base_model.add(Dropout(0.2))\n",
    "\n",
    "    base_model.add(Flatten())\n",
    "    \n",
    "    return base_model.output, base_model.input, base_model"
   ]
  },
  {
   "cell_type": "markdown",
   "metadata": {
    "collapsed": true
   },
   "source": [
    "# FC layer"
   ]
  },
  {
   "cell_type": "code",
   "execution_count": 5,
   "metadata": {},
   "outputs": [],
   "source": [
    "if is_going_to_train == 1:\n",
    "    # add a global spatial average pooling layer\n",
    "    out, inp, base_model = CNN()"
   ]
  },
  {
   "cell_type": "code",
   "execution_count": 6,
   "metadata": {
    "collapsed": true
   },
   "outputs": [],
   "source": [
    "if is_going_to_train == 1:\n",
    "    # let's add 2 fully-connected layers\n",
    "    x = Dense(512, activation='relu')(out)\n",
    "    x = Dropout(0.2)(x)\n",
    "    # Softmax classifier\n",
    "    predictions = Dense(7, activation='softmax')(x)"
   ]
  },
  {
   "cell_type": "code",
   "execution_count": 7,
   "metadata": {
    "collapsed": true
   },
   "outputs": [],
   "source": [
    "if is_going_to_train == 1:\n",
    "    # this is the model we will train\n",
    "    model = Model(inputs=inp, outputs=predictions)"
   ]
  },
  {
   "cell_type": "markdown",
   "metadata": {},
   "source": [
    "# Review model architecture"
   ]
  },
  {
   "cell_type": "code",
   "execution_count": 8,
   "metadata": {},
   "outputs": [
    {
     "name": "stdout",
     "output_type": "stream",
     "text": [
      "_________________________________________________________________\n",
      "Layer (type)                 Output Shape              Param #   \n",
      "=================================================================\n",
      "conv2d_1_input (InputLayer)  (None, 48, 48, 1)         0         \n",
      "_________________________________________________________________\n",
      "conv2d_1 (Conv2D)            (None, 48, 48, 64)        640       \n",
      "_________________________________________________________________\n",
      "conv2d_2 (Conv2D)            (None, 48, 48, 64)        36928     \n",
      "_________________________________________________________________\n",
      "max_pooling2d_1 (MaxPooling2 (None, 24, 24, 64)        0         \n",
      "_________________________________________________________________\n",
      "dropout_1 (Dropout)          (None, 24, 24, 64)        0         \n",
      "_________________________________________________________________\n",
      "conv2d_3 (Conv2D)            (None, 24, 24, 128)       73856     \n",
      "_________________________________________________________________\n",
      "conv2d_4 (Conv2D)            (None, 24, 24, 128)       147584    \n",
      "_________________________________________________________________\n",
      "max_pooling2d_2 (MaxPooling2 (None, 12, 12, 128)       0         \n",
      "_________________________________________________________________\n",
      "dropout_2 (Dropout)          (None, 12, 12, 128)       0         \n",
      "_________________________________________________________________\n",
      "conv2d_5 (Conv2D)            (None, 12, 12, 128)       147584    \n",
      "_________________________________________________________________\n",
      "conv2d_6 (Conv2D)            (None, 12, 12, 128)       147584    \n",
      "_________________________________________________________________\n",
      "max_pooling2d_3 (MaxPooling2 (None, 6, 6, 128)         0         \n",
      "_________________________________________________________________\n",
      "dropout_3 (Dropout)          (None, 6, 6, 128)         0         \n",
      "_________________________________________________________________\n",
      "conv2d_7 (Conv2D)            (None, 6, 6, 256)         295168    \n",
      "_________________________________________________________________\n",
      "conv2d_8 (Conv2D)            (None, 6, 6, 256)         590080    \n",
      "_________________________________________________________________\n",
      "max_pooling2d_4 (MaxPooling2 (None, 3, 3, 256)         0         \n",
      "_________________________________________________________________\n",
      "dropout_4 (Dropout)          (None, 3, 3, 256)         0         \n",
      "_________________________________________________________________\n",
      "conv2d_9 (Conv2D)            (None, 3, 3, 256)         590080    \n",
      "_________________________________________________________________\n",
      "conv2d_10 (Conv2D)           (None, 3, 3, 256)         590080    \n",
      "_________________________________________________________________\n",
      "max_pooling2d_5 (MaxPooling2 (None, 1, 1, 256)         0         \n",
      "_________________________________________________________________\n",
      "dropout_5 (Dropout)          (None, 1, 1, 256)         0         \n",
      "_________________________________________________________________\n",
      "flatten_1 (Flatten)          (None, 256)               0         \n",
      "_________________________________________________________________\n",
      "dense_1 (Dense)              (None, 512)               131584    \n",
      "_________________________________________________________________\n",
      "dropout_6 (Dropout)          (None, 512)               0         \n",
      "_________________________________________________________________\n",
      "dense_2 (Dense)              (None, 7)                 3591      \n",
      "=================================================================\n",
      "Total params: 2,754,759.0\n",
      "Trainable params: 2,754,759.0\n",
      "Non-trainable params: 0.0\n",
      "_________________________________________________________________\n",
      "None\n"
     ]
    }
   ],
   "source": [
    "if is_going_to_train == 1:\n",
    "    print(model.summary())"
   ]
  },
  {
   "cell_type": "markdown",
   "metadata": {},
   "source": [
    "# Compile model"
   ]
  },
  {
   "cell_type": "code",
   "execution_count": null,
   "metadata": {
    "collapsed": true
   },
   "outputs": [],
   "source": [
    "if is_going_to_train == 1:\n",
    "    # compile the model (should be done *after* setting layers to non-trainable)\n",
    "    opt = Adam(lr=0.0001)\n",
    "    model.compile(optimizer=opt, loss='sparse_categorical_crossentropy', metrics=['accuracy'])"
   ]
  },
  {
   "cell_type": "markdown",
   "metadata": {},
   "source": [
    "# Fit model"
   ]
  },
  {
   "cell_type": "code",
   "execution_count": null,
   "metadata": {
    "scrolled": false
   },
   "outputs": [
    {
     "name": "stdout",
     "output_type": "stream",
     "text": [
      "Found 28709 images belonging to 7 classes.\n",
      "Found 3589 images belonging to 7 classes.\n",
      "Epoch 1/200\n",
      "323/323 [==============================] - 226s - loss: 1.8442 - acc: 0.2428 - val_loss: 1.8353 - val_acc: 0.2494\n",
      "Epoch 2/200\n",
      "323/323 [==============================] - 25s - loss: 1.8101 - acc: 0.2487 - val_loss: 1.7976 - val_acc: 0.2809\n",
      "Epoch 3/200\n",
      "323/323 [==============================] - 25s - loss: 1.6670 - acc: 0.3379 - val_loss: 1.5550 - val_acc: 0.3976\n",
      "Epoch 4/200\n",
      "323/323 [==============================] - 25s - loss: 1.5078 - acc: 0.4169 - val_loss: 1.4512 - val_acc: 0.4383\n",
      "Epoch 5/200\n",
      "323/323 [==============================] - 25s - loss: 1.3858 - acc: 0.4686 - val_loss: 1.3014 - val_acc: 0.5110\n",
      "Epoch 6/200\n",
      "323/323 [==============================] - 25s - loss: 1.2950 - acc: 0.5070 - val_loss: 1.2354 - val_acc: 0.5325\n",
      "Epoch 7/200\n",
      "323/323 [==============================] - 25s - loss: 1.2256 - acc: 0.5356 - val_loss: 1.2001 - val_acc: 0.5450\n",
      "Epoch 8/200\n",
      "323/323 [==============================] - 25s - loss: 1.1663 - acc: 0.5561 - val_loss: 1.1607 - val_acc: 0.5539\n",
      "Epoch 9/200\n",
      "323/323 [==============================] - 25s - loss: 1.1143 - acc: 0.5787 - val_loss: 1.1260 - val_acc: 0.5726\n",
      "Epoch 10/200\n",
      "323/323 [==============================] - 24s - loss: 1.0683 - acc: 0.5976 - val_loss: 1.1040 - val_acc: 0.5882\n",
      "Epoch 11/200\n",
      "323/323 [==============================] - 25s - loss: 1.0215 - acc: 0.6163 - val_loss: 1.0872 - val_acc: 0.5926\n",
      "Epoch 12/200\n",
      "323/323 [==============================] - 25s - loss: 0.9747 - acc: 0.6328 - val_loss: 1.0877 - val_acc: 0.5968\n",
      "Epoch 13/200\n",
      "323/323 [==============================] - 25s - loss: 0.9233 - acc: 0.6526 - val_loss: 1.0908 - val_acc: 0.6004\n",
      "Epoch 14/200\n",
      "323/323 [==============================] - 24s - loss: 0.8867 - acc: 0.6705 - val_loss: 1.1066 - val_acc: 0.5974\n",
      "Epoch 15/200\n",
      "323/323 [==============================] - 25s - loss: 0.8350 - acc: 0.6899 - val_loss: 1.1208 - val_acc: 0.6038\n",
      "Epoch 16/200\n",
      "323/323 [==============================] - 25s - loss: 0.7887 - acc: 0.7078 - val_loss: 1.1157 - val_acc: 0.6183\n",
      "Epoch 17/200\n",
      "323/323 [==============================] - 24s - loss: 0.7323 - acc: 0.7305 - val_loss: 1.1414 - val_acc: 0.6141\n",
      "Epoch 18/200\n",
      "323/323 [==============================] - 24s - loss: 0.6970 - acc: 0.7403 - val_loss: 1.1386 - val_acc: 0.6183\n",
      "Epoch 19/200\n",
      "323/323 [==============================] - 24s - loss: 0.6513 - acc: 0.7594 - val_loss: 1.1662 - val_acc: 0.6108\n",
      "Epoch 20/200\n",
      "323/323 [==============================] - 24s - loss: 0.6044 - acc: 0.7753 - val_loss: 1.2487 - val_acc: 0.6119\n",
      "Epoch 21/200\n",
      "323/323 [==============================] - 24s - loss: 0.5720 - acc: 0.7907 - val_loss: 1.3274 - val_acc: 0.6188\n",
      "Epoch 22/200\n",
      "323/323 [==============================] - 24s - loss: 0.5219 - acc: 0.8077 - val_loss: 1.2933 - val_acc: 0.6113\n",
      "Epoch 23/200\n",
      "323/323 [==============================] - 24s - loss: 0.4991 - acc: 0.8181 - val_loss: 1.3135 - val_acc: 0.6261\n",
      "Epoch 24/200\n",
      "323/323 [==============================] - 24s - loss: 0.4545 - acc: 0.8344 - val_loss: 1.4226 - val_acc: 0.6163\n",
      "Epoch 25/200\n",
      "323/323 [==============================] - 24s - loss: 0.4335 - acc: 0.8410 - val_loss: 1.3915 - val_acc: 0.6208\n",
      "Epoch 26/200\n",
      "323/323 [==============================] - 24s - loss: 0.4038 - acc: 0.8524 - val_loss: 1.4213 - val_acc: 0.6124\n",
      "Epoch 27/200\n",
      "323/323 [==============================] - 24s - loss: 0.3740 - acc: 0.8648 - val_loss: 1.4542 - val_acc: 0.6247\n",
      "Epoch 28/200\n",
      "323/323 [==============================] - 24s - loss: 0.3503 - acc: 0.8743 - val_loss: 1.6298 - val_acc: 0.6241\n",
      "Epoch 29/200\n",
      "323/323 [==============================] - 24s - loss: 0.3373 - acc: 0.8776 - val_loss: 1.5303 - val_acc: 0.6160\n",
      "Epoch 30/200\n",
      "323/323 [==============================] - 24s - loss: 0.3152 - acc: 0.8843 - val_loss: 1.5986 - val_acc: 0.6286\n",
      "Epoch 31/200\n",
      "323/323 [==============================] - 24s - loss: 0.2950 - acc: 0.8931 - val_loss: 1.5960 - val_acc: 0.6219\n",
      "Epoch 32/200\n",
      "323/323 [==============================] - 24s - loss: 0.2849 - acc: 0.8974 - val_loss: 1.6099 - val_acc: 0.6163\n",
      "Epoch 33/200\n",
      "323/323 [==============================] - 24s - loss: 0.2622 - acc: 0.9064 - val_loss: 1.6278 - val_acc: 0.6180\n",
      "Epoch 34/200\n",
      "323/323 [==============================] - 24s - loss: 0.2566 - acc: 0.9074 - val_loss: 1.6761 - val_acc: 0.6208\n",
      "Epoch 35/200\n",
      "323/323 [==============================] - 24s - loss: 0.2393 - acc: 0.9146 - val_loss: 1.8108 - val_acc: 0.6258\n",
      "Epoch 36/200\n",
      "323/323 [==============================] - 24s - loss: 0.2275 - acc: 0.9185 - val_loss: 1.7903 - val_acc: 0.6289\n",
      "Epoch 37/200\n",
      "323/323 [==============================] - 24s - loss: 0.2179 - acc: 0.9228 - val_loss: 1.8637 - val_acc: 0.6275\n",
      "Epoch 38/200\n",
      "323/323 [==============================] - 24s - loss: 0.2131 - acc: 0.9249 - val_loss: 1.8253 - val_acc: 0.6266\n",
      "Epoch 39/200\n",
      "323/323 [==============================] - 25s - loss: 0.2009 - acc: 0.9293 - val_loss: 1.7743 - val_acc: 0.6283\n",
      "Epoch 40/200\n",
      "322/323 [============================>.] - ETA: 0s - loss: 0.1940 - acc: 0.9313"
     ]
    }
   ],
   "source": [
    "if is_going_to_train == 1:\n",
    "    early_stopping = EarlyStopping(monitor='val_loss', verbose=1, patience=50)\n",
    "\n",
    "    # fer2013 ------------------------------------------------\n",
    "    train_datagen = ImageDataGenerator()\n",
    "    train_generator = train_datagen.flow_from_directory(\n",
    "        train_path,\n",
    "        target_size=(48, 48),\n",
    "        batch_size=128,\n",
    "        class_mode='sparse',\n",
    "        color_mode='grayscale')\n",
    "\n",
    "    # classes=['Angry', 'Disgust', 'Fear', 'Happy', 'Neutral', 'Sad', 'Surprise']\n",
    "\n",
    "    val_datagen = ImageDataGenerator()\n",
    "    val_generator = val_datagen.flow_from_directory(\n",
    "        val_path,\n",
    "        target_size=(48, 48),\n",
    "        batch_size=97,\n",
    "        class_mode='sparse',\n",
    "        color_mode='grayscale')\n",
    "\n",
    "    history = model.fit_generator(generator=train_generator, steps_per_epoch=323,\n",
    "                        epochs=200, verbose=1, callbacks=[early_stopping],\n",
    "                        validation_data=val_generator, validation_steps=37)"
   ]
  },
  {
   "cell_type": "markdown",
   "metadata": {},
   "source": [
    "# Save model"
   ]
  },
  {
   "cell_type": "code",
   "execution_count": null,
   "metadata": {
    "collapsed": true
   },
   "outputs": [],
   "source": [
    "if is_going_to_train == 1:\n",
    "    jsonstring = model.to_json()\n",
    "    with open(final_model_json_path,'w') as f:\n",
    "       f.write(jsonstring)\n",
    "    model.save_weights(final_model_path, overwrite=True)\n",
    "    \n",
    "    jsonstring = base_model.to_json()\n",
    "    with open(base_model_json_path,'w') as f:\n",
    "       f.write(jsonstring)\n",
    "    base_model.save_weights(base_model_path, overwrite=True)"
   ]
  },
  {
   "cell_type": "markdown",
   "metadata": {},
   "source": [
    "# Load model & review loaded architecture"
   ]
  },
  {
   "cell_type": "code",
   "execution_count": null,
   "metadata": {},
   "outputs": [],
   "source": [
    "if is_going_to_train == 0:\n",
    "    with open(final_model_json_path, 'r') as f:\n",
    "        json_string = f.read()\n",
    "    model = model_from_json(json_string)\n",
    "    model.load_weights(final_model_path)\n",
    "\n",
    "    with open(base_model_json_path, 'r') as f:\n",
    "        json_string = f.read()\n",
    "    base_model = model_from_json(json_string)\n",
    "    base_model.load_weights(base_model_path)\n",
    "\n",
    "    print(model.summary())"
   ]
  },
  {
   "cell_type": "markdown",
   "metadata": {},
   "source": [
    "# Evaluation"
   ]
  },
  {
   "cell_type": "code",
   "execution_count": null,
   "metadata": {
    "scrolled": true
   },
   "outputs": [],
   "source": [
    "# AFEW17 ------------------------------------------------\n",
    "val_datagen_afew = ImageDataGenerator()\n",
    "val_generator_afew = val_datagen_afew.flow_from_directory(\n",
    "    val_path_afew,\n",
    "    target_size=(48, 48),\n",
    "    batch_size=1,\n",
    "    class_mode='sparse',\n",
    "    color_mode='grayscale')\n",
    "\n",
    "# model.evaluate_generator(generator=val_generator_afew, steps=372)\n",
    "model.evaluate_generator(generator=val_generator_afew, steps=3589)"
   ]
  },
  {
   "cell_type": "code",
   "execution_count": null,
   "metadata": {
    "scrolled": false
   },
   "outputs": [],
   "source": [
    "# SVG(model_to_dot(model).create(prog='dot', format='svg'))\n",
    "# plot_model(model, to_file='model.png')"
   ]
  },
  {
   "cell_type": "markdown",
   "metadata": {},
   "source": [
    "# Training history"
   ]
  },
  {
   "cell_type": "code",
   "execution_count": null,
   "metadata": {
    "collapsed": true
   },
   "outputs": [],
   "source": [
    "if is_going_to_train == 1:\n",
    "    with open(his_path, 'wb') as f:\n",
    "        pickle.dump(history.history, f)\n",
    "    history_ = history.history\n",
    "else:\n",
    "    file = open(his_path,'rb')\n",
    "    history_ = pickle.load(file)"
   ]
  },
  {
   "cell_type": "code",
   "execution_count": null,
   "metadata": {},
   "outputs": [],
   "source": [
    "# list all data in history\n",
    "print(history_.keys())\n",
    "# summarize history for accuracy\n",
    "plt.plot(history_['acc'])\n",
    "plt.plot(history_['val_acc'])\n",
    "plt.title('model accuracy')\n",
    "plt.ylabel('accuracy')\n",
    "plt.xlabel('epoch')\n",
    "plt.legend(['train', 'test'], loc='upper left')\n",
    "plt.show()\n",
    "# summarize history for loss\n",
    "plt.plot(history_['loss'])\n",
    "plt.plot(history_['val_loss'])\n",
    "plt.title('model loss')\n",
    "plt.ylabel('loss')\n",
    "plt.xlabel('epoch')\n",
    "plt.legend(['train', 'test'], loc='upper left')\n",
    "plt.show()"
   ]
  }
 ],
 "metadata": {
  "anaconda-cloud": {},
  "kernelspec": {
   "display_name": "Python [conda root]",
   "language": "python",
   "name": "conda-root-py"
  },
  "language_info": {
   "codemirror_mode": {
    "name": "ipython",
    "version": 3
   },
   "file_extension": ".py",
   "mimetype": "text/x-python",
   "name": "python",
   "nbconvert_exporter": "python",
   "pygments_lexer": "ipython3",
   "version": "3.5.2"
  }
 },
 "nbformat": 4,
 "nbformat_minor": 1
}
