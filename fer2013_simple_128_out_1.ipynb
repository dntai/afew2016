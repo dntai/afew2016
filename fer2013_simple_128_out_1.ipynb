{
 "cells": [
  {
   "cell_type": "markdown",
   "metadata": {},
   "source": [
    "# Import libraries"
   ]
  },
  {
   "cell_type": "code",
   "execution_count": 21,
   "metadata": {},
   "outputs": [],
   "source": [
    "from tensorflow.contrib.keras.python.keras import applications, layers\n",
    "from tensorflow.contrib.keras.python.keras.preprocessing.image import ImageDataGenerator\n",
    "from tensorflow.contrib.keras.python.keras import optimizers\n",
    "from tensorflow.contrib.keras.python.keras.models import Sequential, Model\n",
    "from tensorflow.contrib.keras.python.keras.layers import Dropout, Flatten, Dense, Input, ZeroPadding2D, Conv2D, BatchNormalization, Activation, MaxPooling2D, AveragePooling2D, GlobalAveragePooling2D\n",
    "from tensorflow.contrib.keras.python.keras.callbacks import EarlyStopping\n",
    "from tensorflow.contrib.keras.python.keras.optimizers import Adam, RMSprop\n",
    "\n",
    "from tensorflow.contrib.keras.python.keras.applications.imagenet_utils import _obtain_input_shape\n",
    "from tensorflow.contrib.keras.python.keras import backend as K\n",
    "\n",
    "from keras.layers import LSTM\n",
    "from keras.layers.embeddings import Embedding\n",
    "from keras.preprocessing import sequence\n",
    "\n",
    "from residual_funcs import *\n",
    "\n",
    "import numpy as np\n",
    "import matplotlib.pyplot as plt\n",
    "\n",
    "# Visualization\n",
    "from IPython.display import SVG\n",
    "from keras.utils.vis_utils import model_to_dot\n",
    "from keras.utils import plot_model\n",
    "\n",
    "import pickle"
   ]
  },
  {
   "cell_type": "code",
   "execution_count": 2,
   "metadata": {
    "collapsed": true
   },
   "outputs": [],
   "source": [
    "def get_emotion(ohv):\n",
    "    if ohv.shape[0] == 1:\n",
    "        indx = ohv[0]\n",
    "    else:\n",
    "        indx = np.argmax(ohv)\n",
    "        \n",
    "    if indx == 0:\n",
    "        return 'angry'\n",
    "    elif indx == 1:\n",
    "        return 'disgust'\n",
    "    elif indx == 2:\n",
    "        return 'fear'\n",
    "    elif indx == 3:\n",
    "        return 'happy'\n",
    "    elif indx == 4:\n",
    "        return 'sad'\n",
    "    elif indx == 5:\n",
    "        return 'surprise'\n",
    "    elif indx == 6:\n",
    "        return 'neutral'"
   ]
  },
  {
   "cell_type": "markdown",
   "metadata": {},
   "source": [
    "# CNN"
   ]
  },
  {
   "cell_type": "code",
   "execution_count": 3,
   "metadata": {
    "collapsed": true
   },
   "outputs": [],
   "source": [
    "def CNN():\n",
    "    base_model = Sequential()\n",
    "\n",
    "    base_model.add(Conv2D(64, (3, 3), activation='relu', padding='same', input_shape = (48, 48, 1)))\n",
    "\n",
    "    base_model.add(Conv2D(64, (3, 3), activation='relu', padding='same'))\n",
    "\n",
    "    base_model.add(MaxPooling2D(pool_size=(2, 2)))\n",
    "    base_model.add(Dropout(0.2))\n",
    "\n",
    "    base_model.add(Conv2D(128, (3, 3), activation='relu', padding='same'))\n",
    "\n",
    "    base_model.add(Conv2D(128, (3, 3), activation='relu', padding='same'))\n",
    "    \n",
    "    base_model.add(MaxPooling2D(pool_size=(2, 2)))\n",
    "    base_model.add(Dropout(0.2))\n",
    "\n",
    "    base_model.add(Conv2D(128, (3, 3), activation='relu', padding='same'))\n",
    "    \n",
    "    base_model.add(Conv2D(128, (3, 3), activation='relu', padding='same'))\n",
    "    \n",
    "    base_model.add(MaxPooling2D(pool_size=(2, 2)))\n",
    "    base_model.add(Dropout(0.2))\n",
    "\n",
    "    base_model.add(Conv2D(256, (3, 3), activation='relu', padding='same'))\n",
    "    \n",
    "    base_model.add(Conv2D(256, (3, 3), activation='relu', padding='same'))\n",
    "\n",
    "    base_model.add(MaxPooling2D(pool_size=(2, 2)))\n",
    "    base_model.add(Dropout(0.2))\n",
    "    \n",
    "    base_model.add(Conv2D(256, (3, 3), activation='relu', padding='same'))\n",
    "    \n",
    "    base_model.add(Conv2D(256, (3, 3), activation='relu', padding='same'))\n",
    "\n",
    "    base_model.add(MaxPooling2D(pool_size=(2, 2)))\n",
    "    base_model.add(Dropout(0.2))\n",
    "\n",
    "    base_model.add(Flatten())\n",
    "    \n",
    "    return base_model.output, base_model.input, base_model"
   ]
  },
  {
   "cell_type": "markdown",
   "metadata": {
    "collapsed": true
   },
   "source": [
    "# FC layer"
   ]
  },
  {
   "cell_type": "code",
   "execution_count": 4,
   "metadata": {},
   "outputs": [
    {
     "data": {
      "text/plain": [
       "<tf.Tensor 'flatten_1/Reshape:0' shape=(?, 256) dtype=float32>"
      ]
     },
     "execution_count": 4,
     "metadata": {},
     "output_type": "execute_result"
    }
   ],
   "source": [
    "# add a global spatial average pooling layer\n",
    "out, inp, base_model = CNN()\n",
    "\n",
    "out"
   ]
  },
  {
   "cell_type": "code",
   "execution_count": 5,
   "metadata": {
    "collapsed": true
   },
   "outputs": [],
   "source": [
    "# let's add 2 fully-connected layers\n",
    "x = Dense(512, activation='relu')(out)\n",
    "x = Dropout(0.2)(x)\n",
    "# Softmax classifier\n",
    "predictions = Dense(7, activation='softmax')(x)"
   ]
  },
  {
   "cell_type": "code",
   "execution_count": 6,
   "metadata": {
    "collapsed": true
   },
   "outputs": [],
   "source": [
    "# this is the model we will train\n",
    "model = Model(inputs=inp, outputs=predictions)"
   ]
  },
  {
   "cell_type": "code",
   "execution_count": 7,
   "metadata": {},
   "outputs": [
    {
     "name": "stdout",
     "output_type": "stream",
     "text": [
      "_________________________________________________________________\n",
      "Layer (type)                 Output Shape              Param #   \n",
      "=================================================================\n",
      "conv2d_1_input (InputLayer)  (None, 48, 48, 1)         0         \n",
      "_________________________________________________________________\n",
      "conv2d_1 (Conv2D)            (None, 48, 48, 64)        640       \n",
      "_________________________________________________________________\n",
      "conv2d_2 (Conv2D)            (None, 48, 48, 64)        36928     \n",
      "_________________________________________________________________\n",
      "max_pooling2d_1 (MaxPooling2 (None, 24, 24, 64)        0         \n",
      "_________________________________________________________________\n",
      "dropout_1 (Dropout)          (None, 24, 24, 64)        0         \n",
      "_________________________________________________________________\n",
      "conv2d_3 (Conv2D)            (None, 24, 24, 128)       73856     \n",
      "_________________________________________________________________\n",
      "conv2d_4 (Conv2D)            (None, 24, 24, 128)       147584    \n",
      "_________________________________________________________________\n",
      "max_pooling2d_2 (MaxPooling2 (None, 12, 12, 128)       0         \n",
      "_________________________________________________________________\n",
      "dropout_2 (Dropout)          (None, 12, 12, 128)       0         \n",
      "_________________________________________________________________\n",
      "conv2d_5 (Conv2D)            (None, 12, 12, 128)       147584    \n",
      "_________________________________________________________________\n",
      "conv2d_6 (Conv2D)            (None, 12, 12, 128)       147584    \n",
      "_________________________________________________________________\n",
      "max_pooling2d_3 (MaxPooling2 (None, 6, 6, 128)         0         \n",
      "_________________________________________________________________\n",
      "dropout_3 (Dropout)          (None, 6, 6, 128)         0         \n",
      "_________________________________________________________________\n",
      "conv2d_7 (Conv2D)            (None, 6, 6, 256)         295168    \n",
      "_________________________________________________________________\n",
      "conv2d_8 (Conv2D)            (None, 6, 6, 256)         590080    \n",
      "_________________________________________________________________\n",
      "max_pooling2d_4 (MaxPooling2 (None, 3, 3, 256)         0         \n",
      "_________________________________________________________________\n",
      "dropout_4 (Dropout)          (None, 3, 3, 256)         0         \n",
      "_________________________________________________________________\n",
      "conv2d_9 (Conv2D)            (None, 3, 3, 256)         590080    \n",
      "_________________________________________________________________\n",
      "conv2d_10 (Conv2D)           (None, 3, 3, 256)         590080    \n",
      "_________________________________________________________________\n",
      "max_pooling2d_5 (MaxPooling2 (None, 1, 1, 256)         0         \n",
      "_________________________________________________________________\n",
      "dropout_5 (Dropout)          (None, 1, 1, 256)         0         \n",
      "_________________________________________________________________\n",
      "flatten_1 (Flatten)          (None, 256)               0         \n",
      "_________________________________________________________________\n",
      "dense_1 (Dense)              (None, 512)               131584    \n",
      "_________________________________________________________________\n",
      "dropout_6 (Dropout)          (None, 512)               0         \n",
      "_________________________________________________________________\n",
      "dense_2 (Dense)              (None, 7)                 3591      \n",
      "=================================================================\n",
      "Total params: 2,754,759.0\n",
      "Trainable params: 2,754,759.0\n",
      "Non-trainable params: 0.0\n",
      "_________________________________________________________________\n",
      "None\n"
     ]
    }
   ],
   "source": [
    "print(model.summary())"
   ]
  },
  {
   "cell_type": "markdown",
   "metadata": {},
   "source": [
    "# Compile model"
   ]
  },
  {
   "cell_type": "code",
   "execution_count": 8,
   "metadata": {
    "collapsed": true
   },
   "outputs": [],
   "source": [
    "# compile the model (should be done *after* setting layers to non-trainable)\n",
    "opt = Adam(lr=0.0001)\n",
    "model.compile(optimizer=opt, loss='sparse_categorical_crossentropy', metrics=['accuracy'])"
   ]
  },
  {
   "cell_type": "markdown",
   "metadata": {},
   "source": [
    "# Fit model"
   ]
  },
  {
   "cell_type": "code",
   "execution_count": 9,
   "metadata": {
    "scrolled": false
   },
   "outputs": [
    {
     "name": "stdout",
     "output_type": "stream",
     "text": [
      "Found 28709 images belonging to 7 classes.\n",
      "Found 3589 images belonging to 7 classes.\n",
      "Epoch 1/200\n",
      "323/323 [==============================] - 36s - loss: 1.8310 - acc: 0.2439 - val_loss: 1.8418 - val_acc: 0.2494\n",
      "Epoch 2/200\n",
      "323/323 [==============================] - 30s - loss: 1.7761 - acc: 0.2686 - val_loss: 1.6246 - val_acc: 0.3558\n",
      "Epoch 3/200\n",
      "323/323 [==============================] - 28s - loss: 1.5384 - acc: 0.3981 - val_loss: 1.4345 - val_acc: 0.4550\n",
      "Epoch 4/200\n",
      "323/323 [==============================] - 27s - loss: 1.3855 - acc: 0.4660 - val_loss: 1.3022 - val_acc: 0.4999\n",
      "Epoch 5/200\n",
      "323/323 [==============================] - 27s - loss: 1.2865 - acc: 0.5087 - val_loss: 1.2172 - val_acc: 0.5300\n",
      "Epoch 6/200\n",
      "323/323 [==============================] - 25s - loss: 1.2031 - acc: 0.5442 - val_loss: 1.1989 - val_acc: 0.5469\n",
      "Epoch 7/200\n",
      "323/323 [==============================] - 25s - loss: 1.1451 - acc: 0.5659 - val_loss: 1.1385 - val_acc: 0.5737\n",
      "Epoch 8/200\n",
      "323/323 [==============================] - 25s - loss: 1.0898 - acc: 0.5901 - val_loss: 1.1191 - val_acc: 0.5731\n",
      "Epoch 9/200\n",
      "323/323 [==============================] - 25s - loss: 1.0444 - acc: 0.6059 - val_loss: 1.0784 - val_acc: 0.5965\n",
      "Epoch 10/200\n",
      "323/323 [==============================] - 25s - loss: 0.9944 - acc: 0.6280 - val_loss: 1.0964 - val_acc: 0.6007\n",
      "Epoch 11/200\n",
      "323/323 [==============================] - 25s - loss: 0.9577 - acc: 0.6407 - val_loss: 1.0718 - val_acc: 0.5938\n",
      "Epoch 12/200\n",
      "323/323 [==============================] - 25s - loss: 0.9090 - acc: 0.6588 - val_loss: 1.0998 - val_acc: 0.6069\n",
      "Epoch 13/200\n",
      "323/323 [==============================] - 24s - loss: 0.8698 - acc: 0.6756 - val_loss: 1.0680 - val_acc: 0.6116\n",
      "Epoch 14/200\n",
      "323/323 [==============================] - 24s - loss: 0.8197 - acc: 0.6926 - val_loss: 1.0943 - val_acc: 0.6160\n",
      "Epoch 15/200\n",
      "323/323 [==============================] - 24s - loss: 0.7682 - acc: 0.7142 - val_loss: 1.0955 - val_acc: 0.6099\n",
      "Epoch 16/200\n",
      "323/323 [==============================] - 24s - loss: 0.7320 - acc: 0.7282 - val_loss: 1.0920 - val_acc: 0.6202\n",
      "Epoch 17/200\n",
      "323/323 [==============================] - 24s - loss: 0.6757 - acc: 0.7496 - val_loss: 1.1415 - val_acc: 0.6219\n",
      "Epoch 18/200\n",
      "323/323 [==============================] - 24s - loss: 0.6406 - acc: 0.7628 - val_loss: 1.1470 - val_acc: 0.6219\n",
      "Epoch 19/200\n",
      "323/323 [==============================] - 24s - loss: 0.5935 - acc: 0.7810 - val_loss: 1.2421 - val_acc: 0.6358\n",
      "Epoch 20/200\n",
      "323/323 [==============================] - 24s - loss: 0.5654 - acc: 0.7911 - val_loss: 1.2254 - val_acc: 0.6278\n",
      "Epoch 21/200\n",
      "323/323 [==============================] - 24s - loss: 0.5221 - acc: 0.8061 - val_loss: 1.3134 - val_acc: 0.6272\n",
      "Epoch 22/200\n",
      "323/323 [==============================] - 24s - loss: 0.4801 - acc: 0.8220 - val_loss: 1.3471 - val_acc: 0.6294\n",
      "Epoch 23/200\n",
      "323/323 [==============================] - 24s - loss: 0.4660 - acc: 0.8289 - val_loss: 1.3437 - val_acc: 0.6213\n",
      "Epoch 24/200\n",
      "323/323 [==============================] - 23s - loss: 0.4198 - acc: 0.8451 - val_loss: 1.3802 - val_acc: 0.6330\n",
      "Epoch 25/200\n",
      "323/323 [==============================] - 24s - loss: 0.4068 - acc: 0.8510 - val_loss: 1.4207 - val_acc: 0.6264\n",
      "Epoch 26/200\n",
      "323/323 [==============================] - 23s - loss: 0.3733 - acc: 0.8632 - val_loss: 1.4507 - val_acc: 0.6328\n",
      "Epoch 27/200\n",
      "323/323 [==============================] - 23s - loss: 0.3592 - acc: 0.8678 - val_loss: 1.4674 - val_acc: 0.6250\n",
      "Epoch 28/200\n",
      "323/323 [==============================] - 23s - loss: 0.3289 - acc: 0.8804 - val_loss: 1.5504 - val_acc: 0.6314\n",
      "Epoch 29/200\n",
      "323/323 [==============================] - 24s - loss: 0.3164 - acc: 0.8846 - val_loss: 1.5442 - val_acc: 0.6356\n",
      "Epoch 30/200\n",
      "323/323 [==============================] - 23s - loss: 0.2938 - acc: 0.8942 - val_loss: 1.6220 - val_acc: 0.6264\n",
      "Epoch 31/200\n",
      "323/323 [==============================] - 23s - loss: 0.2785 - acc: 0.8995 - val_loss: 1.6084 - val_acc: 0.6333\n",
      "Epoch 32/200\n",
      "323/323 [==============================] - 23s - loss: 0.2634 - acc: 0.9047 - val_loss: 1.5620 - val_acc: 0.6381\n",
      "Epoch 33/200\n",
      "323/323 [==============================] - 23s - loss: 0.2530 - acc: 0.9091 - val_loss: 1.7189 - val_acc: 0.6358\n",
      "Epoch 34/200\n",
      "323/323 [==============================] - 23s - loss: 0.2421 - acc: 0.9131 - val_loss: 1.6536 - val_acc: 0.6252\n",
      "Epoch 35/200\n",
      "323/323 [==============================] - 23s - loss: 0.2295 - acc: 0.9168 - val_loss: 1.8308 - val_acc: 0.6350\n",
      "Epoch 36/200\n",
      "323/323 [==============================] - 23s - loss: 0.2228 - acc: 0.9190 - val_loss: 1.7259 - val_acc: 0.6247\n",
      "Epoch 37/200\n",
      "323/323 [==============================] - 23s - loss: 0.2058 - acc: 0.9269 - val_loss: 1.8532 - val_acc: 0.6319\n",
      "Epoch 38/200\n",
      "323/323 [==============================] - 23s - loss: 0.2061 - acc: 0.9267 - val_loss: 1.8454 - val_acc: 0.6406\n",
      "Epoch 39/200\n",
      "323/323 [==============================] - 24s - loss: 0.1945 - acc: 0.9313 - val_loss: 1.7858 - val_acc: 0.6358\n",
      "Epoch 40/200\n",
      "323/323 [==============================] - 23s - loss: 0.1862 - acc: 0.9347 - val_loss: 1.7690 - val_acc: 0.6403\n",
      "Epoch 41/200\n",
      "323/323 [==============================] - 23s - loss: 0.1802 - acc: 0.9363 - val_loss: 1.9808 - val_acc: 0.6278\n",
      "Epoch 42/200\n",
      "323/323 [==============================] - 23s - loss: 0.1766 - acc: 0.9385 - val_loss: 1.9040 - val_acc: 0.6392\n",
      "Epoch 43/200\n",
      "323/323 [==============================] - 23s - loss: 0.1634 - acc: 0.9430 - val_loss: 1.9460 - val_acc: 0.6356\n",
      "Epoch 44/200\n",
      "323/323 [==============================] - 23s - loss: 0.1586 - acc: 0.9446 - val_loss: 2.0296 - val_acc: 0.6308\n",
      "Epoch 45/200\n",
      "323/323 [==============================] - 23s - loss: 0.1578 - acc: 0.9451 - val_loss: 1.8558 - val_acc: 0.6403\n",
      "Epoch 46/200\n",
      "323/323 [==============================] - 24s - loss: 0.1575 - acc: 0.9461 - val_loss: 1.9481 - val_acc: 0.6367\n",
      "Epoch 47/200\n",
      "323/323 [==============================] - 24s - loss: 0.1463 - acc: 0.9489 - val_loss: 1.9954 - val_acc: 0.6330\n",
      "Epoch 48/200\n",
      "323/323 [==============================] - 23s - loss: 0.1419 - acc: 0.9500 - val_loss: 1.8647 - val_acc: 0.6317\n",
      "Epoch 49/200\n",
      "323/323 [==============================] - 23s - loss: 0.1382 - acc: 0.9511 - val_loss: 1.9603 - val_acc: 0.6347\n",
      "Epoch 50/200\n",
      "323/323 [==============================] - 24s - loss: 0.1339 - acc: 0.9543 - val_loss: 2.0150 - val_acc: 0.6336\n",
      "Epoch 51/200\n",
      "323/323 [==============================] - 23s - loss: 0.1321 - acc: 0.9541 - val_loss: 2.0455 - val_acc: 0.6358\n",
      "Epoch 52/200\n",
      "323/323 [==============================] - 23s - loss: 0.1261 - acc: 0.9558 - val_loss: 2.0958 - val_acc: 0.6372\n",
      "Epoch 53/200\n",
      "323/323 [==============================] - 24s - loss: 0.1272 - acc: 0.9565 - val_loss: 2.0295 - val_acc: 0.6336\n",
      "Epoch 54/200\n",
      "323/323 [==============================] - 24s - loss: 0.1187 - acc: 0.9588 - val_loss: 2.1374 - val_acc: 0.6344\n",
      "Epoch 55/200\n",
      "323/323 [==============================] - 23s - loss: 0.1202 - acc: 0.9589 - val_loss: 2.1445 - val_acc: 0.6383\n",
      "Epoch 56/200\n",
      "323/323 [==============================] - 23s - loss: 0.1120 - acc: 0.9612 - val_loss: 2.1028 - val_acc: 0.6361\n",
      "Epoch 57/200\n",
      "323/323 [==============================] - 23s - loss: 0.1106 - acc: 0.9617 - val_loss: 2.0711 - val_acc: 0.6386\n",
      "Epoch 58/200\n",
      "323/323 [==============================] - 23s - loss: 0.1087 - acc: 0.9627 - val_loss: 2.2061 - val_acc: 0.6439\n",
      "Epoch 59/200\n",
      "323/323 [==============================] - 24s - loss: 0.1095 - acc: 0.9620 - val_loss: 2.1423 - val_acc: 0.6408\n",
      "Epoch 60/200\n",
      "323/323 [==============================] - 24s - loss: 0.1051 - acc: 0.9628 - val_loss: 2.1653 - val_acc: 0.6344\n",
      "Epoch 61/200\n",
      "323/323 [==============================] - 23s - loss: 0.0985 - acc: 0.9661 - val_loss: 2.2239 - val_acc: 0.6400\n",
      "Epoch 62/200\n",
      "323/323 [==============================] - 23s - loss: 0.1049 - acc: 0.9632 - val_loss: 2.1354 - val_acc: 0.6328\n",
      "Epoch 63/200\n",
      "323/323 [==============================] - 24s - loss: 0.1010 - acc: 0.9657 - val_loss: 2.2104 - val_acc: 0.6369\n",
      "Epoch 64/200\n",
      "323/323 [==============================] - 23s - loss: 0.0958 - acc: 0.9669 - val_loss: 2.1314 - val_acc: 0.6411\n",
      "Epoch 00063: early stopping\n"
     ]
    }
   ],
   "source": [
    "early_stopping = EarlyStopping(monitor='val_loss', verbose=1, patience=50)\n",
    "\n",
    "# train_path = 'E:/EmotiW2017/Train_AFEW/face_images'\n",
    "# val_path = 'E:/EmotiW2017/Val_AFEW/face_images'\n",
    "\n",
    "train_path = './data/fer2013/train'\n",
    "val_path = './data/fer2013/test1'\n",
    "\n",
    "# fer2013 ------------------------------------------------\n",
    "train_datagen = ImageDataGenerator()\n",
    "train_generator = train_datagen.flow_from_directory(\n",
    "    train_path,\n",
    "    target_size=(48, 48),\n",
    "    batch_size=128,\n",
    "    class_mode='sparse',\n",
    "    color_mode='grayscale')\n",
    "\n",
    "# classes=['Angry', 'Disgust', 'Fear', 'Happy', 'Neutral', 'Sad', 'Surprise']\n",
    "\n",
    "val_datagen = ImageDataGenerator()\n",
    "val_generator = val_datagen.flow_from_directory(\n",
    "    val_path,\n",
    "    target_size=(48, 48),\n",
    "    batch_size=97,\n",
    "    class_mode='sparse',\n",
    "    color_mode='grayscale')\n",
    "\n",
    "history = model.fit_generator(generator=train_generator, steps_per_epoch=323,\n",
    "                    epochs=200, verbose=1, callbacks=[early_stopping],\n",
    "                    validation_data=val_generator, validation_steps=37)"
   ]
  },
  {
   "cell_type": "code",
   "execution_count": 10,
   "metadata": {
    "scrolled": true
   },
   "outputs": [
    {
     "name": "stdout",
     "output_type": "stream",
     "text": [
      "Found 372 images belonging to 7 classes.\n"
     ]
    },
    {
     "data": {
      "text/plain": [
       "[3.5917786239506793, 0.32543884090275843]"
      ]
     },
     "execution_count": 10,
     "metadata": {},
     "output_type": "execute_result"
    }
   ],
   "source": [
    "val_path_afew = 'E:/EmotiW2017/Val_AFEW/face_images'\n",
    "# val_path_afew = './data/fer2013/test1'\n",
    "# val_path_afew = './data/fer2013/test2'\n",
    "\n",
    "# AFEW17 ------------------------------------------------\n",
    "val_datagen_afew = ImageDataGenerator()\n",
    "val_generator_afew = val_datagen_afew.flow_from_directory(\n",
    "    val_path_afew,\n",
    "    target_size=(48, 48),\n",
    "    batch_size=1,\n",
    "    class_mode='sparse',\n",
    "    color_mode='grayscale')\n",
    "\n",
    "# model.evaluate_generator(generator=val_generator_afew, steps=372)\n",
    "model.evaluate_generator(generator=val_generator_afew, steps=3589)"
   ]
  },
  {
   "cell_type": "code",
   "execution_count": 11,
   "metadata": {
    "collapsed": true
   },
   "outputs": [],
   "source": [
    "model.save_weights('fer2013_simple_128_out_testing_1.h5')\n",
    "base_model.save_weights('fer2013_simple_128_out_testing_nontop_1.h5')"
   ]
  },
  {
   "cell_type": "code",
   "execution_count": 12,
   "metadata": {
    "collapsed": true
   },
   "outputs": [],
   "source": [
    "model.load_weights('fer2013_simple_128_out_testing_1.h5')"
   ]
  },
  {
   "cell_type": "code",
   "execution_count": 13,
   "metadata": {
    "scrolled": false
   },
   "outputs": [
    {
     "name": "stdout",
     "output_type": "stream",
     "text": [
      "_________________________________________________________________\n",
      "Layer (type)                 Output Shape              Param #   \n",
      "=================================================================\n",
      "conv2d_1_input (InputLayer)  (None, 48, 48, 1)         0         \n",
      "_________________________________________________________________\n",
      "conv2d_1 (Conv2D)            (None, 48, 48, 64)        640       \n",
      "_________________________________________________________________\n",
      "conv2d_2 (Conv2D)            (None, 48, 48, 64)        36928     \n",
      "_________________________________________________________________\n",
      "max_pooling2d_1 (MaxPooling2 (None, 24, 24, 64)        0         \n",
      "_________________________________________________________________\n",
      "dropout_1 (Dropout)          (None, 24, 24, 64)        0         \n",
      "_________________________________________________________________\n",
      "conv2d_3 (Conv2D)            (None, 24, 24, 128)       73856     \n",
      "_________________________________________________________________\n",
      "conv2d_4 (Conv2D)            (None, 24, 24, 128)       147584    \n",
      "_________________________________________________________________\n",
      "max_pooling2d_2 (MaxPooling2 (None, 12, 12, 128)       0         \n",
      "_________________________________________________________________\n",
      "dropout_2 (Dropout)          (None, 12, 12, 128)       0         \n",
      "_________________________________________________________________\n",
      "conv2d_5 (Conv2D)            (None, 12, 12, 128)       147584    \n",
      "_________________________________________________________________\n",
      "conv2d_6 (Conv2D)            (None, 12, 12, 128)       147584    \n",
      "_________________________________________________________________\n",
      "max_pooling2d_3 (MaxPooling2 (None, 6, 6, 128)         0         \n",
      "_________________________________________________________________\n",
      "dropout_3 (Dropout)          (None, 6, 6, 128)         0         \n",
      "_________________________________________________________________\n",
      "conv2d_7 (Conv2D)            (None, 6, 6, 256)         295168    \n",
      "_________________________________________________________________\n",
      "conv2d_8 (Conv2D)            (None, 6, 6, 256)         590080    \n",
      "_________________________________________________________________\n",
      "max_pooling2d_4 (MaxPooling2 (None, 3, 3, 256)         0         \n",
      "_________________________________________________________________\n",
      "dropout_4 (Dropout)          (None, 3, 3, 256)         0         \n",
      "_________________________________________________________________\n",
      "conv2d_9 (Conv2D)            (None, 3, 3, 256)         590080    \n",
      "_________________________________________________________________\n",
      "conv2d_10 (Conv2D)           (None, 3, 3, 256)         590080    \n",
      "_________________________________________________________________\n",
      "max_pooling2d_5 (MaxPooling2 (None, 1, 1, 256)         0         \n",
      "_________________________________________________________________\n",
      "dropout_5 (Dropout)          (None, 1, 1, 256)         0         \n",
      "_________________________________________________________________\n",
      "flatten_1 (Flatten)          (None, 256)               0         \n",
      "_________________________________________________________________\n",
      "dense_1 (Dense)              (None, 512)               131584    \n",
      "_________________________________________________________________\n",
      "dropout_6 (Dropout)          (None, 512)               0         \n",
      "_________________________________________________________________\n",
      "dense_2 (Dense)              (None, 7)                 3591      \n",
      "=================================================================\n",
      "Total params: 2,754,759.0\n",
      "Trainable params: 2,754,759.0\n",
      "Non-trainable params: 0.0\n",
      "_________________________________________________________________\n",
      "None\n"
     ]
    }
   ],
   "source": [
    "print(model.summary())"
   ]
  },
  {
   "cell_type": "code",
   "execution_count": 18,
   "metadata": {},
   "outputs": [],
   "source": [
    "base_model.load_weights('fer2013_simple_128_out_testing_nontop_1.h5')"
   ]
  },
  {
   "cell_type": "code",
   "execution_count": 19,
   "metadata": {},
   "outputs": [
    {
     "name": "stdout",
     "output_type": "stream",
     "text": [
      "_________________________________________________________________\n",
      "Layer (type)                 Output Shape              Param #   \n",
      "=================================================================\n",
      "conv2d_1 (Conv2D)            (None, 48, 48, 64)        640       \n",
      "_________________________________________________________________\n",
      "conv2d_2 (Conv2D)            (None, 48, 48, 64)        36928     \n",
      "_________________________________________________________________\n",
      "max_pooling2d_1 (MaxPooling2 (None, 24, 24, 64)        0         \n",
      "_________________________________________________________________\n",
      "dropout_1 (Dropout)          (None, 24, 24, 64)        0         \n",
      "_________________________________________________________________\n",
      "conv2d_3 (Conv2D)            (None, 24, 24, 128)       73856     \n",
      "_________________________________________________________________\n",
      "conv2d_4 (Conv2D)            (None, 24, 24, 128)       147584    \n",
      "_________________________________________________________________\n",
      "max_pooling2d_2 (MaxPooling2 (None, 12, 12, 128)       0         \n",
      "_________________________________________________________________\n",
      "dropout_2 (Dropout)          (None, 12, 12, 128)       0         \n",
      "_________________________________________________________________\n",
      "conv2d_5 (Conv2D)            (None, 12, 12, 128)       147584    \n",
      "_________________________________________________________________\n",
      "conv2d_6 (Conv2D)            (None, 12, 12, 128)       147584    \n",
      "_________________________________________________________________\n",
      "max_pooling2d_3 (MaxPooling2 (None, 6, 6, 128)         0         \n",
      "_________________________________________________________________\n",
      "dropout_3 (Dropout)          (None, 6, 6, 128)         0         \n",
      "_________________________________________________________________\n",
      "conv2d_7 (Conv2D)            (None, 6, 6, 256)         295168    \n",
      "_________________________________________________________________\n",
      "conv2d_8 (Conv2D)            (None, 6, 6, 256)         590080    \n",
      "_________________________________________________________________\n",
      "max_pooling2d_4 (MaxPooling2 (None, 3, 3, 256)         0         \n",
      "_________________________________________________________________\n",
      "dropout_4 (Dropout)          (None, 3, 3, 256)         0         \n",
      "_________________________________________________________________\n",
      "conv2d_9 (Conv2D)            (None, 3, 3, 256)         590080    \n",
      "_________________________________________________________________\n",
      "conv2d_10 (Conv2D)           (None, 3, 3, 256)         590080    \n",
      "_________________________________________________________________\n",
      "max_pooling2d_5 (MaxPooling2 (None, 1, 1, 256)         0         \n",
      "_________________________________________________________________\n",
      "dropout_5 (Dropout)          (None, 1, 1, 256)         0         \n",
      "_________________________________________________________________\n",
      "flatten_1 (Flatten)          (None, 256)               0         \n",
      "=================================================================\n",
      "Total params: 2,619,584.0\n",
      "Trainable params: 2,619,584.0\n",
      "Non-trainable params: 0.0\n",
      "_________________________________________________________________\n",
      "None\n"
     ]
    }
   ],
   "source": [
    "print(base_model.summary())"
   ]
  },
  {
   "cell_type": "code",
   "execution_count": 14,
   "metadata": {
    "scrolled": false
   },
   "outputs": [
    {
     "data": {
      "image/svg+xml": [
       "<svg height=\"1797pt\" viewBox=\"0.00 0.00 217.00 1797.00\" width=\"217pt\" xmlns=\"http://www.w3.org/2000/svg\" xmlns:xlink=\"http://www.w3.org/1999/xlink\">\n",
       "<g class=\"graph\" id=\"graph0\" transform=\"scale(1 1) rotate(0) translate(4 1793)\">\n",
       "<title>G</title>\n",
       "<polygon fill=\"white\" points=\"-4,4 -4,-1793 213,-1793 213,4 -4,4\" stroke=\"none\"/>\n",
       "<!-- 2457104071536 -->\n",
       "<g class=\"node\" id=\"node1\"><title>2457104071536</title>\n",
       "<polygon fill=\"none\" points=\"16.5,-1752.5 16.5,-1788.5 192.5,-1788.5 192.5,-1752.5 16.5,-1752.5\" stroke=\"black\"/>\n",
       "<text font-family=\"Times New Roman,serif\" font-size=\"14.00\" text-anchor=\"middle\" x=\"104.5\" y=\"-1766.8\">conv2d_1_input: InputLayer</text>\n",
       "</g>\n",
       "<!-- 2457104070080 -->\n",
       "<g class=\"node\" id=\"node2\"><title>2457104070080</title>\n",
       "<polygon fill=\"none\" points=\"41,-1679.5 41,-1715.5 168,-1715.5 168,-1679.5 41,-1679.5\" stroke=\"black\"/>\n",
       "<text font-family=\"Times New Roman,serif\" font-size=\"14.00\" text-anchor=\"middle\" x=\"104.5\" y=\"-1693.8\">conv2d_1: Conv2D</text>\n",
       "</g>\n",
       "<!-- 2457104071536&#45;&gt;2457104070080 -->\n",
       "<g class=\"edge\" id=\"edge1\"><title>2457104071536-&gt;2457104070080</title>\n",
       "<path d=\"M104.5,-1752.31C104.5,-1744.29 104.5,-1734.55 104.5,-1725.57\" fill=\"none\" stroke=\"black\"/>\n",
       "<polygon fill=\"black\" points=\"108,-1725.53 104.5,-1715.53 101,-1725.53 108,-1725.53\" stroke=\"black\"/>\n",
       "</g>\n",
       "<!-- 2457233510016 -->\n",
       "<g class=\"node\" id=\"node3\"><title>2457233510016</title>\n",
       "<polygon fill=\"none\" points=\"41,-1606.5 41,-1642.5 168,-1642.5 168,-1606.5 41,-1606.5\" stroke=\"black\"/>\n",
       "<text font-family=\"Times New Roman,serif\" font-size=\"14.00\" text-anchor=\"middle\" x=\"104.5\" y=\"-1620.8\">conv2d_2: Conv2D</text>\n",
       "</g>\n",
       "<!-- 2457104070080&#45;&gt;2457233510016 -->\n",
       "<g class=\"edge\" id=\"edge2\"><title>2457104070080-&gt;2457233510016</title>\n",
       "<path d=\"M104.5,-1679.31C104.5,-1671.29 104.5,-1661.55 104.5,-1652.57\" fill=\"none\" stroke=\"black\"/>\n",
       "<polygon fill=\"black\" points=\"108,-1652.53 104.5,-1642.53 101,-1652.53 108,-1652.53\" stroke=\"black\"/>\n",
       "</g>\n",
       "<!-- 2457233647656 -->\n",
       "<g class=\"node\" id=\"node4\"><title>2457233647656</title>\n",
       "<polygon fill=\"none\" points=\"0,-1533.5 0,-1569.5 209,-1569.5 209,-1533.5 0,-1533.5\" stroke=\"black\"/>\n",
       "<text font-family=\"Times New Roman,serif\" font-size=\"14.00\" text-anchor=\"middle\" x=\"104.5\" y=\"-1547.8\">max_pooling2d_1: MaxPooling2D</text>\n",
       "</g>\n",
       "<!-- 2457233510016&#45;&gt;2457233647656 -->\n",
       "<g class=\"edge\" id=\"edge3\"><title>2457233510016-&gt;2457233647656</title>\n",
       "<path d=\"M104.5,-1606.31C104.5,-1598.29 104.5,-1588.55 104.5,-1579.57\" fill=\"none\" stroke=\"black\"/>\n",
       "<polygon fill=\"black\" points=\"108,-1579.53 104.5,-1569.53 101,-1579.53 108,-1579.53\" stroke=\"black\"/>\n",
       "</g>\n",
       "<!-- 2457104071144 -->\n",
       "<g class=\"node\" id=\"node5\"><title>2457104071144</title>\n",
       "<polygon fill=\"none\" points=\"39.5,-1460.5 39.5,-1496.5 169.5,-1496.5 169.5,-1460.5 39.5,-1460.5\" stroke=\"black\"/>\n",
       "<text font-family=\"Times New Roman,serif\" font-size=\"14.00\" text-anchor=\"middle\" x=\"104.5\" y=\"-1474.8\">dropout_1: Dropout</text>\n",
       "</g>\n",
       "<!-- 2457233647656&#45;&gt;2457104071144 -->\n",
       "<g class=\"edge\" id=\"edge4\"><title>2457233647656-&gt;2457104071144</title>\n",
       "<path d=\"M104.5,-1533.31C104.5,-1525.29 104.5,-1515.55 104.5,-1506.57\" fill=\"none\" stroke=\"black\"/>\n",
       "<polygon fill=\"black\" points=\"108,-1506.53 104.5,-1496.53 101,-1506.53 108,-1506.53\" stroke=\"black\"/>\n",
       "</g>\n",
       "<!-- 2457104072040 -->\n",
       "<g class=\"node\" id=\"node6\"><title>2457104072040</title>\n",
       "<polygon fill=\"none\" points=\"41,-1387.5 41,-1423.5 168,-1423.5 168,-1387.5 41,-1387.5\" stroke=\"black\"/>\n",
       "<text font-family=\"Times New Roman,serif\" font-size=\"14.00\" text-anchor=\"middle\" x=\"104.5\" y=\"-1401.8\">conv2d_3: Conv2D</text>\n",
       "</g>\n",
       "<!-- 2457104071144&#45;&gt;2457104072040 -->\n",
       "<g class=\"edge\" id=\"edge5\"><title>2457104071144-&gt;2457104072040</title>\n",
       "<path d=\"M104.5,-1460.31C104.5,-1452.29 104.5,-1442.55 104.5,-1433.57\" fill=\"none\" stroke=\"black\"/>\n",
       "<polygon fill=\"black\" points=\"108,-1433.53 104.5,-1423.53 101,-1433.53 108,-1433.53\" stroke=\"black\"/>\n",
       "</g>\n",
       "<!-- 2457228081472 -->\n",
       "<g class=\"node\" id=\"node7\"><title>2457228081472</title>\n",
       "<polygon fill=\"none\" points=\"41,-1314.5 41,-1350.5 168,-1350.5 168,-1314.5 41,-1314.5\" stroke=\"black\"/>\n",
       "<text font-family=\"Times New Roman,serif\" font-size=\"14.00\" text-anchor=\"middle\" x=\"104.5\" y=\"-1328.8\">conv2d_4: Conv2D</text>\n",
       "</g>\n",
       "<!-- 2457104072040&#45;&gt;2457228081472 -->\n",
       "<g class=\"edge\" id=\"edge6\"><title>2457104072040-&gt;2457228081472</title>\n",
       "<path d=\"M104.5,-1387.31C104.5,-1379.29 104.5,-1369.55 104.5,-1360.57\" fill=\"none\" stroke=\"black\"/>\n",
       "<polygon fill=\"black\" points=\"108,-1360.53 104.5,-1350.53 101,-1360.53 108,-1360.53\" stroke=\"black\"/>\n",
       "</g>\n",
       "<!-- 2457229457224 -->\n",
       "<g class=\"node\" id=\"node8\"><title>2457229457224</title>\n",
       "<polygon fill=\"none\" points=\"0,-1241.5 0,-1277.5 209,-1277.5 209,-1241.5 0,-1241.5\" stroke=\"black\"/>\n",
       "<text font-family=\"Times New Roman,serif\" font-size=\"14.00\" text-anchor=\"middle\" x=\"104.5\" y=\"-1255.8\">max_pooling2d_2: MaxPooling2D</text>\n",
       "</g>\n",
       "<!-- 2457228081472&#45;&gt;2457229457224 -->\n",
       "<g class=\"edge\" id=\"edge7\"><title>2457228081472-&gt;2457229457224</title>\n",
       "<path d=\"M104.5,-1314.31C104.5,-1306.29 104.5,-1296.55 104.5,-1287.57\" fill=\"none\" stroke=\"black\"/>\n",
       "<polygon fill=\"black\" points=\"108,-1287.53 104.5,-1277.53 101,-1287.53 108,-1287.53\" stroke=\"black\"/>\n",
       "</g>\n",
       "<!-- 2457229651640 -->\n",
       "<g class=\"node\" id=\"node9\"><title>2457229651640</title>\n",
       "<polygon fill=\"none\" points=\"39.5,-1168.5 39.5,-1204.5 169.5,-1204.5 169.5,-1168.5 39.5,-1168.5\" stroke=\"black\"/>\n",
       "<text font-family=\"Times New Roman,serif\" font-size=\"14.00\" text-anchor=\"middle\" x=\"104.5\" y=\"-1182.8\">dropout_2: Dropout</text>\n",
       "</g>\n",
       "<!-- 2457229457224&#45;&gt;2457229651640 -->\n",
       "<g class=\"edge\" id=\"edge8\"><title>2457229457224-&gt;2457229651640</title>\n",
       "<path d=\"M104.5,-1241.31C104.5,-1233.29 104.5,-1223.55 104.5,-1214.57\" fill=\"none\" stroke=\"black\"/>\n",
       "<polygon fill=\"black\" points=\"108,-1214.53 104.5,-1204.53 101,-1214.53 108,-1214.53\" stroke=\"black\"/>\n",
       "</g>\n",
       "<!-- 2457229650072 -->\n",
       "<g class=\"node\" id=\"node10\"><title>2457229650072</title>\n",
       "<polygon fill=\"none\" points=\"41,-1095.5 41,-1131.5 168,-1131.5 168,-1095.5 41,-1095.5\" stroke=\"black\"/>\n",
       "<text font-family=\"Times New Roman,serif\" font-size=\"14.00\" text-anchor=\"middle\" x=\"104.5\" y=\"-1109.8\">conv2d_5: Conv2D</text>\n",
       "</g>\n",
       "<!-- 2457229651640&#45;&gt;2457229650072 -->\n",
       "<g class=\"edge\" id=\"edge9\"><title>2457229651640-&gt;2457229650072</title>\n",
       "<path d=\"M104.5,-1168.31C104.5,-1160.29 104.5,-1150.55 104.5,-1141.57\" fill=\"none\" stroke=\"black\"/>\n",
       "<polygon fill=\"black\" points=\"108,-1141.53 104.5,-1131.53 101,-1141.53 108,-1141.53\" stroke=\"black\"/>\n",
       "</g>\n",
       "<!-- 2457229637392 -->\n",
       "<g class=\"node\" id=\"node11\"><title>2457229637392</title>\n",
       "<polygon fill=\"none\" points=\"41,-1022.5 41,-1058.5 168,-1058.5 168,-1022.5 41,-1022.5\" stroke=\"black\"/>\n",
       "<text font-family=\"Times New Roman,serif\" font-size=\"14.00\" text-anchor=\"middle\" x=\"104.5\" y=\"-1036.8\">conv2d_6: Conv2D</text>\n",
       "</g>\n",
       "<!-- 2457229650072&#45;&gt;2457229637392 -->\n",
       "<g class=\"edge\" id=\"edge10\"><title>2457229650072-&gt;2457229637392</title>\n",
       "<path d=\"M104.5,-1095.31C104.5,-1087.29 104.5,-1077.55 104.5,-1068.57\" fill=\"none\" stroke=\"black\"/>\n",
       "<polygon fill=\"black\" points=\"108,-1068.53 104.5,-1058.53 101,-1068.53 108,-1068.53\" stroke=\"black\"/>\n",
       "</g>\n",
       "<!-- 2457235240888 -->\n",
       "<g class=\"node\" id=\"node12\"><title>2457235240888</title>\n",
       "<polygon fill=\"none\" points=\"0,-949.5 0,-985.5 209,-985.5 209,-949.5 0,-949.5\" stroke=\"black\"/>\n",
       "<text font-family=\"Times New Roman,serif\" font-size=\"14.00\" text-anchor=\"middle\" x=\"104.5\" y=\"-963.8\">max_pooling2d_3: MaxPooling2D</text>\n",
       "</g>\n",
       "<!-- 2457229637392&#45;&gt;2457235240888 -->\n",
       "<g class=\"edge\" id=\"edge11\"><title>2457229637392-&gt;2457235240888</title>\n",
       "<path d=\"M104.5,-1022.31C104.5,-1014.29 104.5,-1004.55 104.5,-995.569\" fill=\"none\" stroke=\"black\"/>\n",
       "<polygon fill=\"black\" points=\"108,-995.529 104.5,-985.529 101,-995.529 108,-995.529\" stroke=\"black\"/>\n",
       "</g>\n",
       "<!-- 2457232510256 -->\n",
       "<g class=\"node\" id=\"node13\"><title>2457232510256</title>\n",
       "<polygon fill=\"none\" points=\"39.5,-876.5 39.5,-912.5 169.5,-912.5 169.5,-876.5 39.5,-876.5\" stroke=\"black\"/>\n",
       "<text font-family=\"Times New Roman,serif\" font-size=\"14.00\" text-anchor=\"middle\" x=\"104.5\" y=\"-890.8\">dropout_3: Dropout</text>\n",
       "</g>\n",
       "<!-- 2457235240888&#45;&gt;2457232510256 -->\n",
       "<g class=\"edge\" id=\"edge12\"><title>2457235240888-&gt;2457232510256</title>\n",
       "<path d=\"M104.5,-949.313C104.5,-941.289 104.5,-931.547 104.5,-922.569\" fill=\"none\" stroke=\"black\"/>\n",
       "<polygon fill=\"black\" points=\"108,-922.529 104.5,-912.529 101,-922.529 108,-922.529\" stroke=\"black\"/>\n",
       "</g>\n",
       "<!-- 2457232509976 -->\n",
       "<g class=\"node\" id=\"node14\"><title>2457232509976</title>\n",
       "<polygon fill=\"none\" points=\"41,-803.5 41,-839.5 168,-839.5 168,-803.5 41,-803.5\" stroke=\"black\"/>\n",
       "<text font-family=\"Times New Roman,serif\" font-size=\"14.00\" text-anchor=\"middle\" x=\"104.5\" y=\"-817.8\">conv2d_7: Conv2D</text>\n",
       "</g>\n",
       "<!-- 2457232510256&#45;&gt;2457232509976 -->\n",
       "<g class=\"edge\" id=\"edge13\"><title>2457232510256-&gt;2457232509976</title>\n",
       "<path d=\"M104.5,-876.313C104.5,-868.289 104.5,-858.547 104.5,-849.569\" fill=\"none\" stroke=\"black\"/>\n",
       "<polygon fill=\"black\" points=\"108,-849.529 104.5,-839.529 101,-849.529 108,-849.529\" stroke=\"black\"/>\n",
       "</g>\n",
       "<!-- 2457228952800 -->\n",
       "<g class=\"node\" id=\"node15\"><title>2457228952800</title>\n",
       "<polygon fill=\"none\" points=\"41,-730.5 41,-766.5 168,-766.5 168,-730.5 41,-730.5\" stroke=\"black\"/>\n",
       "<text font-family=\"Times New Roman,serif\" font-size=\"14.00\" text-anchor=\"middle\" x=\"104.5\" y=\"-744.8\">conv2d_8: Conv2D</text>\n",
       "</g>\n",
       "<!-- 2457232509976&#45;&gt;2457228952800 -->\n",
       "<g class=\"edge\" id=\"edge14\"><title>2457232509976-&gt;2457228952800</title>\n",
       "<path d=\"M104.5,-803.313C104.5,-795.289 104.5,-785.547 104.5,-776.569\" fill=\"none\" stroke=\"black\"/>\n",
       "<polygon fill=\"black\" points=\"108,-776.529 104.5,-766.529 101,-776.529 108,-776.529\" stroke=\"black\"/>\n",
       "</g>\n",
       "<!-- 2457232137856 -->\n",
       "<g class=\"node\" id=\"node16\"><title>2457232137856</title>\n",
       "<polygon fill=\"none\" points=\"0,-657.5 0,-693.5 209,-693.5 209,-657.5 0,-657.5\" stroke=\"black\"/>\n",
       "<text font-family=\"Times New Roman,serif\" font-size=\"14.00\" text-anchor=\"middle\" x=\"104.5\" y=\"-671.8\">max_pooling2d_4: MaxPooling2D</text>\n",
       "</g>\n",
       "<!-- 2457228952800&#45;&gt;2457232137856 -->\n",
       "<g class=\"edge\" id=\"edge15\"><title>2457228952800-&gt;2457232137856</title>\n",
       "<path d=\"M104.5,-730.313C104.5,-722.289 104.5,-712.547 104.5,-703.569\" fill=\"none\" stroke=\"black\"/>\n",
       "<polygon fill=\"black\" points=\"108,-703.529 104.5,-693.529 101,-703.529 108,-703.529\" stroke=\"black\"/>\n",
       "</g>\n",
       "<!-- 2457232281048 -->\n",
       "<g class=\"node\" id=\"node17\"><title>2457232281048</title>\n",
       "<polygon fill=\"none\" points=\"39.5,-584.5 39.5,-620.5 169.5,-620.5 169.5,-584.5 39.5,-584.5\" stroke=\"black\"/>\n",
       "<text font-family=\"Times New Roman,serif\" font-size=\"14.00\" text-anchor=\"middle\" x=\"104.5\" y=\"-598.8\">dropout_4: Dropout</text>\n",
       "</g>\n",
       "<!-- 2457232137856&#45;&gt;2457232281048 -->\n",
       "<g class=\"edge\" id=\"edge16\"><title>2457232137856-&gt;2457232281048</title>\n",
       "<path d=\"M104.5,-657.313C104.5,-649.289 104.5,-639.547 104.5,-630.569\" fill=\"none\" stroke=\"black\"/>\n",
       "<polygon fill=\"black\" points=\"108,-630.529 104.5,-620.529 101,-630.529 108,-630.529\" stroke=\"black\"/>\n",
       "</g>\n",
       "<!-- 2457232280600 -->\n",
       "<g class=\"node\" id=\"node18\"><title>2457232280600</title>\n",
       "<polygon fill=\"none\" points=\"41,-511.5 41,-547.5 168,-547.5 168,-511.5 41,-511.5\" stroke=\"black\"/>\n",
       "<text font-family=\"Times New Roman,serif\" font-size=\"14.00\" text-anchor=\"middle\" x=\"104.5\" y=\"-525.8\">conv2d_9: Conv2D</text>\n",
       "</g>\n",
       "<!-- 2457232281048&#45;&gt;2457232280600 -->\n",
       "<g class=\"edge\" id=\"edge17\"><title>2457232281048-&gt;2457232280600</title>\n",
       "<path d=\"M104.5,-584.313C104.5,-576.289 104.5,-566.547 104.5,-557.569\" fill=\"none\" stroke=\"black\"/>\n",
       "<polygon fill=\"black\" points=\"108,-557.529 104.5,-547.529 101,-557.529 108,-557.529\" stroke=\"black\"/>\n",
       "</g>\n",
       "<!-- 2457234454064 -->\n",
       "<g class=\"node\" id=\"node19\"><title>2457234454064</title>\n",
       "<polygon fill=\"none\" points=\"37.5,-438.5 37.5,-474.5 171.5,-474.5 171.5,-438.5 37.5,-438.5\" stroke=\"black\"/>\n",
       "<text font-family=\"Times New Roman,serif\" font-size=\"14.00\" text-anchor=\"middle\" x=\"104.5\" y=\"-452.8\">conv2d_10: Conv2D</text>\n",
       "</g>\n",
       "<!-- 2457232280600&#45;&gt;2457234454064 -->\n",
       "<g class=\"edge\" id=\"edge18\"><title>2457232280600-&gt;2457234454064</title>\n",
       "<path d=\"M104.5,-511.313C104.5,-503.289 104.5,-493.547 104.5,-484.569\" fill=\"none\" stroke=\"black\"/>\n",
       "<polygon fill=\"black\" points=\"108,-484.529 104.5,-474.529 101,-484.529 108,-484.529\" stroke=\"black\"/>\n",
       "</g>\n",
       "<!-- 2457236596440 -->\n",
       "<g class=\"node\" id=\"node20\"><title>2457236596440</title>\n",
       "<polygon fill=\"none\" points=\"0,-365.5 0,-401.5 209,-401.5 209,-365.5 0,-365.5\" stroke=\"black\"/>\n",
       "<text font-family=\"Times New Roman,serif\" font-size=\"14.00\" text-anchor=\"middle\" x=\"104.5\" y=\"-379.8\">max_pooling2d_5: MaxPooling2D</text>\n",
       "</g>\n",
       "<!-- 2457234454064&#45;&gt;2457236596440 -->\n",
       "<g class=\"edge\" id=\"edge19\"><title>2457234454064-&gt;2457236596440</title>\n",
       "<path d=\"M104.5,-438.313C104.5,-430.289 104.5,-420.547 104.5,-411.569\" fill=\"none\" stroke=\"black\"/>\n",
       "<polygon fill=\"black\" points=\"108,-411.529 104.5,-401.529 101,-411.529 108,-411.529\" stroke=\"black\"/>\n",
       "</g>\n",
       "<!-- 2457236635040 -->\n",
       "<g class=\"node\" id=\"node21\"><title>2457236635040</title>\n",
       "<polygon fill=\"none\" points=\"39.5,-292.5 39.5,-328.5 169.5,-328.5 169.5,-292.5 39.5,-292.5\" stroke=\"black\"/>\n",
       "<text font-family=\"Times New Roman,serif\" font-size=\"14.00\" text-anchor=\"middle\" x=\"104.5\" y=\"-306.8\">dropout_5: Dropout</text>\n",
       "</g>\n",
       "<!-- 2457236596440&#45;&gt;2457236635040 -->\n",
       "<g class=\"edge\" id=\"edge20\"><title>2457236596440-&gt;2457236635040</title>\n",
       "<path d=\"M104.5,-365.313C104.5,-357.289 104.5,-347.547 104.5,-338.569\" fill=\"none\" stroke=\"black\"/>\n",
       "<polygon fill=\"black\" points=\"108,-338.529 104.5,-328.529 101,-338.529 108,-338.529\" stroke=\"black\"/>\n",
       "</g>\n",
       "<!-- 2457234623904 -->\n",
       "<g class=\"node\" id=\"node22\"><title>2457234623904</title>\n",
       "<polygon fill=\"none\" points=\"50,-219.5 50,-255.5 159,-255.5 159,-219.5 50,-219.5\" stroke=\"black\"/>\n",
       "<text font-family=\"Times New Roman,serif\" font-size=\"14.00\" text-anchor=\"middle\" x=\"104.5\" y=\"-233.8\">flatten_1: Flatten</text>\n",
       "</g>\n",
       "<!-- 2457236635040&#45;&gt;2457234623904 -->\n",
       "<g class=\"edge\" id=\"edge21\"><title>2457236635040-&gt;2457234623904</title>\n",
       "<path d=\"M104.5,-292.313C104.5,-284.289 104.5,-274.547 104.5,-265.569\" fill=\"none\" stroke=\"black\"/>\n",
       "<polygon fill=\"black\" points=\"108,-265.529 104.5,-255.529 101,-265.529 108,-265.529\" stroke=\"black\"/>\n",
       "</g>\n",
       "<!-- 2457235524408 -->\n",
       "<g class=\"node\" id=\"node23\"><title>2457235524408</title>\n",
       "<polygon fill=\"none\" points=\"52.5,-146.5 52.5,-182.5 156.5,-182.5 156.5,-146.5 52.5,-146.5\" stroke=\"black\"/>\n",
       "<text font-family=\"Times New Roman,serif\" font-size=\"14.00\" text-anchor=\"middle\" x=\"104.5\" y=\"-160.8\">dense_1: Dense</text>\n",
       "</g>\n",
       "<!-- 2457234623904&#45;&gt;2457235524408 -->\n",
       "<g class=\"edge\" id=\"edge22\"><title>2457234623904-&gt;2457235524408</title>\n",
       "<path d=\"M104.5,-219.313C104.5,-211.289 104.5,-201.547 104.5,-192.569\" fill=\"none\" stroke=\"black\"/>\n",
       "<polygon fill=\"black\" points=\"108,-192.529 104.5,-182.529 101,-192.529 108,-192.529\" stroke=\"black\"/>\n",
       "</g>\n",
       "<!-- 2457235643808 -->\n",
       "<g class=\"node\" id=\"node24\"><title>2457235643808</title>\n",
       "<polygon fill=\"none\" points=\"39.5,-73.5 39.5,-109.5 169.5,-109.5 169.5,-73.5 39.5,-73.5\" stroke=\"black\"/>\n",
       "<text font-family=\"Times New Roman,serif\" font-size=\"14.00\" text-anchor=\"middle\" x=\"104.5\" y=\"-87.8\">dropout_6: Dropout</text>\n",
       "</g>\n",
       "<!-- 2457235524408&#45;&gt;2457235643808 -->\n",
       "<g class=\"edge\" id=\"edge23\"><title>2457235524408-&gt;2457235643808</title>\n",
       "<path d=\"M104.5,-146.313C104.5,-138.289 104.5,-128.547 104.5,-119.569\" fill=\"none\" stroke=\"black\"/>\n",
       "<polygon fill=\"black\" points=\"108,-119.529 104.5,-109.529 101,-119.529 108,-119.529\" stroke=\"black\"/>\n",
       "</g>\n",
       "<!-- 2457235641344 -->\n",
       "<g class=\"node\" id=\"node25\"><title>2457235641344</title>\n",
       "<polygon fill=\"none\" points=\"52.5,-0.5 52.5,-36.5 156.5,-36.5 156.5,-0.5 52.5,-0.5\" stroke=\"black\"/>\n",
       "<text font-family=\"Times New Roman,serif\" font-size=\"14.00\" text-anchor=\"middle\" x=\"104.5\" y=\"-14.8\">dense_2: Dense</text>\n",
       "</g>\n",
       "<!-- 2457235643808&#45;&gt;2457235641344 -->\n",
       "<g class=\"edge\" id=\"edge24\"><title>2457235643808-&gt;2457235641344</title>\n",
       "<path d=\"M104.5,-73.3129C104.5,-65.2895 104.5,-55.5475 104.5,-46.5691\" fill=\"none\" stroke=\"black\"/>\n",
       "<polygon fill=\"black\" points=\"108,-46.5288 104.5,-36.5288 101,-46.5289 108,-46.5288\" stroke=\"black\"/>\n",
       "</g>\n",
       "</g>\n",
       "</svg>"
      ],
      "text/plain": [
       "<IPython.core.display.SVG object>"
      ]
     },
     "execution_count": 14,
     "metadata": {},
     "output_type": "execute_result"
    }
   ],
   "source": [
    "SVG(model_to_dot(model).create(prog='dot', format='svg'))\n",
    "# plot_model(model, to_file='model.png')"
   ]
  },
  {
   "cell_type": "code",
   "execution_count": 25,
   "metadata": {
    "collapsed": true
   },
   "outputs": [],
   "source": [
    "his_path = 'fer2013_simple_128_out_testing_1.pickle'\n",
    "\n",
    "with open(his_path, 'wb') as f:\n",
    "    pickle.dump(history.history, f)"
   ]
  },
  {
   "cell_type": "code",
   "execution_count": 23,
   "metadata": {
    "scrolled": false
   },
   "outputs": [
    {
     "name": "stdout",
     "output_type": "stream",
     "text": [
      "dict_keys(['val_acc', 'acc', 'loss', 'val_loss'])\n"
     ]
    },
    {
     "data": {
      "image/png": "[encoded data removed]",
      "text/plain": [
       "<matplotlib.figure.Figure at 0x23c20edfef0>"
      ]
     },
     "metadata": {},
     "output_type": "display_data"
    },
    {
     "data": {
      "image/png": "[encoded data removed]",
      "text/plain": [
       "<matplotlib.figure.Figure at 0x23c20c557f0>"
      ]
     },
     "metadata": {},
     "output_type": "display_data"
    }
   ],
   "source": [
    "# list all data in history\n",
    "print(history.history.keys())\n",
    "# summarize history for accuracy\n",
    "plt.plot(history.history['acc'])\n",
    "plt.plot(history.history['val_acc'])\n",
    "plt.title('model accuracy')\n",
    "plt.ylabel('accuracy')\n",
    "plt.xlabel('epoch')\n",
    "plt.legend(['train', 'test'], loc='upper left')\n",
    "plt.show()\n",
    "# summarize history for loss\n",
    "plt.plot(history.history['loss'])\n",
    "plt.plot(history.history['val_loss'])\n",
    "plt.title('model loss')\n",
    "plt.ylabel('loss')\n",
    "plt.xlabel('epoch')\n",
    "plt.legend(['train', 'test'], loc='upper left')\n",
    "plt.show()"
   ]
  },
  {
   "cell_type": "code",
   "execution_count": 27,
   "metadata": {},
   "outputs": [],
   "source": [
    "file = open(his_path,'rb')\n",
    "history_ = pickle.load(file)"
   ]
  },
  {
   "cell_type": "code",
   "execution_count": 29,
   "metadata": {},
   "outputs": [
    {
     "name": "stdout",
     "output_type": "stream",
     "text": [
      "dict_keys(['val_acc', 'acc', 'loss', 'val_loss'])\n"
     ]
    },
    {
     "data": {
      "image/png": "[encoded data removed]",
      "text/plain": [
       "<matplotlib.figure.Figure at 0x23c20cb3be0>"
      ]
     },
     "metadata": {},
     "output_type": "display_data"
    },
    {
     "data": {
      "image/png": "[encoded data removed]",
      "text/plain": [
       "<matplotlib.figure.Figure at 0x23c20abca58>"
      ]
     },
     "metadata": {},
     "output_type": "display_data"
    }
   ],
   "source": [
    "# list all data in history\n",
    "print(history_.keys())\n",
    "# summarize history for accuracy\n",
    "plt.plot(history_['acc'])\n",
    "plt.plot(history_['val_acc'])\n",
    "plt.title('model accuracy')\n",
    "plt.ylabel('accuracy')\n",
    "plt.xlabel('epoch')\n",
    "plt.legend(['train', 'test'], loc='upper left')\n",
    "plt.show()\n",
    "# summarize history for loss\n",
    "plt.plot(history_['loss'])\n",
    "plt.plot(history_['val_loss'])\n",
    "plt.title('model loss')\n",
    "plt.ylabel('loss')\n",
    "plt.xlabel('epoch')\n",
    "plt.legend(['train', 'test'], loc='upper left')\n",
    "plt.show()"
   ]
  }
 ],
 "metadata": {
  "anaconda-cloud": {},
  "kernelspec": {
   "display_name": "Python [conda root]",
   "language": "python",
   "name": "conda-root-py"
  },
  "language_info": {
   "codemirror_mode": {
    "name": "ipython",
    "version": 3
   },
   "file_extension": ".py",
   "mimetype": "text/x-python",
   "name": "python",
   "nbconvert_exporter": "python",
   "pygments_lexer": "ipython3",
   "version": "3.5.2"
  }
 },
 "nbformat": 4,
 "nbformat_minor": 1
}
