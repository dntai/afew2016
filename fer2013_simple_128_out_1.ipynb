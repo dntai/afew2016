{
 "cells": [
  {
   "cell_type": "markdown",
   "metadata": {},
   "source": [
    "# Import libraries"
   ]
  },
  {
   "cell_type": "code",
   "execution_count": 1,
   "metadata": {},
   "outputs": [
    {
     "name": "stderr",
     "output_type": "stream",
     "text": [
      "Using TensorFlow backend.\n"
     ]
    }
   ],
   "source": [
    "from tensorflow.contrib.keras.python.keras import applications, layers\n",
    "from tensorflow.contrib.keras.python.keras.preprocessing.image import ImageDataGenerator\n",
    "from tensorflow.contrib.keras.python.keras import optimizers\n",
    "from tensorflow.contrib.keras.python.keras.models import Sequential, Model\n",
    "from tensorflow.contrib.keras.python.keras.layers import Dropout, Flatten, Dense, Input, ZeroPadding2D, Conv2D, BatchNormalization, Activation, MaxPooling2D, AveragePooling2D, GlobalAveragePooling2D\n",
    "from tensorflow.contrib.keras.python.keras.callbacks import EarlyStopping\n",
    "from tensorflow.contrib.keras.python.keras.optimizers import Adam, RMSprop\n",
    "\n",
    "from tensorflow.contrib.keras.python.keras.applications.imagenet_utils import _obtain_input_shape\n",
    "from tensorflow.contrib.keras.python.keras import backend as K\n",
    "\n",
    "from keras.layers import LSTM\n",
    "from keras.layers.embeddings import Embedding\n",
    "from keras.preprocessing import sequence\n",
    "\n",
    "from residual_funcs import *\n",
    "\n",
    "import numpy as np\n",
    "import matplotlib.pyplot as plt\n",
    "\n",
    "# Visualization\n",
    "from IPython.display import SVG\n",
    "from keras.utils.vis_utils import model_to_dot\n",
    "from keras.utils import plot_model"
   ]
  },
  {
   "cell_type": "code",
   "execution_count": 2,
   "metadata": {
    "collapsed": true
   },
   "outputs": [],
   "source": [
    "def get_emotion(ohv):\n",
    "    if ohv.shape[0] == 1:\n",
    "        indx = ohv[0]\n",
    "    else:\n",
    "        indx = np.argmax(ohv)\n",
    "        \n",
    "    if indx == 0:\n",
    "        return 'angry'\n",
    "    elif indx == 1:\n",
    "        return 'disgust'\n",
    "    elif indx == 2:\n",
    "        return 'fear'\n",
    "    elif indx == 3:\n",
    "        return 'happy'\n",
    "    elif indx == 4:\n",
    "        return 'sad'\n",
    "    elif indx == 5:\n",
    "        return 'surprise'\n",
    "    elif indx == 6:\n",
    "        return 'neutral'"
   ]
  },
  {
   "cell_type": "markdown",
   "metadata": {},
   "source": [
    "# CNN"
   ]
  },
  {
   "cell_type": "code",
   "execution_count": 3,
   "metadata": {
    "collapsed": true
   },
   "outputs": [],
   "source": [
    "def CNN():\n",
    "    base_model = Sequential()\n",
    "\n",
    "    base_model.add(Conv2D(64, (3, 3), activation='relu', padding='same', input_shape = (48, 48, 1)))\n",
    "\n",
    "    base_model.add(Conv2D(64, (3, 3), activation='relu', padding='same'))\n",
    "\n",
    "    base_model.add(MaxPooling2D(pool_size=(2, 2)))\n",
    "    base_model.add(Dropout(0.2))\n",
    "\n",
    "    base_model.add(Conv2D(128, (3, 3), activation='relu', padding='same'))\n",
    "\n",
    "    base_model.add(Conv2D(128, (3, 3), activation='relu', padding='same'))\n",
    "    \n",
    "    base_model.add(MaxPooling2D(pool_size=(2, 2)))\n",
    "    base_model.add(Dropout(0.2))\n",
    "\n",
    "    base_model.add(Conv2D(128, (3, 3), activation='relu', padding='same'))\n",
    "    \n",
    "    base_model.add(Conv2D(128, (3, 3), activation='relu', padding='same'))\n",
    "    \n",
    "    base_model.add(MaxPooling2D(pool_size=(2, 2)))\n",
    "    base_model.add(Dropout(0.2))\n",
    "\n",
    "    base_model.add(Conv2D(256, (3, 3), activation='relu', padding='same'))\n",
    "    \n",
    "    base_model.add(Conv2D(256, (3, 3), activation='relu', padding='same'))\n",
    "\n",
    "    base_model.add(MaxPooling2D(pool_size=(2, 2)))\n",
    "    base_model.add(Dropout(0.2))\n",
    "    \n",
    "    base_model.add(Conv2D(256, (3, 3), activation='relu', padding='same'))\n",
    "    \n",
    "    base_model.add(Conv2D(256, (3, 3), activation='relu', padding='same'))\n",
    "\n",
    "    base_model.add(MaxPooling2D(pool_size=(2, 2)))\n",
    "    base_model.add(Dropout(0.2))\n",
    "\n",
    "    base_model.add(Flatten())\n",
    "    \n",
    "    return base_model.output, base_model.input"
   ]
  },
  {
   "cell_type": "markdown",
   "metadata": {
    "collapsed": true
   },
   "source": [
    "# FC layer"
   ]
  },
  {
   "cell_type": "code",
   "execution_count": 4,
   "metadata": {},
   "outputs": [
    {
     "data": {
      "text/plain": [
       "<tf.Tensor 'flatten_1/Reshape:0' shape=(?, 256) dtype=float32>"
      ]
     },
     "execution_count": 4,
     "metadata": {},
     "output_type": "execute_result"
    }
   ],
   "source": [
    "# add a global spatial average pooling layer\n",
    "out, inp = CNN()\n",
    "\n",
    "out"
   ]
  },
  {
   "cell_type": "code",
   "execution_count": 5,
   "metadata": {
    "collapsed": true
   },
   "outputs": [],
   "source": [
    "# let's add 2 fully-connected layers\n",
    "x = Dense(512, activation='relu')(out)\n",
    "x = Dropout(0.2)(x)\n",
    "# Softmax classifier\n",
    "predictions = Dense(7, activation='softmax')(x)"
   ]
  },
  {
   "cell_type": "code",
   "execution_count": 6,
   "metadata": {
    "collapsed": true
   },
   "outputs": [],
   "source": [
    "# this is the model we will train\n",
    "model = Model(inputs=inp, outputs=predictions)"
   ]
  },
  {
   "cell_type": "code",
   "execution_count": 7,
   "metadata": {},
   "outputs": [
    {
     "name": "stdout",
     "output_type": "stream",
     "text": [
      "_________________________________________________________________\n",
      "Layer (type)                 Output Shape              Param #   \n",
      "=================================================================\n",
      "conv2d_1_input (InputLayer)  (None, 48, 48, 1)         0         \n",
      "_________________________________________________________________\n",
      "conv2d_1 (Conv2D)            (None, 48, 48, 64)        640       \n",
      "_________________________________________________________________\n",
      "conv2d_2 (Conv2D)            (None, 48, 48, 64)        36928     \n",
      "_________________________________________________________________\n",
      "max_pooling2d_1 (MaxPooling2 (None, 24, 24, 64)        0         \n",
      "_________________________________________________________________\n",
      "dropout_1 (Dropout)          (None, 24, 24, 64)        0         \n",
      "_________________________________________________________________\n",
      "conv2d_3 (Conv2D)            (None, 24, 24, 128)       73856     \n",
      "_________________________________________________________________\n",
      "conv2d_4 (Conv2D)            (None, 24, 24, 128)       147584    \n",
      "_________________________________________________________________\n",
      "max_pooling2d_2 (MaxPooling2 (None, 12, 12, 128)       0         \n",
      "_________________________________________________________________\n",
      "dropout_2 (Dropout)          (None, 12, 12, 128)       0         \n",
      "_________________________________________________________________\n",
      "conv2d_5 (Conv2D)            (None, 12, 12, 128)       147584    \n",
      "_________________________________________________________________\n",
      "conv2d_6 (Conv2D)            (None, 12, 12, 128)       147584    \n",
      "_________________________________________________________________\n",
      "max_pooling2d_3 (MaxPooling2 (None, 6, 6, 128)         0         \n",
      "_________________________________________________________________\n",
      "dropout_3 (Dropout)          (None, 6, 6, 128)         0         \n",
      "_________________________________________________________________\n",
      "conv2d_7 (Conv2D)            (None, 6, 6, 256)         295168    \n",
      "_________________________________________________________________\n",
      "conv2d_8 (Conv2D)            (None, 6, 6, 256)         590080    \n",
      "_________________________________________________________________\n",
      "max_pooling2d_4 (MaxPooling2 (None, 3, 3, 256)         0         \n",
      "_________________________________________________________________\n",
      "dropout_4 (Dropout)          (None, 3, 3, 256)         0         \n",
      "_________________________________________________________________\n",
      "conv2d_9 (Conv2D)            (None, 3, 3, 256)         590080    \n",
      "_________________________________________________________________\n",
      "conv2d_10 (Conv2D)           (None, 3, 3, 256)         590080    \n",
      "_________________________________________________________________\n",
      "max_pooling2d_5 (MaxPooling2 (None, 1, 1, 256)         0         \n",
      "_________________________________________________________________\n",
      "dropout_5 (Dropout)          (None, 1, 1, 256)         0         \n",
      "_________________________________________________________________\n",
      "flatten_1 (Flatten)          (None, 256)               0         \n",
      "_________________________________________________________________\n",
      "dense_1 (Dense)              (None, 512)               131584    \n",
      "_________________________________________________________________\n",
      "dropout_6 (Dropout)          (None, 512)               0         \n",
      "_________________________________________________________________\n",
      "dense_2 (Dense)              (None, 7)                 3591      \n",
      "=================================================================\n",
      "Total params: 2,754,759.0\n",
      "Trainable params: 2,754,759.0\n",
      "Non-trainable params: 0.0\n",
      "_________________________________________________________________\n",
      "None\n"
     ]
    }
   ],
   "source": [
    "print(model.summary())"
   ]
  },
  {
   "cell_type": "markdown",
   "metadata": {},
   "source": [
    "# Compile model"
   ]
  },
  {
   "cell_type": "code",
   "execution_count": null,
   "metadata": {
    "collapsed": true
   },
   "outputs": [],
   "source": [
    "# compile the model (should be done *after* setting layers to non-trainable)\n",
    "opt = Adam(lr=0.0001)\n",
    "model.compile(optimizer=opt, loss='sparse_categorical_crossentropy', metrics=['accuracy'])"
   ]
  },
  {
   "cell_type": "markdown",
   "metadata": {},
   "source": [
    "# Fit model"
   ]
  },
  {
   "cell_type": "code",
   "execution_count": null,
   "metadata": {
    "scrolled": false
   },
   "outputs": [
    {
     "name": "stdout",
     "output_type": "stream",
     "text": [
      "Found 28709 images belonging to 7 classes.\n",
      "Found 3589 images belonging to 7 classes.\n",
      "Epoch 1/200\n",
      "323/323 [==============================] - 33s - loss: 1.8474 - acc: 0.2424 - val_loss: 1.8543 - val_acc: 0.2494\n",
      "Epoch 2/200\n",
      "323/323 [==============================] - 27s - loss: 1.8172 - acc: 0.2502 - val_loss: 1.8108 - val_acc: 0.2502\n",
      "Epoch 3/200\n",
      "323/323 [==============================] - 26s - loss: 1.6904 - acc: 0.3211 - val_loss: 1.5464 - val_acc: 0.3959\n",
      "Epoch 4/200\n",
      "323/323 [==============================] - 26s - loss: 1.5092 - acc: 0.4094 - val_loss: 1.4066 - val_acc: 0.4595\n",
      "Epoch 5/200\n",
      "323/323 [==============================] - 25s - loss: 1.3750 - acc: 0.4708 - val_loss: 1.2778 - val_acc: 0.5169\n",
      "Epoch 6/200\n",
      "323/323 [==============================] - 25s - loss: 1.2858 - acc: 0.5070 - val_loss: 1.2168 - val_acc: 0.5235\n",
      "Epoch 7/200\n",
      "323/323 [==============================] - 25s - loss: 1.2122 - acc: 0.5377 - val_loss: 1.1865 - val_acc: 0.5414\n",
      "Epoch 8/200\n",
      "323/323 [==============================] - 24s - loss: 1.1457 - acc: 0.5643 - val_loss: 1.1603 - val_acc: 0.5550\n",
      "Epoch 9/200\n",
      "323/323 [==============================] - 25s - loss: 1.1011 - acc: 0.5845 - val_loss: 1.1099 - val_acc: 0.5768\n",
      "Epoch 10/200\n",
      "323/323 [==============================] - 24s - loss: 1.0475 - acc: 0.6031 - val_loss: 1.0949 - val_acc: 0.5874\n",
      "Epoch 11/200\n",
      "323/323 [==============================] - 24s - loss: 1.0017 - acc: 0.6246 - val_loss: 1.0850 - val_acc: 0.6035\n",
      "Epoch 12/200\n",
      "323/323 [==============================] - 24s - loss: 0.9554 - acc: 0.6416 - val_loss: 1.0651 - val_acc: 0.6082\n",
      "Epoch 13/200\n",
      "323/323 [==============================] - 24s - loss: 0.9073 - acc: 0.6576 - val_loss: 1.0835 - val_acc: 0.6066\n",
      "Epoch 14/200\n",
      "323/323 [==============================] - 24s - loss: 0.8590 - acc: 0.6779 - val_loss: 1.1364 - val_acc: 0.6060\n",
      "Epoch 15/200\n",
      "323/323 [==============================] - 24s - loss: 0.8069 - acc: 0.7007 - val_loss: 1.0844 - val_acc: 0.6135\n",
      "Epoch 16/200\n",
      "323/323 [==============================] - 24s - loss: 0.7628 - acc: 0.7148 - val_loss: 1.1138 - val_acc: 0.6158\n",
      "Epoch 17/200\n",
      "323/323 [==============================] - 24s - loss: 0.7049 - acc: 0.7380 - val_loss: 1.1503 - val_acc: 0.6216\n",
      "Epoch 18/200\n",
      "323/323 [==============================] - 24s - loss: 0.6731 - acc: 0.7506 - val_loss: 1.1491 - val_acc: 0.6163\n",
      "Epoch 19/200\n",
      "323/323 [==============================] - 24s - loss: 0.6242 - acc: 0.7719 - val_loss: 1.2007 - val_acc: 0.6244\n",
      "Epoch 20/200\n",
      "323/323 [==============================] - 25s - loss: 0.5795 - acc: 0.7846 - val_loss: 1.2570 - val_acc: 0.6088\n",
      "Epoch 21/200\n",
      "323/323 [==============================] - 24s - loss: 0.5463 - acc: 0.7996 - val_loss: 1.2608 - val_acc: 0.6213\n",
      "Epoch 22/200\n",
      "323/323 [==============================] - 24s - loss: 0.5014 - acc: 0.8142 - val_loss: 1.2769 - val_acc: 0.6239\n",
      "Epoch 23/200\n",
      "323/323 [==============================] - 24s - loss: 0.4813 - acc: 0.8204 - val_loss: 1.3039 - val_acc: 0.6236\n",
      "Epoch 24/200\n",
      "323/323 [==============================] - 24s - loss: 0.4362 - acc: 0.8384 - val_loss: 1.4004 - val_acc: 0.6188\n",
      "Epoch 25/200\n",
      "323/323 [==============================] - 24s - loss: 0.4129 - acc: 0.8495 - val_loss: 1.3563 - val_acc: 0.6317\n",
      "Epoch 26/200\n",
      "323/323 [==============================] - 24s - loss: 0.3882 - acc: 0.8594 - val_loss: 1.3430 - val_acc: 0.6305\n",
      "Epoch 27/200\n",
      "323/323 [==============================] - 24s - loss: 0.3612 - acc: 0.8689 - val_loss: 1.4947 - val_acc: 0.6261\n",
      "Epoch 28/200\n",
      "323/323 [==============================] - 24s - loss: 0.3369 - acc: 0.8782 - val_loss: 1.5351 - val_acc: 0.6230\n",
      "Epoch 29/200\n",
      "323/323 [==============================] - 24s - loss: 0.3173 - acc: 0.8842 - val_loss: 1.5178 - val_acc: 0.6297\n",
      "Epoch 30/200\n",
      "323/323 [==============================] - 23s - loss: 0.2942 - acc: 0.8931 - val_loss: 1.7513 - val_acc: 0.6283\n",
      "Epoch 31/200\n",
      "323/323 [==============================] - 24s - loss: 0.2842 - acc: 0.8967 - val_loss: 1.6482 - val_acc: 0.6289\n",
      "Epoch 32/200\n",
      "323/323 [==============================] - 24s - loss: 0.2784 - acc: 0.9006 - val_loss: 1.6796 - val_acc: 0.6236\n",
      "Epoch 33/200\n",
      "323/323 [==============================] - 24s - loss: 0.2556 - acc: 0.9078 - val_loss: 1.7351 - val_acc: 0.6300\n",
      "Epoch 34/200\n",
      "323/323 [==============================] - 24s - loss: 0.2360 - acc: 0.9152 - val_loss: 1.8408 - val_acc: 0.6247\n",
      "Epoch 35/200\n",
      "323/323 [==============================] - 24s - loss: 0.2341 - acc: 0.9159 - val_loss: 1.7131 - val_acc: 0.6280\n",
      "Epoch 36/200\n",
      "323/323 [==============================] - 24s - loss: 0.2243 - acc: 0.9199 - val_loss: 1.7219 - val_acc: 0.6289\n",
      "Epoch 37/200\n",
      "323/323 [==============================] - 23s - loss: 0.2124 - acc: 0.9249 - val_loss: 1.7735 - val_acc: 0.6358\n",
      "Epoch 38/200\n",
      "323/323 [==============================] - 24s - loss: 0.1969 - acc: 0.9295 - val_loss: 1.8541 - val_acc: 0.6222\n",
      "Epoch 39/200\n",
      "323/323 [==============================] - 24s - loss: 0.2014 - acc: 0.9302 - val_loss: 1.7914 - val_acc: 0.6269\n",
      "Epoch 40/200\n",
      "323/323 [==============================] - 24s - loss: 0.1826 - acc: 0.9357 - val_loss: 1.7722 - val_acc: 0.6236\n",
      "Epoch 41/200\n",
      "323/323 [==============================] - 24s - loss: 0.1860 - acc: 0.9348 - val_loss: 1.8284 - val_acc: 0.6367\n",
      "Epoch 42/200\n",
      "323/323 [==============================] - 24s - loss: 0.1690 - acc: 0.9403 - val_loss: 1.9640 - val_acc: 0.6317\n",
      "Epoch 43/200\n",
      "323/323 [==============================] - 24s - loss: 0.1641 - acc: 0.9434 - val_loss: 1.8755 - val_acc: 0.6367\n",
      "Epoch 44/200\n",
      "323/323 [==============================] - 24s - loss: 0.1637 - acc: 0.9424 - val_loss: 1.8921 - val_acc: 0.6289\n",
      "Epoch 45/200\n",
      "323/323 [==============================] - 24s - loss: 0.1560 - acc: 0.9454 - val_loss: 1.9624 - val_acc: 0.6314\n",
      "Epoch 46/200\n",
      "323/323 [==============================] - 24s - loss: 0.1511 - acc: 0.9482 - val_loss: 1.9949 - val_acc: 0.6339\n",
      "Epoch 47/200\n",
      "323/323 [==============================] - 24s - loss: 0.1477 - acc: 0.9492 - val_loss: 2.0379 - val_acc: 0.6322\n",
      "Epoch 48/200\n",
      "323/323 [==============================] - 24s - loss: 0.1430 - acc: 0.9498 - val_loss: 1.9435 - val_acc: 0.6269\n",
      "Epoch 49/200\n",
      "128/323 [==========>...................] - ETA: 13s - loss: 0.1392 - acc: 0.9507"
     ]
    }
   ],
   "source": [
    "early_stopping = EarlyStopping(monitor='val_loss', verbose=1, patience=50)\n",
    "\n",
    "# train_path = 'E:/EmotiW2017/Train_AFEW/face_images'\n",
    "# val_path = 'E:/EmotiW2017/Val_AFEW/face_images'\n",
    "\n",
    "train_path = './data/fer2013/train'\n",
    "val_path = './data/fer2013/test1'\n",
    "\n",
    "# fer2013 ------------------------------------------------\n",
    "train_datagen = ImageDataGenerator()\n",
    "train_generator = train_datagen.flow_from_directory(\n",
    "    train_path,\n",
    "    target_size=(48, 48),\n",
    "    batch_size=128,\n",
    "    class_mode='sparse',\n",
    "    color_mode='grayscale')\n",
    "\n",
    "# classes=['Angry', 'Disgust', 'Fear', 'Happy', 'Neutral', 'Sad', 'Surprise']\n",
    "\n",
    "val_datagen = ImageDataGenerator()\n",
    "val_generator = val_datagen.flow_from_directory(\n",
    "    val_path,\n",
    "    target_size=(48, 48),\n",
    "    batch_size=97,\n",
    "    class_mode='sparse',\n",
    "    color_mode='grayscale')\n",
    "\n",
    "history = model.fit_generator(generator=train_generator, steps_per_epoch=323,\n",
    "                    epochs=200, verbose=1, callbacks=[early_stopping],\n",
    "                    validation_data=val_generator, validation_steps=37)"
   ]
  },
  {
   "cell_type": "code",
   "execution_count": null,
   "metadata": {
    "collapsed": true
   },
   "outputs": [],
   "source": [
    "model.save_weights('fer2013_simple_128_out_testing_1.h5')"
   ]
  },
  {
   "cell_type": "code",
   "execution_count": null,
   "metadata": {
    "collapsed": true
   },
   "outputs": [],
   "source": [
    "model.load_weights('fer2013_simple_128_out_testing_1.h5')"
   ]
  },
  {
   "cell_type": "code",
   "execution_count": null,
   "metadata": {},
   "outputs": [],
   "source": [
    "print(model.summary())"
   ]
  },
  {
   "cell_type": "code",
   "execution_count": null,
   "metadata": {},
   "outputs": [],
   "source": [
    "SVG(model_to_dot(model).create(prog='dot', format='svg'))\n",
    "# plot_model(model, to_file='model.png')"
   ]
  },
  {
   "cell_type": "code",
   "execution_count": null,
   "metadata": {},
   "outputs": [],
   "source": [
    "# list all data in history\n",
    "print(history.history.keys())\n",
    "# summarize history for accuracy\n",
    "plt.plot(history.history['acc'])\n",
    "plt.plot(history.history['val_acc'])\n",
    "plt.title('model accuracy')\n",
    "plt.ylabel('accuracy')\n",
    "plt.xlabel('epoch')\n",
    "plt.legend(['train', 'test'], loc='upper left')\n",
    "plt.show()\n",
    "# summarize history for loss\n",
    "plt.plot(history.history['loss'])\n",
    "plt.plot(history.history['val_loss'])\n",
    "plt.title('model loss')\n",
    "plt.ylabel('loss')\n",
    "plt.xlabel('epoch')\n",
    "plt.legend(['train', 'test'], loc='upper left')\n",
    "plt.show()"
   ]
  },
  {
   "cell_type": "code",
   "execution_count": null,
   "metadata": {
    "collapsed": true
   },
   "outputs": [],
   "source": []
  }
 ],
 "metadata": {
  "anaconda-cloud": {},
  "kernelspec": {
   "display_name": "Python [conda root]",
   "language": "python",
   "name": "conda-root-py"
  },
  "language_info": {
   "codemirror_mode": {
    "name": "ipython",
    "version": 3
   },
   "file_extension": ".py",
   "mimetype": "text/x-python",
   "name": "python",
   "nbconvert_exporter": "python",
   "pygments_lexer": "ipython3",
   "version": "3.5.2"
  }
 },
 "nbformat": 4,
 "nbformat_minor": 1
}
