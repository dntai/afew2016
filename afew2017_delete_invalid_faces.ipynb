{
 "cells": [
  {
   "cell_type": "code",
   "execution_count": 2,
   "metadata": {
    "collapsed": true
   },
   "outputs": [],
   "source": [
    "import os\n",
    "import shutil"
   ]
  },
  {
   "cell_type": "code",
   "execution_count": 9,
   "metadata": {},
   "outputs": [
    {
     "name": "stdout",
     "output_type": "stream",
     "text": [
      "E:/EmotiW2017/lstm/original/Train_AFEW/Angry/001419640.avi.mp4.images\n",
      "E:/EmotiW2017/lstm/original/Train_AFEW/Angry/002350040.avi.mp4.images\n",
      "E:/EmotiW2017/lstm/original/Train_AFEW/Angry/004510640.avi.mp4.images\n",
      "E:/EmotiW2017/lstm/original/Train_AFEW/Angry/010618600.avi.mp4.images\n",
      "E:/EmotiW2017/lstm/original/Train_AFEW/Angry/011506440.avi.mp4.images\n",
      "E:/EmotiW2017/lstm/original/Train_AFEW/Angry/012738600.avi.mp4.images\n",
      "E:/EmotiW2017/lstm/original/Train_AFEW/Angry/020913240.avi.mp4.images\n",
      "E:/EmotiW2017/lstm/original/Train_AFEW/Disgust/003330000.avi.mp4.images\n",
      "E:/EmotiW2017/lstm/original/Train_AFEW/Fear/000359934.avi.mp4.images\n",
      "E:/EmotiW2017/lstm/original/Train_AFEW/Fear/001143440.avi.mp4.images\n",
      "E:/EmotiW2017/lstm/original/Train_AFEW/Fear/002021400.avi.mp4.images\n",
      "E:/EmotiW2017/lstm/original/Train_AFEW/Fear/003439750.avi.mp4.images\n",
      "E:/EmotiW2017/lstm/original/Train_AFEW/Fear/003556960.avi.mp4.images\n",
      "E:/EmotiW2017/lstm/original/Train_AFEW/Fear/004305440.avi.mp4.images\n",
      "E:/EmotiW2017/lstm/original/Train_AFEW/Fear/010543574.avi.mp4.images\n",
      "E:/EmotiW2017/lstm/original/Train_AFEW/Fear/010924040.avi.mp4.images\n",
      "E:/EmotiW2017/lstm/original/Train_AFEW/Fear/011029550.avi.mp4.images\n",
      "E:/EmotiW2017/lstm/original/Train_AFEW/Fear/011752520.avi.mp4.images\n",
      "E:/EmotiW2017/lstm/original/Train_AFEW/Happy/004312720.avi.mp4.images\n",
      "E:/EmotiW2017/lstm/original/Train_AFEW/Happy/004355094.avi.mp4.images\n",
      "E:/EmotiW2017/lstm/original/Train_AFEW/Happy/004425334.avi.mp4.images\n",
      "E:/EmotiW2017/lstm/original/Train_AFEW/Happy/005109000.avi.mp4.images\n",
      "E:/EmotiW2017/lstm/original/Train_AFEW/Happy/005543160.avi.mp4.images\n",
      "E:/EmotiW2017/lstm/original/Train_AFEW/Happy/010003880.avi.mp4.images\n",
      "E:/EmotiW2017/lstm/original/Train_AFEW/Happy/015407880.avi.mp4.images\n",
      "E:/EmotiW2017/lstm/original/Train_AFEW/Neutral/001522614.avi.mp4.images\n",
      "E:/EmotiW2017/lstm/original/Train_AFEW/Neutral/002852720.avi.mp4.images\n",
      "E:/EmotiW2017/lstm/original/Train_AFEW/Neutral/003349414.avi.mp4.images\n",
      "E:/EmotiW2017/lstm/original/Train_AFEW/Neutral/003801920.avi.mp4.images\n",
      "E:/EmotiW2017/lstm/original/Train_AFEW/Neutral/013244600.avi.mp4.images\n",
      "E:/EmotiW2017/lstm/original/Train_AFEW/Neutral/023340360.avi.mp4.images\n",
      "E:/EmotiW2017/lstm/original/Train_AFEW/Sad/000317144.avi.mp4.images\n",
      "E:/EmotiW2017/lstm/original/Train_AFEW/Sad/001703120.avi.mp4.images\n",
      "E:/EmotiW2017/lstm/original/Train_AFEW/Sad/003221880.avi.mp4.images\n",
      "E:/EmotiW2017/lstm/original/Train_AFEW/Sad/003228440.avi.mp4.images\n",
      "E:/EmotiW2017/lstm/original/Train_AFEW/Sad/004513880.avi.mp4.images\n",
      "E:/EmotiW2017/lstm/original/Train_AFEW/Sad/005624720.avi.mp4.images\n",
      "E:/EmotiW2017/lstm/original/Train_AFEW/Sad/005834360.avi.mp4.images\n",
      "E:/EmotiW2017/lstm/original/Train_AFEW/Sad/005959600.avi.mp4.images\n",
      "E:/EmotiW2017/lstm/original/Train_AFEW/Sad/010915080.avi.mp4.images\n",
      "E:/EmotiW2017/lstm/original/Train_AFEW/Sad/011437680.avi.mp4.images\n",
      "E:/EmotiW2017/lstm/original/Train_AFEW/Sad/014310160.avi.mp4.images\n",
      "E:/EmotiW2017/lstm/original/Train_AFEW/Surprise/000311160.avi.mp4.images\n",
      "E:/EmotiW2017/lstm/original/Train_AFEW/Surprise/001947263.avi.mp4.images\n",
      "E:/EmotiW2017/lstm/original/Train_AFEW/Surprise/002518734.avi.mp4.images\n",
      "E:/EmotiW2017/lstm/original/Train_AFEW/Surprise/011603080.avi.mp4.images\n",
      "E:/EmotiW2017/lstm/original/Train_AFEW/Surprise/011603980.avi.mp4.images\n",
      "done.\n"
     ]
    }
   ],
   "source": [
    "# PATH = 'E:/EmotiW2017/lstm/aligned/Train_AFEW'\n",
    "PATH = 'E:/EmotiW2017/lstm/original/Train_AFEW'\n",
    "# PATH = 'E:/EmotiW2017/lstm/combined/Train_AFEW'\n",
    "dir_list = ['001419640.avi.mp4.images', '002350040.avi.mp4.images', '004510640.avi.mp4.images', '010618600.avi.mp4.images', '011506440.avi.mp4.images', '012738600.avi.mp4.images', '020913240.avi.mp4.images', '003330000.avi.mp4.images', '000359934.avi.mp4.images', '001143440.avi.mp4.images', '002021400.avi.mp4.images', '003439750.avi.mp4.images', '003556960.avi.mp4.images', '004305440.avi.mp4.images', '010543574.avi.mp4.images', '010924040.avi.mp4.images', '011029550.avi.mp4.images', '011752520.avi.mp4.images', '004312720.avi.mp4.images', '004355094.avi.mp4.images', '004425334.avi.mp4.images', '005109000.avi.mp4.images', '005543160.avi.mp4.images', '010003880.avi.mp4.images', '015407880.avi.mp4.images', '001522614.avi.mp4.images', '002852720.avi.mp4.images', '003349414.avi.mp4.images', '003801920.avi.mp4.images', '013244600.avi.mp4.images', '023340360.avi.mp4.images', '000317144.avi.mp4.images', '001703120.avi.mp4.images', '003221880.avi.mp4.images', '003228440.avi.mp4.images', '004513880.avi.mp4.images', '005624720.avi.mp4.images', '005834360.avi.mp4.images', '005959600.avi.mp4.images', '010915080.avi.mp4.images', '011437680.avi.mp4.images', '014310160.avi.mp4.images', '000311160.avi.mp4.images', '001947263.avi.mp4.images', '002518734.avi.mp4.images', '011603080.avi.mp4.images', '011603980.avi.mp4.images']\n",
    "\n",
    "for emo in os.listdir(PATH):\n",
    "    full_emo = PATH + '/' + emo\n",
    "    if os.path.isdir(full_emo):\n",
    "        for vid in os.listdir(full_emo):\n",
    "            full_vid = full_emo + '/' + vid\n",
    "            \n",
    "            if vid in dir_list:\n",
    "                print(full_vid)\n",
    "                shutil.rmtree(full_vid)\n",
    "        \n",
    "print('done.')"
   ]
  },
  {
   "cell_type": "code",
   "execution_count": null,
   "metadata": {
    "collapsed": true
   },
   "outputs": [],
   "source": []
  }
 ],
 "metadata": {
  "kernelspec": {
   "display_name": "Python [conda root]",
   "language": "python",
   "name": "conda-root-py"
  },
  "language_info": {
   "codemirror_mode": {
    "name": "ipython",
    "version": 3
   },
   "file_extension": ".py",
   "mimetype": "text/x-python",
   "name": "python",
   "nbconvert_exporter": "python",
   "pygments_lexer": "ipython3",
   "version": "3.5.2"
  }
 },
 "nbformat": 4,
 "nbformat_minor": 1
}
