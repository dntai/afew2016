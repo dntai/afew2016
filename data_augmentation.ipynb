{
 "cells": [
  {
   "cell_type": "code",
   "execution_count": 109,
   "metadata": {},
   "outputs": [],
   "source": [
    "import os\n",
    "import cv2\n",
    "import shutil\n",
    "import numpy as np"
   ]
  },
  {
   "cell_type": "code",
   "execution_count": 110,
   "metadata": {
    "collapsed": true
   },
   "outputs": [],
   "source": [
    "PATH = 'E:/EmotiW2017/lstm/aligned/Train_AFEW'\n",
    "PATH_SAVE = 'E:/EmotiW2017/lstm/aligned/Train_AFEW_N'\n",
    "value = 20"
   ]
  },
  {
   "cell_type": "code",
   "execution_count": 112,
   "metadata": {
    "scrolled": false
   },
   "outputs": [
    {
     "name": "stdout",
     "output_type": "stream",
     "text": [
      "---> Angry...\n",
      "---> Disgust...\n",
      "---> Fear...\n",
      "---> Happy...\n",
      "---> Neutral...\n",
      "---> Sad...\n",
      "---> Surprise...\n",
      "done.\n"
     ]
    }
   ],
   "source": [
    "for emo in os.listdir(PATH):\n",
    "    emo_path = PATH + '/' + emo\n",
    "    emo_path_n = PATH_SAVE + '/' + emo\n",
    "    if os.path.isdir(emo_path):\n",
    "        print('---> ' + emo + '...')\n",
    "        for video in os.listdir(emo_path):\n",
    "            video_path = emo_path + '/' + video\n",
    "            video_path_n = emo_path_n + '/' + video\n",
    "            if os.path.isdir(video_path):\n",
    "                # New paths\n",
    "                video_path_flip = video_path_n + '_flip'\n",
    "                video_path_flip_light = video_path_n + '_flip_light'\n",
    "                video_path_flip_dark = video_path_n + '_flip_dark'\n",
    "                video_path_light = video_path_n + '_light'\n",
    "                video_path_dark = video_path_n + '_dark'\n",
    "\n",
    "                if os.path.exists(video_path_flip):\n",
    "                    shutil.rmtree(video_path_flip)\n",
    "                os.makedirs(video_path_flip)\n",
    "\n",
    "                if os.path.exists(video_path_flip_light):\n",
    "                    shutil.rmtree(video_path_flip_light)\n",
    "                os.makedirs(video_path_flip_light)\n",
    "\n",
    "                if os.path.exists(video_path_flip_dark):\n",
    "                    shutil.rmtree(video_path_flip_dark)\n",
    "                os.makedirs(video_path_flip_dark)\n",
    "\n",
    "                if os.path.exists(video_path_light):\n",
    "                    shutil.rmtree(video_path_light)\n",
    "                os.makedirs(video_path_light)\n",
    "\n",
    "                if os.path.exists(video_path_dark):\n",
    "                    shutil.rmtree(video_path_dark)\n",
    "                os.makedirs(video_path_dark)\n",
    "\n",
    "                for fra in os.listdir(video_path):\n",
    "                    fra_path = video_path + '/' + fra\n",
    "                    if os.path.isfile(fra_path):\n",
    "                        # Read image\n",
    "                        img = cv2.imread(fra_path)\n",
    "                        hsv = cv2.cvtColor(img, cv2.COLOR_BGR2HSV)\n",
    "                        \n",
    "                        img_flip = cv2.flip(img, 1)\n",
    "                        img_flip_hsv = cv2.cvtColor(img_flip, cv2.COLOR_BGR2HSV)\n",
    "\n",
    "                        # ----------- flip -----------\n",
    "                        fra_path_flip = video_path_flip + '/flip_' + fra\n",
    "                        cv2.imwrite(fra_path_flip, img_flip)\n",
    "\n",
    "                        # ----------- flip-light -----------                        \n",
    "                        fra_path_flip_light = video_path_flip_light + '/flip_light_' + fra\n",
    "                        img_flip_light = img_flip_hsv\n",
    "#                         print('1---------------')\n",
    "#                         print(img_flip_hsv[:, :, 2])\n",
    "                        img_flip_light[:,:,2] = np.where((255 - img_flip_light[:,:,2]) <= value, 255, img_flip_light[:,:,2] + value)\n",
    "                        img_flip_light = cv2.cvtColor(img_flip_light, cv2.COLOR_HSV2BGR)\n",
    "                        cv2.imwrite(fra_path_flip_light, img_flip_light)\n",
    "\n",
    "#                         print('2---------------')\n",
    "#                         print(img_flip_hsv[:, :, 2])\n",
    "                        # ----------- flip-dark -----------\n",
    "                        fra_path_flip_dark = video_path_flip_dark + '/flip_dark_' + fra\n",
    "                        img_flip_dark = img_flip_hsv\n",
    "                        img_flip_dark[:,:,2] = np.where(img_flip_dark[:,:,2] - value <= value, 0, img_flip_dark[:,:,2] - value - value)\n",
    "                        img_flip_dark = cv2.cvtColor(img_flip_dark, cv2.COLOR_HSV2BGR)\n",
    "                        cv2.imwrite(fra_path_flip_dark, img_flip_dark)\n",
    "\n",
    "#                         print('3---------------')\n",
    "#                         print(img_flip_hsv[:, :, 2])\n",
    "                        # ----------- light -----------\n",
    "                        fra_path_light = video_path_light + '/light_' + fra\n",
    "                        img_light = hsv\n",
    "                        img_light[:,:,2] = np.where((255 - img_light[:,:,2]) <= value, 255, img_light[:,:,2] + value)\n",
    "                        img_light = cv2.cvtColor(img_light, cv2.COLOR_HSV2BGR)\n",
    "                        cv2.imwrite(fra_path_light, img_light)\n",
    "                        \n",
    "                        # ----------- dark -----------\n",
    "                        fra_path_dark = video_path_dark + '/dark_' + fra\n",
    "                        img_dark = hsv\n",
    "                        img_dark[:,:,2] = np.where(img_dark[:,:,2] - value <= value, 0, img_dark[:,:,2] - value - value)\n",
    "                        img_dark = cv2.cvtColor(img_dark, cv2.COLOR_HSV2BGR)\n",
    "                        cv2.imwrite(fra_path_dark, img_dark)\n",
    "                        \n",
    "print('done.')"
   ]
  },
  {
   "cell_type": "code",
   "execution_count": null,
   "metadata": {
    "collapsed": true
   },
   "outputs": [],
   "source": []
  }
 ],
 "metadata": {
  "anaconda-cloud": {},
  "kernelspec": {
   "display_name": "Python [conda root]",
   "language": "python",
   "name": "conda-root-py"
  },
  "language_info": {
   "codemirror_mode": {
    "name": "ipython",
    "version": 3
   },
   "file_extension": ".py",
   "mimetype": "text/x-python",
   "name": "python",
   "nbconvert_exporter": "python",
   "pygments_lexer": "ipython3",
   "version": "3.5.2"
  }
 },
 "nbformat": 4,
 "nbformat_minor": 1
}
