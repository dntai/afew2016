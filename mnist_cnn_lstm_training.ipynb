{
 "cells": [
  {
   "cell_type": "code",
   "execution_count": 1,
   "metadata": {},
   "outputs": [
    {
     "name": "stderr",
     "output_type": "stream",
     "text": [
      "Using TensorFlow backend.\n"
     ]
    }
   ],
   "source": [
    "'''\n",
    "Basic demonstration of the capabilities of the CRNN using TimeDistributed layers\n",
    "Processes an MNIST image (or blank square) at each time step and sums the digits.\n",
    "Learning is based on the sum of the digits, not explicit labels on each digit.\n",
    "'''\n",
    "\n",
    "from __future__ import print_function\n",
    "import numpy as np\n",
    "\n",
    "import keras.backend as K\n",
    "from keras.datasets import mnist\n",
    "from keras.models import Sequential\n",
    "from keras.layers.recurrent import SimpleRNN, LSTM, GRU\n",
    "from keras.optimizers import RMSprop, Adadelta, Adam\n",
    "# from keras.layers.convolutional import Convolution2D\n",
    "from keras.layers import Conv2D\n",
    "from keras.layers.core import Dense, Activation, Dropout, Reshape, Flatten\n",
    "from keras.layers.wrappers import TimeDistributed\n",
    "from keras.models import model_from_json\n",
    "\n",
    "import matplotlib.pyplot as plt"
   ]
  },
  {
   "cell_type": "code",
   "execution_count": 2,
   "metadata": {
    "collapsed": true
   },
   "outputs": [],
   "source": [
    "# for reproducibility\n",
    "np.random.seed(2016)  \n",
    "K.set_image_dim_ordering('tf')\n",
    "#define some run parameters\n",
    "batch_size      = 128\n",
    "nb_epochs       = 1\n",
    "examplesPer     = 60000\n",
    "maxToAdd        = 8\n",
    "hidden_units    = 200\n",
    "size            = 28\n",
    "#cutoff          = 1000"
   ]
  },
  {
   "cell_type": "code",
   "execution_count": 3,
   "metadata": {},
   "outputs": [
    {
     "name": "stdout",
     "output_type": "stream",
     "text": [
      "X_train_raw shape: (60000, 28, 28)\n",
      "60000 train samples\n",
      "10000 test samples\n"
     ]
    }
   ],
   "source": [
    "# the data, shuffled and split between train and test sets\n",
    "(X_train_raw, y_train_temp), (X_test_raw, y_test_temp) = mnist.load_data()\n",
    "\n",
    "#basic image processing\n",
    "X_train_raw = X_train_raw.astype('float32')\n",
    "X_test_raw  = X_test_raw.astype('float32')\n",
    "X_train_raw /= 255\n",
    "X_test_raw  /= 255\n",
    "\n",
    "\n",
    "print('X_train_raw shape:', X_train_raw.shape)\n",
    "print(X_train_raw.shape[0], 'train samples')\n",
    "print(X_test_raw.shape[0], 'test samples')"
   ]
  },
  {
   "cell_type": "code",
   "execution_count": 7,
   "metadata": {},
   "outputs": [
    {
     "name": "stdout",
     "output_type": "stream",
     "text": [
      "X_train shape:  (60000, 8, 28, 28, 1)\n",
      "y_train shape:  (60000,)\n",
      "X_test shape:  (60000, 8, 28, 28, 1)\n",
      "y_test shape:  (60000,)\n"
     ]
    }
   ],
   "source": [
    "X_train       = []\n",
    "y_train       = []\n",
    "X_test        = []\n",
    "y_test        = []\n",
    "\n",
    "X_train     = np.zeros((examplesPer,maxToAdd,size,size,1))\n",
    "\n",
    "for i in range(0, examplesPer):\n",
    "    #initialize a training example of max_num_time_steps, im_size, im_size\n",
    "    output      = np.zeros((maxToAdd,size,size,1))\n",
    "    #decide how many MNIST images to put in that tensor\n",
    "    numToAdd    = int(np.ceil(np.random.rand()*maxToAdd))\n",
    "    #sample that many images\n",
    "    indices     = np.random.choice(X_train_raw.shape[0],size=numToAdd)\n",
    "    example     = X_train_raw[indices]\n",
    "    #sum up the outputs for new output\n",
    "    exampleY    = y_train_temp[indices]\n",
    "    output[0:numToAdd,:,:,0] = example\n",
    "    X_train[i,:,:,:,:] = output\n",
    "    y_train.append(np.sum(exampleY))\n",
    "\n",
    "y_train     = np.array(y_train)\n",
    "\n",
    "print(\"X_train shape: \",X_train.shape)\n",
    "print(\"y_train shape: \",y_train.shape)\n",
    "\n",
    "#Test the model\n",
    "X_test     = np.zeros((examplesPer,maxToAdd,size,size,1))\n",
    "for i in range(0,examplesPer):\n",
    "    output      = np.zeros((maxToAdd,size,size,1))\n",
    "    numToAdd    = int(np.ceil(np.random.rand()*maxToAdd))\n",
    "    indices     = np.random.choice(X_test_raw.shape[0],size=numToAdd)\n",
    "    example     = X_test_raw[indices]\n",
    "    exampleY    = y_test_temp[indices]\n",
    "    output[0:numToAdd,:,:,0] = example\n",
    "    X_test[i,:,:,:,:] = output\n",
    "    y_test.append(np.sum(exampleY))\n",
    "\n",
    "X_test  = np.array(X_test)\n",
    "y_test  = np.array(y_test)\n",
    "\n",
    "print(\"X_test shape: \",X_test.shape)\n",
    "print(\"y_test shape: \",y_test.shape)"
   ]
  },
  {
   "cell_type": "code",
   "execution_count": null,
   "metadata": {},
   "outputs": [],
   "source": [
    "#define our time-distributed setup\n",
    "model = Sequential()\n",
    "model.add(TimeDistributed(Conv2D(8, (4, 4), padding='valid'), input_shape=(maxToAdd, size, size, 1)))\n",
    "model.add(Activation('relu'))\n",
    "model.add(TimeDistributed(Conv2D(16, (3, 3), padding='valid')))\n",
    "model.add(Activation('relu'))\n",
    "model.add(TimeDistributed(Flatten()))\n",
    "model.add(Activation('relu'))\n",
    "model.add(GRU(units=100, return_sequences=True))\n",
    "model.add(GRU(units=50, return_sequences=False))\n",
    "model.add(Dropout(.2))\n",
    "model.add(Dense(1))\n",
    "\n",
    "print(model.summary())"
   ]
  },
  {
   "cell_type": "code",
   "execution_count": null,
   "metadata": {
    "collapsed": true
   },
   "outputs": [],
   "source": [
    "adam = Adam()\n",
    "model.compile(loss='mean_squared_error', optimizer=adam)"
   ]
  },
  {
   "cell_type": "code",
   "execution_count": null,
   "metadata": {
    "scrolled": true
   },
   "outputs": [],
   "source": [
    "model.fit(X_train, y_train, batch_size=batch_size, epochs=5,\n",
    "              verbose=1)    \n",
    "\n",
    "# preds   = model.predict(X_test)\n",
    "\n",
    "# #print the results of the test\n",
    "# print(np.sum(np.sqrt(np.mean([ (y_test[i] - preds[i][0])**2 for i in range(0,len(preds)) ]))))\n",
    "# print(\"naive guess\", np.sum(np.sqrt(np.mean([ (y_test[i] - np.mean(y_test))**2 for i in range(0,len(y_test)) ]))))"
   ]
  },
  {
   "cell_type": "code",
   "execution_count": 51,
   "metadata": {},
   "outputs": [
    {
     "data": {
      "image/png": "[encoded data removed]",
      "text/plain": [
       "<matplotlib.figure.Figure at 0x1eed7bed860>"
      ]
     },
     "metadata": {},
     "output_type": "display_data"
    },
    {
     "name": "stdout",
     "output_type": "stream",
     "text": [
      "6\n"
     ]
    },
    {
     "data": {
      "text/plain": [
       "(28, 28)"
      ]
     },
     "execution_count": 51,
     "metadata": {},
     "output_type": "execute_result"
    }
   ],
   "source": [
    "plt.imshow(example[0], cmap='gray')\n",
    "plt.show()\n",
    "\n",
    "print(exampleY[0])\n",
    "\n",
    "example[0].shape"
   ]
  },
  {
   "cell_type": "code",
   "execution_count": 11,
   "metadata": {
    "collapsed": true
   },
   "outputs": [],
   "source": [
    "def loadThatModel(folder):\n",
    "    with open(folder+\".json\",'r') as f:\n",
    "        json_string     = f.read()\n",
    "    model = model_from_json(json_string)\n",
    "    model.load_weights(folder+\".h5\")\n",
    "    return model"
   ]
  },
  {
   "cell_type": "code",
   "execution_count": 12,
   "metadata": {
    "collapsed": true
   },
   "outputs": [],
   "source": [
    "model   = loadThatModel(\"./model/basicRNN\")"
   ]
  },
  {
   "cell_type": "code",
   "execution_count": 60,
   "metadata": {
    "scrolled": true
   },
   "outputs": [
    {
     "data": {
      "image/png": "[encoded data removed]",
      "text/plain": [
       "<matplotlib.figure.Figure at 0x1eed165ccc0>"
      ]
     },
     "metadata": {},
     "output_type": "display_data"
    },
    {
     "name": "stdout",
     "output_type": "stream",
     "text": [
      "24 ~ 23.9555\n"
     ]
    }
   ],
   "source": [
    "indx = int(np.ceil(np.random.rand()*examplesPer))\n",
    "test_ins = X_test[indx]\n",
    "\n",
    "# fig, ax = plt.subplots(nrows=2,ncols=4)\n",
    "\n",
    "img_indx = 0\n",
    "plt.subplot(2, 4, img_indx + 1)\n",
    "plt.axis('off')\n",
    "plt.imshow(X_test[indx][img_indx][:, :, 0], cmap='gray')\n",
    "\n",
    "img_indx += 1\n",
    "plt.subplot(2, 4, img_indx + 1)\n",
    "plt.axis('off')\n",
    "plt.imshow(X_test[indx][img_indx][:, :, 0], cmap='gray')\n",
    "\n",
    "img_indx += 1\n",
    "plt.subplot(2, 4, img_indx + 1)\n",
    "plt.axis('off')\n",
    "plt.imshow(X_test[indx][img_indx][:, :, 0], cmap='gray')\n",
    "\n",
    "img_indx += 1\n",
    "plt.subplot(2, 4, img_indx + 1)\n",
    "plt.axis('off')\n",
    "plt.imshow(X_test[indx][img_indx][:, :, 0], cmap='gray')\n",
    "\n",
    "img_indx += 1\n",
    "plt.subplot(2, 4, img_indx + 1)\n",
    "plt.axis('off')\n",
    "plt.imshow(X_test[indx][img_indx][:, :, 0], cmap='gray')\n",
    "\n",
    "img_indx += 1\n",
    "plt.subplot(2, 4, img_indx + 1)\n",
    "plt.axis('off')\n",
    "plt.imshow(X_test[indx][img_indx][:, :, 0], cmap='gray')\n",
    "\n",
    "img_indx += 1\n",
    "plt.subplot(2, 4, img_indx + 1)\n",
    "plt.axis('off')\n",
    "plt.imshow(X_test[indx][img_indx][:, :, 0], cmap='gray')\n",
    "\n",
    "img_indx += 1\n",
    "plt.subplot(2, 4, img_indx + 1)\n",
    "plt.axis('off')\n",
    "plt.imshow(X_test[indx][img_indx][:, :, 0], cmap='gray')\n",
    "\n",
    "plt.show()\n",
    "\n",
    "test_ins = np.expand_dims(test_ins, axis=0)\n",
    "\n",
    "preds = model.predict(test_ins)\n",
    "print(str(y_test[indx]) + ' ~ ' + str(preds[0][0]))"
   ]
  },
  {
   "cell_type": "code",
   "execution_count": 22,
   "metadata": {
    "collapsed": true
   },
   "outputs": [],
   "source": [
    "# #save the model\n",
    "# jsonstring = model.to_json()\n",
    "# with open(\"./model/basicRNN.json\",'w') as f:\n",
    "#    f.write(jsonstring)\n",
    "# model.save_weights(\"./model/basicRNN.h5\",overwrite=True)"
   ]
  },
  {
   "cell_type": "code",
   "execution_count": null,
   "metadata": {
    "collapsed": true
   },
   "outputs": [],
   "source": []
  }
 ],
 "metadata": {
  "anaconda-cloud": {},
  "kernelspec": {
   "display_name": "Python [conda root]",
   "language": "python",
   "name": "conda-root-py"
  },
  "language_info": {
   "codemirror_mode": {
    "name": "ipython",
    "version": 3
   },
   "file_extension": ".py",
   "mimetype": "text/x-python",
   "name": "python",
   "nbconvert_exporter": "python",
   "pygments_lexer": "ipython3",
   "version": "3.5.2"
  }
 },
 "nbformat": 4,
 "nbformat_minor": 1
}
