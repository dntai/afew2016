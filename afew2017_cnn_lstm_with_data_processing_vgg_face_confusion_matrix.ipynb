{
 "cells": [
  {
   "cell_type": "code",
   "execution_count": 2,
   "metadata": {
    "collapsed": true
   },
   "outputs": [],
   "source": [
    "TRAIN = 1\n",
    "REBUILD_DATA = 1\n",
    "REDEFINE_MODEL = 1\n",
    "\n",
    "SUFFIX = 'cluster'\n",
    "\n",
    "PATH_TRAIN = 'E:/EmotiW2017/lstm/original/Train_AFEW_' + SUFFIX\n",
    "# PATH_TRAIN = 'E:/EmotiW2017/lstm/aligned_original/Train_AFEW'\n",
    "PATH_VAL = 'E:/EmotiW2017/lstm/original/Val_AFEW'\n",
    "# PATH_VAL = 'E:/EmotiW2017/lstm/aligned/Val_AFEW'\n",
    "\n",
    "NPY_X_TRAIN_DATA = 'training_data_x_' + SUFFIX + '.npy'\n",
    "NPY_Y_TRAIN_DATA = 'training_data_y_' + SUFFIX + '.npy'\n",
    "\n",
    "NPY_X_TEST_DATA = 'testing_data_x_' + SUFFIX + '.npy'\n",
    "NPY_Y_TEST_DATA = 'testing_data_y_' + SUFFIX + '.npy'\n",
    "\n",
    "# NPY_X_TEST_DATA = 'testing_data_x_a.npy'\n",
    "# NPY_Y_TEST_DATA = 'testing_data_y_a.npy'\n",
    "\n",
    "MODEL_ARCH_FILE = 'cnn_lstm_afew2017_' + SUFFIX + '.json'\n",
    "WEIGHT_FILE = 'cnn_lstm_afew2017_' + SUFFIX + '.hdf5'\n",
    "TRAINING_HIST = 'cnn_lstm_afew2017_' + SUFFIX + '.pickle'\n",
    "\n",
    "# We will process maxToAdd frames each video to recognize facial expression\n",
    "maxToAdd = 16\n",
    "size = 224\n",
    "\n",
    "batch_size = 197\n",
    "# batch_size = 32\n",
    "n_epochs = 200\n",
    "\n",
    "learning_rate = 0.0001\n",
    "early_stop_after = 20"
   ]
  },
  {
   "cell_type": "code",
   "execution_count": 71,
   "metadata": {},
   "outputs": [],
   "source": [
    "import os\n",
    "import numpy as np\n",
    "import matplotlib.pyplot as plt\n",
    "from scipy import stats\n",
    "import cv2\n",
    "import time\n",
    "import json\n",
    "import pickle\n",
    "\n",
    "from tensorflow.contrib.keras.python.keras.datasets import mnist\n",
    "from tensorflow.contrib.keras.python.keras.models import Sequential\n",
    "from tensorflow.contrib.keras.python.keras.layers.recurrent import SimpleRNN, LSTM, GRU\n",
    "from tensorflow.contrib.keras.python.keras.optimizers import RMSprop, Adadelta, Adam\n",
    "from tensorflow.contrib.keras.python.keras.layers import Convolution2D, Conv2D, MaxPooling2D, UpSampling2D\n",
    "from tensorflow.contrib.keras.python.keras.layers.core import Dense, Activation, Dropout, Reshape, Flatten\n",
    "from tensorflow.contrib.keras.python.keras.layers.wrappers import TimeDistributed\n",
    "from tensorflow.contrib.keras.python.keras.callbacks import EarlyStopping\n",
    "from tensorflow.contrib.keras.python.keras.regularizers import l1, l2\n",
    "from tensorflow.contrib.keras.python.keras.utils.vis_utils import plot_model\n",
    "from tensorflow.contrib.keras.python.keras.layers.normalization import BatchNormalization\n",
    "from tensorflow.contrib.keras.python.keras import models\n",
    "\n",
    "from tensorflow.contrib.keras.python.keras.models import model_from_json\n",
    "\n",
    "from tensorflow.contrib.keras.python.keras import backend as K\n",
    "\n",
    "from natsort import natsorted\n",
    "from IPython.display import clear_output\n",
    "\n",
    "# VGG-FACE\n",
    "from tensorflow.contrib.keras.python.keras.preprocessing import image\n",
    "from tensorflow.contrib.keras.python.keras.engine import Model\n",
    "# from keras_vggface.vggface import VGGFace\n",
    "\n",
    "# Confusion matrix\n",
    "from sklearn.metrics import confusion_matrix\n",
    "import itertools\n",
    "\n",
    "K.set_learning_phase(1)"
   ]
  },
  {
   "cell_type": "code",
   "execution_count": 4,
   "metadata": {
    "collapsed": true
   },
   "outputs": [],
   "source": [
    "def emo2int(emo):\n",
    "    if emo == 'Angry':\n",
    "        return 0\n",
    "    elif emo == 'Disgust':\n",
    "        return 1\n",
    "    elif emo == 'Fear':\n",
    "        return 2\n",
    "    elif emo == 'Happy':\n",
    "        return 3\n",
    "    elif emo == 'Neutral':\n",
    "        return 4\n",
    "    elif emo == 'Sad':\n",
    "        return 5\n",
    "    else:\n",
    "        return 6"
   ]
  },
  {
   "cell_type": "code",
   "execution_count": 106,
   "metadata": {},
   "outputs": [],
   "source": [
    "def plot_confusion_matrix(y_test, y_pred, classes,\n",
    "                          normalize=False,\n",
    "                          title='Confusion matrix',\n",
    "                          cmap=plt.cm.Blues):\n",
    "    \"\"\"\n",
    "    This function prints and plots the confusion matrix.\n",
    "    Normalization can be applied by setting `normalize=True`.\n",
    "    \"\"\"\n",
    "    cm = confusion_matrix(y_test, y_pred)\n",
    "    np.set_printoptions(precision=2)\n",
    "    \n",
    "    plt.figure()\n",
    "    plt.imshow(cm, interpolation='nearest', cmap=cmap)\n",
    "    plt.title(title)\n",
    "    plt.colorbar()\n",
    "    tick_marks = np.arange(len(classes))\n",
    "    plt.xticks(tick_marks, classes, rotation=45)\n",
    "    plt.yticks(tick_marks, classes)\n",
    "\n",
    "    if normalize:\n",
    "        cm = np.round(cm.astype('float') / cm.sum(axis=1)[:, np.newaxis], 2)\n",
    "\n",
    "    thresh = cm.max() / 2.\n",
    "    for i, j in itertools.product(range(cm.shape[0]), range(cm.shape[1])):\n",
    "        plt.text(j, i, cm[i, j],\n",
    "                 horizontalalignment=\"center\",\n",
    "                 color=\"white\" if cm[i, j] > thresh else \"black\")\n",
    "\n",
    "    plt.tight_layout()\n",
    "    plt.ylabel('True label')\n",
    "    plt.xlabel('Predicted label')\n",
    "    plt.show()"
   ]
  },
  {
   "cell_type": "markdown",
   "metadata": {},
   "source": [
    "# Training data"
   ]
  },
  {
   "cell_type": "markdown",
   "metadata": {},
   "source": [
    "#### Count # of video in training data"
   ]
  },
  {
   "cell_type": "code",
   "execution_count": 5,
   "metadata": {},
   "outputs": [],
   "source": [
    "if REBUILD_DATA == 1:\n",
    "    n_vids_train = 0\n",
    "\n",
    "    for emo in os.listdir(PATH_TRAIN):\n",
    "        full_emo = PATH_TRAIN + '/' + emo\n",
    "        if os.path.isdir(full_emo):\n",
    "            for vid in os.listdir(full_emo):\n",
    "                full_vid = full_emo + '/' + vid\n",
    "\n",
    "                n_vids_train += 1\n",
    "\n",
    "    print(' > %d videos found' % (n_vids_train))"
   ]
  },
  {
   "cell_type": "markdown",
   "metadata": {},
   "source": [
    "#### Count # of frames in each video in training data"
   ]
  },
  {
   "cell_type": "code",
   "execution_count": 6,
   "metadata": {},
   "outputs": [],
   "source": [
    "if REBUILD_DATA == 1:\n",
    "    n_fra_stat_train = np.zeros((n_vids_train, 1))\n",
    "\n",
    "    vid_indx = 0\n",
    "\n",
    "    for emo in os.listdir(PATH_TRAIN):\n",
    "        full_emo = PATH_TRAIN + '/' + emo\n",
    "        if os.path.isdir(full_emo):\n",
    "            for vid in os.listdir(full_emo):\n",
    "                full_vid = full_emo + '/' + vid\n",
    "                for fra in os.listdir(full_vid):\n",
    "                    full_fra = full_vid + '/' + fra\n",
    "                    if os.path.isfile(full_fra):\n",
    "                        n_fra_stat_train[vid_indx, 0] += 1\n",
    "\n",
    "                vid_indx += 1\n",
    "\n",
    "    plt.hist(n_fra_stat_train, bins=60)\n",
    "    plt.show()"
   ]
  },
  {
   "cell_type": "code",
   "execution_count": 7,
   "metadata": {},
   "outputs": [],
   "source": [
    "if REBUILD_DATA == 1:\n",
    "    print(np.average(n_fra_stat_train))\n",
    "    print(stats.mode(n_fra_stat_train))"
   ]
  },
  {
   "cell_type": "code",
   "execution_count": 8,
   "metadata": {},
   "outputs": [
    {
     "name": "stdout",
     "output_type": "stream",
     "text": [
      "> loading training data...done.\n"
     ]
    }
   ],
   "source": [
    "if REBUILD_DATA == 0 and os.path.isfile(NPY_X_TRAIN_DATA) and os.path.isfile(NPY_Y_TRAIN_DATA):\n",
    "    print('> loading training data...', end='')\n",
    "    X_train = np.load(NPY_X_TRAIN_DATA)\n",
    "    y_train = np.load(NPY_Y_TRAIN_DATA)\n",
    "    print('done.')\n",
    "else:\n",
    "    print('> generating training data...', end='')\n",
    "    X_train = []\n",
    "    y_train = []\n",
    "\n",
    "    X_train = np.zeros((n_vids_train, maxToAdd, size, size, 1))\n",
    "\n",
    "    vid_indx = 0\n",
    "\n",
    "    for emo in os.listdir(PATH_TRAIN):\n",
    "        full_emo = PATH_TRAIN + '/' + emo\n",
    "        if os.path.isdir(full_emo):\n",
    "            for vid in os.listdir(full_emo):\n",
    "                full_vid = full_emo + '/' + vid\n",
    "\n",
    "                # Initialize a training example of max_num_time_steps, im_size, im_size\n",
    "                output = np.zeros((maxToAdd, size, size, 1))\n",
    "\n",
    "                # Decide how many images to put in that tensor\n",
    "                numToAdd = int(np.min((maxToAdd, n_fra_stat_train[vid_indx, 0])))\n",
    "\n",
    "                # Sample that images\n",
    "                fra_indx = 0\n",
    "                example = np.zeros((numToAdd, size, size))\n",
    "                for fra in os.listdir(full_vid):\n",
    "                    if fra_indx < numToAdd:\n",
    "                        full_fra = full_vid + '/' + fra\n",
    "                        if os.path.isfile(full_fra):\n",
    "                            img = cv2.imread(full_fra)\n",
    "                            img = cv2.resize(img, (size, size))\n",
    "                            img = img[:, :, 0]\n",
    "                            example[fra_indx] = img\n",
    "\n",
    "                            fra_indx += 1\n",
    "                    else:\n",
    "                        break\n",
    "\n",
    "                output[0:numToAdd, :, :, 0] = example\n",
    "                X_train[vid_indx, :, :, :, :] = output\n",
    "\n",
    "                # Get the label for current video\n",
    "                y_train.append(emo2int(emo))\n",
    "\n",
    "                vid_indx += 1\n",
    "\n",
    "    y_train = np.array(y_train)\n",
    "    print('done.')\n",
    "\n",
    "    print(\"X_train shape: \", X_train.shape)\n",
    "    print(\"y_train shape: \", y_train.shape)\n",
    "\n",
    "    plt.imshow(X_train[0, 0, :, :, 0], cmap='gray')\n",
    "    plt.show()\n",
    "    \n",
    "    np.save(NPY_X_TRAIN_DATA, X_train)\n",
    "    np.save(NPY_Y_TRAIN_DATA, y_train)"
   ]
  },
  {
   "cell_type": "markdown",
   "metadata": {},
   "source": [
    "# Validation data"
   ]
  },
  {
   "cell_type": "code",
   "execution_count": 9,
   "metadata": {},
   "outputs": [
    {
     "name": "stdout",
     "output_type": "stream",
     "text": [
      " > 383 videos found\n"
     ]
    }
   ],
   "source": [
    "n_vids_test = 0\n",
    "\n",
    "for emo in os.listdir(PATH_VAL):\n",
    "    full_emo = PATH_VAL + '/' + emo\n",
    "    if os.path.isdir(full_emo):\n",
    "        for vid in os.listdir(full_emo):\n",
    "            full_vid = full_emo + '/' + vid\n",
    "            \n",
    "            n_vids_test += 1\n",
    "\n",
    "print(' > %d videos found' % (n_vids_test))"
   ]
  },
  {
   "cell_type": "code",
   "execution_count": 10,
   "metadata": {},
   "outputs": [
    {
     "data": {
      "image/png": "[encoded data removed]",
      "text/plain": [
       "<matplotlib.figure.Figure at 0x21dbef945f8>"
      ]
     },
     "metadata": {},
     "output_type": "display_data"
    }
   ],
   "source": [
    "n_fra_stat_test = np.zeros((n_vids_test, 1))\n",
    "\n",
    "vid_indx = 0\n",
    "\n",
    "for emo in os.listdir(PATH_VAL):\n",
    "    full_emo = PATH_VAL + '/' + emo\n",
    "    if os.path.isdir(full_emo):\n",
    "        for vid in os.listdir(full_emo):\n",
    "            full_vid = full_emo + '/' + vid\n",
    "            for fra in os.listdir(full_vid):\n",
    "                full_fra = full_vid + '/' + fra\n",
    "                if os.path.isfile(full_fra):\n",
    "                    n_fra_stat_test[vid_indx, 0] += 1\n",
    "                    \n",
    "            vid_indx += 1\n",
    "\n",
    "plt.hist(n_fra_stat_test, bins=60)\n",
    "plt.show()"
   ]
  },
  {
   "cell_type": "code",
   "execution_count": 11,
   "metadata": {
    "scrolled": true
   },
   "outputs": [
    {
     "name": "stdout",
     "output_type": "stream",
     "text": [
      "51.8825065274\n",
      "ModeResult(mode=array([[ 54.]]), count=array([[11]]))\n"
     ]
    }
   ],
   "source": [
    "print(np.average(n_fra_stat_test))\n",
    "print(stats.mode(n_fra_stat_test))"
   ]
  },
  {
   "cell_type": "code",
   "execution_count": 12,
   "metadata": {},
   "outputs": [
    {
     "name": "stdout",
     "output_type": "stream",
     "text": [
      "> loading validation data...done.\n"
     ]
    }
   ],
   "source": [
    "if REBUILD_DATA == 0 and os.path.isfile(NPY_X_TEST_DATA) and os.path.isfile(NPY_Y_TEST_DATA):\n",
    "    print('> loading validation data...', end='')\n",
    "    X_test = np.load(NPY_X_TEST_DATA)\n",
    "    y_test = np.load(NPY_Y_TEST_DATA)\n",
    "    print('done.')\n",
    "else:\n",
    "    print('> generating validation data...', end='')\n",
    "    X_test = []\n",
    "    y_test = []\n",
    "\n",
    "    X_test = np.zeros((n_vids_test, maxToAdd, size, size, 1))\n",
    "\n",
    "    vid_indx = 0\n",
    "\n",
    "    for emo in natsorted(os.listdir(PATH_VAL)):\n",
    "        full_emo = PATH_VAL + '/' + emo\n",
    "        if os.path.isdir(full_emo):\n",
    "            for vid in natsorted(os.listdir(full_emo)):\n",
    "                full_vid = full_emo + '/' + vid\n",
    "\n",
    "                # Initialize a testing example of max_num_time_steps, im_size, im_size\n",
    "                output = np.zeros((maxToAdd, size, size, 1))\n",
    "\n",
    "                # Decide how many images to put in that tensor\n",
    "                numToAdd = int(np.min((maxToAdd, n_fra_stat_test[vid_indx, 0])))\n",
    "\n",
    "                # Sample that images\n",
    "                fra_indx = 0\n",
    "                example = np.zeros((numToAdd, size, size))\n",
    "                for fra in natsorted(os.listdir(full_vid)):\n",
    "                    if fra_indx < numToAdd:\n",
    "                        full_fra = full_vid + '/' + fra\n",
    "                        if os.path.isfile(full_fra):\n",
    "                            img = cv2.imread(full_fra)\n",
    "                            img = cv2.resize(img, (size, size))\n",
    "                            img = img[:, :, 0]\n",
    "                            example[fra_indx] = img\n",
    "\n",
    "                            fra_indx += 1\n",
    "                    else:\n",
    "                        break\n",
    "\n",
    "                output[0:numToAdd, :, :, 0] = example\n",
    "                X_test[vid_indx, :, :, :, :] = output\n",
    "\n",
    "                # Get the label for current video\n",
    "                y_test.append(emo2int(emo))\n",
    "\n",
    "                vid_indx += 1\n",
    "\n",
    "    y_test = np.array(y_test)\n",
    "    print('done.')\n",
    "\n",
    "    print(\"X_test shape: \", X_test.shape)\n",
    "    print(\"y_test shape: \", y_test.shape)\n",
    "\n",
    "    plt.imshow(X_test[0, 0, :, :, 0], cmap='gray')\n",
    "    plt.show()\n",
    "    \n",
    "    np.save(NPY_X_TEST_DATA, X_test)\n",
    "    np.save(NPY_Y_TEST_DATA, y_test)"
   ]
  },
  {
   "cell_type": "code",
   "execution_count": 13,
   "metadata": {},
   "outputs": [
    {
     "data": {
      "image/png": "[encoded data removed]",
      "text/plain": [
       "<matplotlib.figure.Figure at 0x21dc19507b8>"
      ]
     },
     "metadata": {},
     "output_type": "display_data"
    },
    {
     "data": {
      "image/png": "[encoded data removed]",
      "text/plain": [
       "<matplotlib.figure.Figure at 0x21dc1781630>"
      ]
     },
     "metadata": {},
     "output_type": "display_data"
    }
   ],
   "source": [
    "plt.hist(y_test, bins=7)\n",
    "plt.show()\n",
    "\n",
    "plt.hist(y_train, bins=7)\n",
    "plt.show()"
   ]
  },
  {
   "cell_type": "markdown",
   "metadata": {
    "collapsed": true
   },
   "source": [
    "# CNN-LSTM"
   ]
  },
  {
   "cell_type": "code",
   "execution_count": 28,
   "metadata": {
    "scrolled": true
   },
   "outputs": [
    {
     "name": "stdout",
     "output_type": "stream",
     "text": [
      "Defining model..._________________________________________________________________\n",
      "Layer (type)                 Output Shape              Param #   \n",
      "=================================================================\n",
      "time_distributed_78_input (I (None, 16, 224, 224, 1)   0         \n",
      "_________________________________________________________________\n",
      "time_distributed_78 (TimeDis (None, 16, 224, 224, 64)  640       \n",
      "_________________________________________________________________\n",
      "time_distributed_79 (TimeDis (None, 16, 224, 224, 64)  36928     \n",
      "_________________________________________________________________\n",
      "time_distributed_80 (TimeDis (None, 16, 112, 112, 64)  0         \n",
      "_________________________________________________________________\n",
      "time_distributed_81 (TimeDis (None, 16, 112, 112, 128) 73856     \n",
      "_________________________________________________________________\n",
      "time_distributed_82 (TimeDis (None, 16, 112, 112, 128) 147584    \n",
      "_________________________________________________________________\n",
      "time_distributed_83 (TimeDis (None, 16, 56, 56, 128)   0         \n",
      "_________________________________________________________________\n",
      "time_distributed_84 (TimeDis (None, 16, 56, 56, 256)   295168    \n",
      "_________________________________________________________________\n",
      "time_distributed_85 (TimeDis (None, 16, 56, 56, 256)   590080    \n",
      "_________________________________________________________________\n",
      "time_distributed_86 (TimeDis (None, 16, 56, 56, 256)   590080    \n",
      "_________________________________________________________________\n",
      "time_distributed_87 (TimeDis (None, 16, 28, 28, 256)   0         \n",
      "_________________________________________________________________\n",
      "time_distributed_88 (TimeDis (None, 16, 28, 28, 512)   1180160   \n",
      "_________________________________________________________________\n",
      "time_distributed_89 (TimeDis (None, 16, 28, 28, 512)   2359808   \n",
      "_________________________________________________________________\n",
      "time_distributed_90 (TimeDis (None, 16, 28, 28, 512)   2359808   \n",
      "_________________________________________________________________\n",
      "time_distributed_91 (TimeDis (None, 16, 14, 14, 512)   0         \n",
      "_________________________________________________________________\n",
      "time_distributed_92 (TimeDis (None, 16, 14, 14, 512)   2359808   \n",
      "_________________________________________________________________\n",
      "time_distributed_93 (TimeDis (None, 16, 14, 14, 512)   2359808   \n",
      "_________________________________________________________________\n",
      "time_distributed_94 (TimeDis (None, 16, 14, 14, 512)   2359808   \n",
      "_________________________________________________________________\n",
      "time_distributed_95 (TimeDis (None, 16, 7, 7, 512)     0         \n",
      "_________________________________________________________________\n",
      "time_distributed_96 (TimeDis (None, 16, 25088)         0         \n",
      "_________________________________________________________________\n",
      "GRU_1 (GRU)                  (None, None, 100)         7556700   \n",
      "_________________________________________________________________\n",
      "GRU_2 (GRU)                  (None, 50)                22650     \n",
      "_________________________________________________________________\n",
      "dropout (Dropout)            (None, 50)                0         \n",
      "_________________________________________________________________\n",
      "softmax (Dense)              (None, 7)                 357       \n",
      "=================================================================\n",
      "Total params: 22,293,243.0\n",
      "Trainable params: 7,579,707.0\n",
      "Non-trainable params: 14,713,536.0\n",
      "_________________________________________________________________\n",
      "None\n",
      "done.\n"
     ]
    }
   ],
   "source": [
    "if os.path.isfile(MODEL_ARCH_FILE) and REDEFINE_MODEL == 0:\n",
    "    print('Loading model...', end='')\n",
    "    with open(MODEL_ARCH_FILE, 'r') as f:\n",
    "        json_string = f.read()\n",
    "    model = model_from_json(json_string)\n",
    "    print('done.')\n",
    "else:\n",
    "    print('Defining model...', end='')\n",
    "\n",
    "# 1111111111111111\n",
    "#     # Define CNN-LSTM\n",
    "#     model = Sequential()\n",
    "\n",
    "#     model.add(TimeDistributed(Conv2D(16, (3, 3), activation='relu', padding='valid'), input_shape=(maxToAdd, size, size, 1)))\n",
    "\n",
    "#     model.add(TimeDistributed(MaxPooling2D(pool_size=(2, 2))))\n",
    "#     model.add(TimeDistributed(Dropout(0.25)))\n",
    "\n",
    "#     model.add(TimeDistributed(Conv2D(16, (1, 1), activation='relu', padding='same')))\n",
    "\n",
    "#     model.add(TimeDistributed(Conv2D(16, (3, 3), activation='relu', padding='same')))\n",
    "\n",
    "#     model.add(TimeDistributed(MaxPooling2D(pool_size=(2, 2))))\n",
    "#     model.add(TimeDistributed(Dropout(0.25)))\n",
    "\n",
    "#     model.add(TimeDistributed(Conv2D(16, (1, 1), activation='relu', padding='same')))\n",
    "    \n",
    "#     model.add(TimeDistributed(Conv2D(16, (3, 3), activation='relu', padding='same')))\n",
    "\n",
    "#     model.add(TimeDistributed(Conv2D(16, (3, 3), activation='relu', padding='same')))\n",
    "\n",
    "#     model.add(TimeDistributed(MaxPooling2D(pool_size=(2, 2))))\n",
    "#     model.add(TimeDistributed(Dropout(0.25)))\n",
    "\n",
    "#     model.add(TimeDistributed(Conv2D(16, (1, 1), activation='relu', padding='same')))\n",
    "\n",
    "#     model.add(TimeDistributed(Conv2D(16, (3, 3), activation='relu', padding='same')))\n",
    "    \n",
    "#     model.add(TimeDistributed(Conv2D(16, (3, 3), activation='relu', padding='same')))\n",
    "    \n",
    "#     model.add(TimeDistributed(Conv2D(16, (3, 3), activation='relu', padding='same')))\n",
    "\n",
    "#     model.add(TimeDistributed(MaxPooling2D(pool_size=(2, 2))))\n",
    "#     model.add(TimeDistributed(Dropout(0.25)))\n",
    "\n",
    "#     model.add(TimeDistributed(Flatten()))\n",
    "\n",
    "#     model.add(Activation('relu'))\n",
    "\n",
    "#     model.add(LSTM(units=1024, return_sequences=False, recurrent_dropout=0.25, kernel_regularizer=l2(0.001)))\n",
    "#     # model.add(LSTM(units=512, return_sequences=True))\n",
    "#     # model.add(LSTM(units=512, return_sequences=False))\n",
    "\n",
    "#     # model.add(Dense(7, activation='softmax', kernel_regularizer=l2(0.001)))\n",
    "#     model.add(Dense(7, activation='softmax'))\n",
    "\n",
    "# # 22222222222222\n",
    "#     model = Sequential()\n",
    "#     model.add(TimeDistributed(Conv2D(8, (4, 4), padding='valid'), input_shape=(maxToAdd, size, size, 1)))\n",
    "#     model.add(Activation('relu'))\n",
    "#     model.add(TimeDistributed(Conv2D(16, (3, 3), padding='valid')))\n",
    "#     model.add(Activation('relu'))\n",
    "#     model.add(TimeDistributed(Flatten()))\n",
    "#     model.add(Activation('relu'))\n",
    "#     model.add(GRU(units=100, return_sequences=True))\n",
    "#     model.add(GRU(units=50, return_sequences=False))\n",
    "#     model.add(Dropout(0.2))\n",
    "#     model.add(Dense(7, activation='softmax'))\n",
    "    \n",
    "    # VGG-FACE\n",
    "    input_shape = (maxToAdd, 224, 224, 1)\n",
    "    \n",
    "    vgg_face = Sequential()\n",
    "\n",
    "    # Block 1\n",
    "    vgg_face.add(TimeDistributed(Convolution2D(64, (3, 3), activation='relu', padding='same', name='conv1_1', trainable=False), input_shape=input_shape))\n",
    "    vgg_face.add(TimeDistributed(Convolution2D(64, (3, 3), activation='relu', padding='same', name='conv1_2', trainable=False)))\n",
    "    vgg_face.add(TimeDistributed(MaxPooling2D((2, 2), strides=(2, 2), name='pool1', trainable=False)))\n",
    "\n",
    "    # Block 2\n",
    "    vgg_face.add(TimeDistributed(Convolution2D(128, (3, 3), activation='relu', padding='same', name='conv2_1', trainable=False)))\n",
    "    vgg_face.add(TimeDistributed(Convolution2D(128, (3, 3), activation='relu', padding='same', name='conv2_2', trainable=False)))\n",
    "    vgg_face.add(TimeDistributed(MaxPooling2D((2, 2), strides=(2, 2), name='pool2', trainable=False)))\n",
    "\n",
    "    # Block 3\n",
    "    vgg_face.add(TimeDistributed(Convolution2D(256, (3, 3), activation='relu', padding='same', name='conv3_1', trainable=False)))\n",
    "    vgg_face.add(TimeDistributed(Convolution2D(256, (3, 3), activation='relu', padding='same', name='conv3_2', trainable=False)))\n",
    "    vgg_face.add(TimeDistributed(Convolution2D(256, (3, 3), activation='relu', padding='same', name='conv3_3', trainable=False)))\n",
    "    vgg_face.add(TimeDistributed(MaxPooling2D((2, 2), strides=(2, 2), name='pool3', trainable=False)))\n",
    "\n",
    "    # Block 4\n",
    "    vgg_face.add(TimeDistributed(Convolution2D(512, (3, 3), activation='relu', padding='same', name='conv4_1', trainable=False)))\n",
    "    vgg_face.add(TimeDistributed(Convolution2D(512, (3, 3), activation='relu', padding='same', name='conv4_2', trainable=False)))\n",
    "    vgg_face.add(TimeDistributed(Convolution2D(512, (3, 3), activation='relu', padding='same', name='conv4_3', trainable=False)))\n",
    "    vgg_face.add(TimeDistributed(MaxPooling2D((2, 2), strides=(2, 2), name='pool4', trainable=False)))\n",
    "\n",
    "    # Block 5\n",
    "    vgg_face.add(TimeDistributed(Convolution2D(512, (3, 3), activation='relu', padding='same', name='conv5_1', trainable=False)))\n",
    "    vgg_face.add(TimeDistributed(Convolution2D(512, (3, 3), activation='relu', padding='same', name='conv5_2', trainable=False)))\n",
    "    vgg_face.add(TimeDistributed(Convolution2D(512, (3, 3), activation='relu', padding='same', name='conv5_3', trainable=False)))\n",
    "    vgg_face.add(TimeDistributed(MaxPooling2D((2, 2), strides=(2, 2), name='pool5', trainable=False)))\n",
    "    vgg_face.add(TimeDistributed(Flatten(name='output', trainable=False)))\n",
    "\n",
    "    weights_path = 'rcmalli_vggface_tf_notop_v2.h5'\n",
    "    vgg_face.load_weights(weights_path, by_name=True)\n",
    "    \n",
    "    x = vgg_face.output\n",
    "    x = GRU(units=100, return_sequences=True, name='GRU_1')(x)\n",
    "    x = GRU(units=50, return_sequences=False, name='GRU_2')(x)\n",
    "    x = Dropout(0.2, name='dropout')(x)\n",
    "    predictions = Dense(n_classes, activation='softmax', name='softmax')(x)\n",
    "    \n",
    "    model = Model(inputs=vgg_face.input, outputs=predictions)\n",
    "    \n",
    "    with open(MODEL_ARCH_FILE, 'w') as outfile:\n",
    "        outfile.write(json.dumps(json.loads(model.to_json()), indent=2))\n",
    "    \n",
    "    opt = Adam(lr=learning_rate)\n",
    "    # opt = RMSprop(lr=learning_rate)\n",
    "    model.compile(optimizer=opt, loss='sparse_categorical_crossentropy', metrics=['accuracy'])\n",
    "\n",
    "    print(model.summary())\n",
    "    \n",
    "    print('done.')"
   ]
  },
  {
   "cell_type": "code",
   "execution_count": 29,
   "metadata": {
    "scrolled": true
   },
   "outputs": [
    {
     "name": "stdout",
     "output_type": "stream",
     "text": [
      "Train on 726 samples, validate on 383 samples\n",
      "Epoch 1/500\n",
      "726/726 [==============================] - 103s - loss: 1.9505 - acc: 0.1873 - val_loss: 1.9834 - val_acc: 0.1958\n",
      "Epoch 2/500\n",
      "726/726 [==============================] - 100s - loss: 1.9329 - acc: 0.1873 - val_loss: 2.0019 - val_acc: 0.1984\n",
      "Epoch 3/500\n",
      "726/726 [==============================] - 100s - loss: 1.9125 - acc: 0.2094 - val_loss: 2.0013 - val_acc: 0.1802\n",
      "Epoch 4/500\n",
      "726/726 [==============================] - 99s - loss: 1.9053 - acc: 0.2245 - val_loss: 1.9546 - val_acc: 0.2115\n",
      "Epoch 5/500\n",
      "726/726 [==============================] - 98s - loss: 1.8745 - acc: 0.2466 - val_loss: 1.9790 - val_acc: 0.2063\n",
      "Epoch 6/500\n",
      "726/726 [==============================] - 97s - loss: 1.8545 - acc: 0.2521 - val_loss: 1.9497 - val_acc: 0.2454\n",
      "Epoch 7/500\n",
      "726/726 [==============================] - 97s - loss: 1.8428 - acc: 0.2865 - val_loss: 2.0201 - val_acc: 0.1880\n",
      "Epoch 8/500\n",
      "726/726 [==============================] - 98s - loss: 1.8336 - acc: 0.2713 - val_loss: 1.9749 - val_acc: 0.1958\n",
      "Epoch 9/500\n",
      "726/726 [==============================] - 100s - loss: 1.8204 - acc: 0.2658 - val_loss: 1.9837 - val_acc: 0.2089\n",
      "Epoch 10/500\n",
      "726/726 [==============================] - 97s - loss: 1.7870 - acc: 0.2934 - val_loss: 2.0033 - val_acc: 0.2010\n",
      "Epoch 11/500\n",
      "726/726 [==============================] - 99s - loss: 1.7894 - acc: 0.2893 - val_loss: 2.0309 - val_acc: 0.1932\n",
      "Epoch 12/500\n",
      "726/726 [==============================] - 100s - loss: 1.7606 - acc: 0.2906 - val_loss: 1.9880 - val_acc: 0.1854\n",
      "Epoch 13/500\n",
      "726/726 [==============================] - 100s - loss: 1.7544 - acc: 0.3264 - val_loss: 1.9898 - val_acc: 0.2167\n",
      "Epoch 14/500\n",
      "726/726 [==============================] - 100s - loss: 1.7424 - acc: 0.3251 - val_loss: 2.0494 - val_acc: 0.2141\n",
      "Epoch 15/500\n",
      "726/726 [==============================] - 100s - loss: 1.7154 - acc: 0.3444 - val_loss: 2.0304 - val_acc: 0.1932\n",
      "Epoch 16/500\n",
      "726/726 [==============================] - 100s - loss: 1.7209 - acc: 0.3430 - val_loss: 2.0030 - val_acc: 0.1802\n",
      "Epoch 17/500\n",
      "726/726 [==============================] - 100s - loss: 1.6733 - acc: 0.3554 - val_loss: 2.0100 - val_acc: 0.1749\n",
      "Epoch 18/500\n",
      "726/726 [==============================] - 100s - loss: 1.6776 - acc: 0.3691 - val_loss: 2.0306 - val_acc: 0.1932\n",
      "Epoch 19/500\n",
      "726/726 [==============================] - 100s - loss: 1.6393 - acc: 0.3857 - val_loss: 1.9950 - val_acc: 0.1906\n",
      "Epoch 20/500\n",
      "726/726 [==============================] - 100s - loss: 1.6208 - acc: 0.4036 - val_loss: 2.0068 - val_acc: 0.2037\n",
      "Epoch 21/500\n",
      "726/726 [==============================] - 100s - loss: 1.6086 - acc: 0.3926 - val_loss: 2.0365 - val_acc: 0.2063\n",
      "Epoch 22/500\n",
      "726/726 [==============================] - 98s - loss: 1.5791 - acc: 0.4187 - val_loss: 2.0758 - val_acc: 0.1775\n",
      "Epoch 23/500\n",
      "726/726 [==============================] - 98s - loss: 1.5671 - acc: 0.4022 - val_loss: 2.0669 - val_acc: 0.1984\n",
      "Epoch 24/500\n",
      "726/726 [==============================] - 98s - loss: 1.5326 - acc: 0.4201 - val_loss: 2.0553 - val_acc: 0.2272\n",
      "Epoch 25/500\n",
      "726/726 [==============================] - 98s - loss: 1.5230 - acc: 0.4201 - val_loss: 2.0677 - val_acc: 0.2010\n",
      "Epoch 26/500\n",
      "726/726 [==============================] - 98s - loss: 1.4943 - acc: 0.4559 - val_loss: 2.0598 - val_acc: 0.2141\n",
      "Epoch 27/500\n",
      "726/726 [==============================] - 97s - loss: 1.4384 - acc: 0.4931 - val_loss: 2.1752 - val_acc: 0.1932\n",
      "Epoch 28/500\n",
      "726/726 [==============================] - 97s - loss: 1.4172 - acc: 0.4876 - val_loss: 2.0730 - val_acc: 0.2115\n",
      "Epoch 29/500\n",
      "726/726 [==============================] - 98s - loss: 1.3787 - acc: 0.5055 - val_loss: 2.1145 - val_acc: 0.2115\n",
      "Epoch 30/500\n",
      "726/726 [==============================] - 98s - loss: 1.3491 - acc: 0.5317 - val_loss: 2.1385 - val_acc: 0.2089\n",
      "Epoch 31/500\n",
      "726/726 [==============================] - 97s - loss: 1.3192 - acc: 0.5413 - val_loss: 2.2383 - val_acc: 0.1775\n",
      "Epoch 32/500\n",
      "726/726 [==============================] - 98s - loss: 1.3249 - acc: 0.5303 - val_loss: 2.2647 - val_acc: 0.1932\n",
      "Epoch 33/500\n",
      "726/726 [==============================] - 98s - loss: 1.2787 - acc: 0.5510 - val_loss: 2.3740 - val_acc: 0.1984\n",
      "Epoch 34/500\n",
      "726/726 [==============================] - 99s - loss: 1.1943 - acc: 0.5923 - val_loss: 2.2445 - val_acc: 0.1984\n",
      "Epoch 35/500\n",
      "726/726 [==============================] - 100s - loss: 1.1946 - acc: 0.5758 - val_loss: 2.2224 - val_acc: 0.2193\n",
      "Epoch 36/500\n",
      "726/726 [==============================] - 100s - loss: 1.1295 - acc: 0.5895 - val_loss: 2.4101 - val_acc: 0.2115\n",
      "Epoch 37/500\n",
      "726/726 [==============================] - 99s - loss: 1.1050 - acc: 0.6116 - val_loss: 2.4057 - val_acc: 0.2063\n",
      "Epoch 38/500\n",
      "726/726 [==============================] - 99s - loss: 1.0365 - acc: 0.6598 - val_loss: 2.3637 - val_acc: 0.2324\n",
      "Epoch 39/500\n",
      "726/726 [==============================] - 100s - loss: 1.0718 - acc: 0.6419 - val_loss: 2.3745 - val_acc: 0.2063\n",
      "Epoch 40/500\n",
      "726/726 [==============================] - 100s - loss: 0.9939 - acc: 0.6529 - val_loss: 2.4908 - val_acc: 0.2219\n",
      "Epoch 41/500\n",
      "726/726 [==============================] - 100s - loss: 0.9868 - acc: 0.6694 - val_loss: 2.4363 - val_acc: 0.2272\n",
      "Epoch 42/500\n",
      "726/726 [==============================] - 100s - loss: 0.8813 - acc: 0.6983 - val_loss: 2.4390 - val_acc: 0.2141\n",
      "Epoch 43/500\n",
      "726/726 [==============================] - 101s - loss: 0.8943 - acc: 0.6942 - val_loss: 2.5317 - val_acc: 0.1854\n",
      "Epoch 44/500\n",
      "726/726 [==============================] - 101s - loss: 0.8169 - acc: 0.7328 - val_loss: 2.7913 - val_acc: 0.1932\n",
      "Epoch 45/500\n",
      "726/726 [==============================] - 100s - loss: 0.7664 - acc: 0.7342 - val_loss: 2.6823 - val_acc: 0.2298\n",
      "Epoch 46/500\n",
      "726/726 [==============================] - 100s - loss: 0.7220 - acc: 0.7548 - val_loss: 2.6650 - val_acc: 0.2219\n",
      "Epoch 47/500\n",
      "726/726 [==============================] - 101s - loss: 0.6682 - acc: 0.7948 - val_loss: 2.6522 - val_acc: 0.2402\n",
      "Epoch 48/500\n",
      "726/726 [==============================] - 101s - loss: 0.7005 - acc: 0.7769 - val_loss: 2.9765 - val_acc: 0.2115\n",
      "Epoch 49/500\n",
      "726/726 [==============================] - 101s - loss: 0.6418 - acc: 0.7879 - val_loss: 3.0782 - val_acc: 0.1958\n",
      "Epoch 50/500\n",
      "726/726 [==============================] - 100s - loss: 0.5987 - acc: 0.7989 - val_loss: 2.7723 - val_acc: 0.2350\n",
      "Epoch 51/500\n",
      "726/726 [==============================] - 101s - loss: 0.5350 - acc: 0.8320 - val_loss: 3.0048 - val_acc: 0.2141\n",
      "Epoch 52/500\n",
      "726/726 [==============================] - 100s - loss: 0.5810 - acc: 0.8140 - val_loss: 2.8014 - val_acc: 0.2141\n",
      "Epoch 53/500\n",
      "726/726 [==============================] - 100s - loss: 0.5452 - acc: 0.8113 - val_loss: 3.1364 - val_acc: 0.2298\n",
      "Epoch 54/500\n",
      "726/726 [==============================] - 99s - loss: 0.4595 - acc: 0.8623 - val_loss: 3.1980 - val_acc: 0.2089\n",
      "Epoch 55/500\n",
      "726/726 [==============================] - 98s - loss: 0.5054 - acc: 0.8278 - val_loss: 2.9412 - val_acc: 0.2272\n",
      "Epoch 56/500\n",
      "726/726 [==============================] - 99s - loss: 0.4818 - acc: 0.8526 - val_loss: 2.9920 - val_acc: 0.2010\n",
      "Epoch 57/500\n",
      "726/726 [==============================] - 100s - loss: 0.5052 - acc: 0.8292 - val_loss: 3.0124 - val_acc: 0.2167\n",
      "Epoch 58/500\n",
      "726/726 [==============================] - 97s - loss: 0.3544 - acc: 0.8939 - val_loss: 3.1915 - val_acc: 0.2298\n",
      "Epoch 59/500\n",
      "726/726 [==============================] - 97s - loss: 0.4837 - acc: 0.8347 - val_loss: 3.3191 - val_acc: 0.2089\n",
      "Epoch 60/500\n",
      "726/726 [==============================] - 97s - loss: 0.3939 - acc: 0.8760 - val_loss: 3.2478 - val_acc: 0.2298\n",
      "Epoch 61/500\n",
      "726/726 [==============================] - 97s - loss: 0.4149 - acc: 0.8554 - val_loss: 3.1813 - val_acc: 0.1984\n",
      "Epoch 62/500\n",
      "726/726 [==============================] - 97s - loss: 0.3361 - acc: 0.8994 - val_loss: 3.3897 - val_acc: 0.1984\n",
      "Epoch 63/500\n",
      "726/726 [==============================] - 97s - loss: 0.3554 - acc: 0.8884 - val_loss: 3.2228 - val_acc: 0.2376\n",
      "Epoch 64/500\n",
      "726/726 [==============================] - 97s - loss: 0.2868 - acc: 0.9146 - val_loss: 3.6912 - val_acc: 0.1932\n",
      "Epoch 65/500\n"
     ]
    },
    {
     "name": "stdout",
     "output_type": "stream",
     "text": [
      "726/726 [==============================] - 97s - loss: 0.2686 - acc: 0.9215 - val_loss: 3.3575 - val_acc: 0.2272\n",
      "Epoch 66/500\n",
      "726/726 [==============================] - 97s - loss: 0.3821 - acc: 0.8705 - val_loss: 3.2492 - val_acc: 0.2037\n",
      "Epoch 67/500\n",
      "726/726 [==============================] - 97s - loss: 0.2858 - acc: 0.9105 - val_loss: 3.4030 - val_acc: 0.2193\n",
      "Epoch 68/500\n",
      "726/726 [==============================] - 97s - loss: 0.2646 - acc: 0.9353 - val_loss: 3.6798 - val_acc: 0.2402\n",
      "Epoch 69/500\n",
      "726/726 [==============================] - 97s - loss: 0.2839 - acc: 0.9105 - val_loss: 3.4846 - val_acc: 0.2272\n",
      "Epoch 70/500\n",
      "726/726 [==============================] - 97s - loss: 0.2506 - acc: 0.9298 - val_loss: 3.4790 - val_acc: 0.2193\n",
      "Epoch 71/500\n",
      "726/726 [==============================] - 97s - loss: 0.2936 - acc: 0.9008 - val_loss: 3.4827 - val_acc: 0.2272\n",
      "Epoch 72/500\n",
      "726/726 [==============================] - 97s - loss: 0.1376 - acc: 0.9656 - val_loss: 3.6721 - val_acc: 0.2167\n",
      "Epoch 73/500\n",
      "726/726 [==============================] - 97s - loss: 0.1713 - acc: 0.9587 - val_loss: 3.4828 - val_acc: 0.2298\n",
      "Epoch 74/500\n",
      "726/726 [==============================] - 97s - loss: 0.2254 - acc: 0.9339 - val_loss: 3.4794 - val_acc: 0.2298\n",
      "Epoch 75/500\n",
      "726/726 [==============================] - 97s - loss: 0.1424 - acc: 0.9614 - val_loss: 3.6097 - val_acc: 0.2167\n",
      "Epoch 76/500\n",
      "726/726 [==============================] - 97s - loss: 0.2035 - acc: 0.9380 - val_loss: 3.9685 - val_acc: 0.1749\n",
      "Epoch 77/500\n",
      "726/726 [==============================] - 97s - loss: 0.1902 - acc: 0.9518 - val_loss: 3.7557 - val_acc: 0.2115\n",
      "Epoch 78/500\n",
      "726/726 [==============================] - 97s - loss: 0.2569 - acc: 0.9284 - val_loss: 3.9811 - val_acc: 0.2089\n",
      "Epoch 79/500\n",
      "726/726 [==============================] - 97s - loss: 0.1050 - acc: 0.9807 - val_loss: 3.8193 - val_acc: 0.2272\n",
      "Epoch 80/500\n",
      "726/726 [==============================] - 97s - loss: 0.1920 - acc: 0.9490 - val_loss: 3.9321 - val_acc: 0.2193\n",
      "Epoch 81/500\n",
      "726/726 [==============================] - 97s - loss: 0.2048 - acc: 0.9366 - val_loss: 3.8420 - val_acc: 0.2193\n",
      "Epoch 82/500\n",
      "726/726 [==============================] - 97s - loss: 0.1790 - acc: 0.9477 - val_loss: 3.7897 - val_acc: 0.2245\n",
      "Epoch 83/500\n",
      "726/726 [==============================] - 97s - loss: 0.1103 - acc: 0.9766 - val_loss: 3.8778 - val_acc: 0.2245\n",
      "Epoch 84/500\n",
      "726/726 [==============================] - 97s - loss: 0.0843 - acc: 0.9835 - val_loss: 3.9632 - val_acc: 0.2324\n",
      "Epoch 85/500\n",
      "726/726 [==============================] - 97s - loss: 0.0919 - acc: 0.9752 - val_loss: 3.9218 - val_acc: 0.2089\n",
      "Epoch 86/500\n",
      "726/726 [==============================] - 97s - loss: 0.2612 - acc: 0.9118 - val_loss: 4.3332 - val_acc: 0.1880\n",
      "Epoch 87/500\n",
      "726/726 [==============================] - 97s - loss: 0.1750 - acc: 0.9408 - val_loss: 3.9506 - val_acc: 0.1984\n",
      "Epoch 88/500\n",
      "726/726 [==============================] - 97s - loss: 0.1440 - acc: 0.9587 - val_loss: 4.0590 - val_acc: 0.1984\n",
      "Epoch 89/500\n",
      "726/726 [==============================] - 97s - loss: 0.0627 - acc: 0.9931 - val_loss: 4.1189 - val_acc: 0.2115\n",
      "Epoch 90/500\n",
      "726/726 [==============================] - 97s - loss: 0.0517 - acc: 0.9890 - val_loss: 4.2043 - val_acc: 0.2063\n",
      "Epoch 91/500\n",
      "726/726 [==============================] - 97s - loss: 0.0305 - acc: 1.0000 - val_loss: 4.2709 - val_acc: 0.2037\n",
      "Epoch 92/500\n",
      "726/726 [==============================] - 97s - loss: 0.0484 - acc: 0.9890 - val_loss: 4.4872 - val_acc: 0.1854\n",
      "Epoch 93/500\n",
      "726/726 [==============================] - 97s - loss: 0.3977 - acc: 0.8733 - val_loss: 4.0678 - val_acc: 0.2063\n",
      "Epoch 94/500\n",
      "726/726 [==============================] - 97s - loss: 0.1670 - acc: 0.9449 - val_loss: 4.2293 - val_acc: 0.1932\n",
      "Epoch 95/500\n",
      "726/726 [==============================] - 97s - loss: 0.1779 - acc: 0.9463 - val_loss: 4.1132 - val_acc: 0.2480\n",
      "Epoch 96/500\n",
      "726/726 [==============================] - 97s - loss: 0.0771 - acc: 0.9793 - val_loss: 4.0510 - val_acc: 0.2063\n",
      "Epoch 97/500\n",
      "726/726 [==============================] - 97s - loss: 0.0254 - acc: 0.9986 - val_loss: 4.0729 - val_acc: 0.2141\n",
      "Epoch 98/500\n",
      "726/726 [==============================] - 97s - loss: 0.0213 - acc: 1.0000 - val_loss: 4.2737 - val_acc: 0.2298\n",
      "Epoch 99/500\n",
      "726/726 [==============================] - 97s - loss: 0.3063 - acc: 0.9146 - val_loss: 3.9653 - val_acc: 0.2167\n",
      "Epoch 100/500\n",
      "726/726 [==============================] - 97s - loss: 0.2751 - acc: 0.9050 - val_loss: 4.0057 - val_acc: 0.2219\n",
      "Epoch 101/500\n",
      "726/726 [==============================] - 97s - loss: 0.0831 - acc: 0.9848 - val_loss: 4.0108 - val_acc: 0.2350\n",
      "Epoch 102/500\n",
      "726/726 [==============================] - 97s - loss: 0.0303 - acc: 0.9972 - val_loss: 4.1377 - val_acc: 0.2350\n",
      "Epoch 103/500\n",
      "726/726 [==============================] - 97s - loss: 0.0288 - acc: 0.9986 - val_loss: 4.1542 - val_acc: 0.2272\n",
      "Epoch 104/500\n",
      "726/726 [==============================] - 97s - loss: 0.0660 - acc: 0.9807 - val_loss: 4.5044 - val_acc: 0.2141\n",
      "Epoch 105/500\n",
      "726/726 [==============================] - 97s - loss: 0.4580 - acc: 0.8567 - val_loss: 3.6765 - val_acc: 0.2350\n",
      "Epoch 106/500\n",
      "726/726 [==============================] - 97s - loss: 0.0962 - acc: 0.9766 - val_loss: 3.9616 - val_acc: 0.2272\n",
      "Epoch 107/500\n",
      "726/726 [==============================] - 97s - loss: 0.0442 - acc: 0.9931 - val_loss: 4.0768 - val_acc: 0.2141\n",
      "Epoch 00106: early stopping\n",
      "> Training time on GTX1080: 10565.520491600037 sec\n"
     ]
    }
   ],
   "source": [
    "if TRAIN == 1:\n",
    "#     batch_size = 197\n",
    "    batch_size = 4\n",
    "    n_epochs = 500\n",
    "\n",
    "    learning_rate = 0.0001\n",
    "    early_stop_after = 100\n",
    "    \n",
    "    start_time = time.time()\n",
    "\n",
    "    early_stopping = EarlyStopping(monitor='val_loss', patience=early_stop_after, verbose=1)\n",
    "\n",
    "    train_history = model.fit(X_train, y_train,\n",
    "              validation_data=(X_test, y_test),\n",
    "              shuffle=True, batch_size=batch_size, epochs=n_epochs, verbose=1,\n",
    "              callbacks=[early_stopping])\n",
    "    \n",
    "    training_time = time.time() - start_time\n",
    "    print('> Training time on GTX1080: ' + str(training_time) + ' sec')"
   ]
  },
  {
   "cell_type": "code",
   "execution_count": 30,
   "metadata": {},
   "outputs": [],
   "source": [
    "if TRAIN == 1:\n",
    "    # Save trained model\n",
    "    model.save_weights(WEIGHT_FILE)    \n",
    "    # Save training history\n",
    "    with open(TRAINING_HIST, 'wb') as f:\n",
    "        pickle.dump(train_history.history, f)\n",
    "        \n",
    "    history_ = train_history.history\n",
    "else:\n",
    "    # Load trained model\n",
    "    model.load_weights(WEIGHT_FILE)\n",
    "    \n",
    "    # Load training history\n",
    "    file = open(TRAINING_HIST, 'rb')\n",
    "    history_ = pickle.load(file)"
   ]
  },
  {
   "cell_type": "code",
   "execution_count": 31,
   "metadata": {
    "collapsed": true
   },
   "outputs": [],
   "source": [
    "# plot_model(model, to_file='model.png', show_shapes=True)"
   ]
  },
  {
   "cell_type": "code",
   "execution_count": 34,
   "metadata": {},
   "outputs": [
    {
     "ename": "ResourceExhaustedError",
     "evalue": "OOM when allocating tensor with shape[512,224,224,64]\n\t [[Node: time_distributed_78/convolution = Conv2D[T=DT_FLOAT, data_format=\"NHWC\", padding=\"SAME\", strides=[1, 1, 1, 1], use_cudnn_on_gpu=true, _device=\"/job:localhost/replica:0/task:0/gpu:0\"](time_distributed_78/Reshape, time_distributed_78/kernel/read)]]\n\t [[Node: mul_53/_1599 = _Recv[client_terminated=false, recv_device=\"/job:localhost/replica:0/task:0/cpu:0\", send_device=\"/job:localhost/replica:0/task:0/gpu:0\", send_device_incarnation=1, tensor_name=\"edge_6_mul_53\", tensor_type=DT_FLOAT, _device=\"/job:localhost/replica:0/task:0/cpu:0\"]()]]\n\nCaused by op 'time_distributed_78/convolution', defined at:\n  File \"C:\\Program Files\\Anaconda3\\lib\\runpy.py\", line 184, in _run_module_as_main\n    \"__main__\", mod_spec)\n  File \"C:\\Program Files\\Anaconda3\\lib\\runpy.py\", line 85, in _run_code\n    exec(code, run_globals)\n  File \"C:\\Program Files\\Anaconda3\\lib\\site-packages\\ipykernel\\__main__.py\", line 3, in <module>\n    app.launch_new_instance()\n  File \"C:\\Program Files\\Anaconda3\\lib\\site-packages\\traitlets\\config\\application.py\", line 653, in launch_instance\n    app.start()\n  File \"C:\\Program Files\\Anaconda3\\lib\\site-packages\\ipykernel\\kernelapp.py\", line 474, in start\n    ioloop.IOLoop.instance().start()\n  File \"C:\\Program Files\\Anaconda3\\lib\\site-packages\\zmq\\eventloop\\ioloop.py\", line 162, in start\n    super(ZMQIOLoop, self).start()\n  File \"C:\\Program Files\\Anaconda3\\lib\\site-packages\\tornado\\ioloop.py\", line 887, in start\n    handler_func(fd_obj, events)\n  File \"C:\\Program Files\\Anaconda3\\lib\\site-packages\\tornado\\stack_context.py\", line 275, in null_wrapper\n    return fn(*args, **kwargs)\n  File \"C:\\Program Files\\Anaconda3\\lib\\site-packages\\zmq\\eventloop\\zmqstream.py\", line 440, in _handle_events\n    self._handle_recv()\n  File \"C:\\Program Files\\Anaconda3\\lib\\site-packages\\zmq\\eventloop\\zmqstream.py\", line 472, in _handle_recv\n    self._run_callback(callback, msg)\n  File \"C:\\Program Files\\Anaconda3\\lib\\site-packages\\zmq\\eventloop\\zmqstream.py\", line 414, in _run_callback\n    callback(*args, **kwargs)\n  File \"C:\\Program Files\\Anaconda3\\lib\\site-packages\\tornado\\stack_context.py\", line 275, in null_wrapper\n    return fn(*args, **kwargs)\n  File \"C:\\Program Files\\Anaconda3\\lib\\site-packages\\ipykernel\\kernelbase.py\", line 276, in dispatcher\n    return self.dispatch_shell(stream, msg)\n  File \"C:\\Program Files\\Anaconda3\\lib\\site-packages\\ipykernel\\kernelbase.py\", line 228, in dispatch_shell\n    handler(stream, idents, msg)\n  File \"C:\\Program Files\\Anaconda3\\lib\\site-packages\\ipykernel\\kernelbase.py\", line 390, in execute_request\n    user_expressions, allow_stdin)\n  File \"C:\\Program Files\\Anaconda3\\lib\\site-packages\\ipykernel\\ipkernel.py\", line 196, in do_execute\n    res = shell.run_cell(code, store_history=store_history, silent=silent)\n  File \"C:\\Program Files\\Anaconda3\\lib\\site-packages\\ipykernel\\zmqshell.py\", line 501, in run_cell\n    return super(ZMQInteractiveShell, self).run_cell(*args, **kwargs)\n  File \"C:\\Program Files\\Anaconda3\\lib\\site-packages\\IPython\\core\\interactiveshell.py\", line 2717, in run_cell\n    interactivity=interactivity, compiler=compiler, result=result)\n  File \"C:\\Program Files\\Anaconda3\\lib\\site-packages\\IPython\\core\\interactiveshell.py\", line 2821, in run_ast_nodes\n    if self.run_code(code, result):\n  File \"C:\\Program Files\\Anaconda3\\lib\\site-packages\\IPython\\core\\interactiveshell.py\", line 2881, in run_code\n    exec(code_obj, self.user_global_ns, self.user_ns)\n  File \"<ipython-input-28-47a1428c3771>\", line 76, in <module>\n    vgg_face.add(TimeDistributed(Convolution2D(64, (3, 3), activation='relu', padding='same', name='conv1_1', trainable=False), input_shape=input_shape))\n  File \"C:\\Program Files\\Anaconda3\\lib\\site-packages\\tensorflow\\contrib\\keras\\python\\keras\\models.py\", line 463, in add\n    layer(x)\n  File \"C:\\Program Files\\Anaconda3\\lib\\site-packages\\tensorflow\\contrib\\keras\\python\\keras\\engine\\topology.py\", line 578, in __call__\n    output = self.call(inputs, **kwargs)\n  File \"C:\\Program Files\\Anaconda3\\lib\\site-packages\\tensorflow\\contrib\\keras\\python\\keras\\layers\\wrappers.py\", line 201, in call\n    y = self.layer.call(inputs)  # (num_samples * timesteps, ...)\n  File \"C:\\Program Files\\Anaconda3\\lib\\site-packages\\tensorflow\\contrib\\keras\\python\\keras\\layers\\convolutional.py\", line 178, in call\n    dilation_rate=self.dilation_rate)\n  File \"C:\\Program Files\\Anaconda3\\lib\\site-packages\\tensorflow\\contrib\\keras\\python\\keras\\backend.py\", line 3046, in conv2d\n    data_format='NHWC')\n  File \"C:\\Program Files\\Anaconda3\\lib\\site-packages\\tensorflow\\python\\ops\\nn_ops.py\", line 661, in convolution\n    op=op)\n  File \"C:\\Program Files\\Anaconda3\\lib\\site-packages\\tensorflow\\python\\ops\\nn_ops.py\", line 331, in with_space_to_batch\n    return op(input, num_spatial_dims, padding)\n  File \"C:\\Program Files\\Anaconda3\\lib\\site-packages\\tensorflow\\python\\ops\\nn_ops.py\", line 653, in op\n    name=name)\n  File \"C:\\Program Files\\Anaconda3\\lib\\site-packages\\tensorflow\\python\\ops\\nn_ops.py\", line 129, in _non_atrous_convolution\n    name=name)\n  File \"C:\\Program Files\\Anaconda3\\lib\\site-packages\\tensorflow\\python\\ops\\gen_nn_ops.py\", line 403, in conv2d\n    data_format=data_format, name=name)\n  File \"C:\\Program Files\\Anaconda3\\lib\\site-packages\\tensorflow\\python\\framework\\op_def_library.py\", line 768, in apply_op\n    op_def=op_def)\n  File \"C:\\Program Files\\Anaconda3\\lib\\site-packages\\tensorflow\\python\\framework\\ops.py\", line 2336, in create_op\n    original_op=self._default_original_op, op_def=op_def)\n  File \"C:\\Program Files\\Anaconda3\\lib\\site-packages\\tensorflow\\python\\framework\\ops.py\", line 1228, in __init__\n    self._traceback = _extract_stack()\n\nResourceExhaustedError (see above for traceback): OOM when allocating tensor with shape[512,224,224,64]\n\t [[Node: time_distributed_78/convolution = Conv2D[T=DT_FLOAT, data_format=\"NHWC\", padding=\"SAME\", strides=[1, 1, 1, 1], use_cudnn_on_gpu=true, _device=\"/job:localhost/replica:0/task:0/gpu:0\"](time_distributed_78/Reshape, time_distributed_78/kernel/read)]]\n\t [[Node: mul_53/_1599 = _Recv[client_terminated=false, recv_device=\"/job:localhost/replica:0/task:0/cpu:0\", send_device=\"/job:localhost/replica:0/task:0/gpu:0\", send_device_incarnation=1, tensor_name=\"edge_6_mul_53\", tensor_type=DT_FLOAT, _device=\"/job:localhost/replica:0/task:0/cpu:0\"]()]]\n",
     "output_type": "error",
     "traceback": [
      "\u001b[0;31m---------------------------------------------------------------------------\u001b[0m",
      "\u001b[0;31mResourceExhaustedError\u001b[0m                    Traceback (most recent call last)",
      "\u001b[0;32mC:\\Program Files\\Anaconda3\\lib\\site-packages\\tensorflow\\python\\client\\session.py\u001b[0m in \u001b[0;36m_do_call\u001b[0;34m(self, fn, *args)\u001b[0m\n\u001b[1;32m   1038\u001b[0m     \u001b[1;32mtry\u001b[0m\u001b[1;33m:\u001b[0m\u001b[1;33m\u001b[0m\u001b[0m\n\u001b[0;32m-> 1039\u001b[0;31m       \u001b[1;32mreturn\u001b[0m \u001b[0mfn\u001b[0m\u001b[1;33m(\u001b[0m\u001b[1;33m*\u001b[0m\u001b[0margs\u001b[0m\u001b[1;33m)\u001b[0m\u001b[1;33m\u001b[0m\u001b[0m\n\u001b[0m\u001b[1;32m   1040\u001b[0m     \u001b[1;32mexcept\u001b[0m \u001b[0merrors\u001b[0m\u001b[1;33m.\u001b[0m\u001b[0mOpError\u001b[0m \u001b[1;32mas\u001b[0m \u001b[0me\u001b[0m\u001b[1;33m:\u001b[0m\u001b[1;33m\u001b[0m\u001b[0m\n",
      "\u001b[0;32mC:\\Program Files\\Anaconda3\\lib\\site-packages\\tensorflow\\python\\client\\session.py\u001b[0m in \u001b[0;36m_run_fn\u001b[0;34m(session, feed_dict, fetch_list, target_list, options, run_metadata)\u001b[0m\n\u001b[1;32m   1020\u001b[0m                                  \u001b[0mfeed_dict\u001b[0m\u001b[1;33m,\u001b[0m \u001b[0mfetch_list\u001b[0m\u001b[1;33m,\u001b[0m \u001b[0mtarget_list\u001b[0m\u001b[1;33m,\u001b[0m\u001b[1;33m\u001b[0m\u001b[0m\n\u001b[0;32m-> 1021\u001b[0;31m                                  status, run_metadata)\n\u001b[0m\u001b[1;32m   1022\u001b[0m \u001b[1;33m\u001b[0m\u001b[0m\n",
      "\u001b[0;32mC:\\Program Files\\Anaconda3\\lib\\contextlib.py\u001b[0m in \u001b[0;36m__exit__\u001b[0;34m(self, type, value, traceback)\u001b[0m\n\u001b[1;32m     65\u001b[0m             \u001b[1;32mtry\u001b[0m\u001b[1;33m:\u001b[0m\u001b[1;33m\u001b[0m\u001b[0m\n\u001b[0;32m---> 66\u001b[0;31m                 \u001b[0mnext\u001b[0m\u001b[1;33m(\u001b[0m\u001b[0mself\u001b[0m\u001b[1;33m.\u001b[0m\u001b[0mgen\u001b[0m\u001b[1;33m)\u001b[0m\u001b[1;33m\u001b[0m\u001b[0m\n\u001b[0m\u001b[1;32m     67\u001b[0m             \u001b[1;32mexcept\u001b[0m \u001b[0mStopIteration\u001b[0m\u001b[1;33m:\u001b[0m\u001b[1;33m\u001b[0m\u001b[0m\n",
      "\u001b[0;32mC:\\Program Files\\Anaconda3\\lib\\site-packages\\tensorflow\\python\\framework\\errors_impl.py\u001b[0m in \u001b[0;36mraise_exception_on_not_ok_status\u001b[0;34m()\u001b[0m\n\u001b[1;32m    465\u001b[0m           \u001b[0mcompat\u001b[0m\u001b[1;33m.\u001b[0m\u001b[0mas_text\u001b[0m\u001b[1;33m(\u001b[0m\u001b[0mpywrap_tensorflow\u001b[0m\u001b[1;33m.\u001b[0m\u001b[0mTF_Message\u001b[0m\u001b[1;33m(\u001b[0m\u001b[0mstatus\u001b[0m\u001b[1;33m)\u001b[0m\u001b[1;33m)\u001b[0m\u001b[1;33m,\u001b[0m\u001b[1;33m\u001b[0m\u001b[0m\n\u001b[0;32m--> 466\u001b[0;31m           pywrap_tensorflow.TF_GetCode(status))\n\u001b[0m\u001b[1;32m    467\u001b[0m   \u001b[1;32mfinally\u001b[0m\u001b[1;33m:\u001b[0m\u001b[1;33m\u001b[0m\u001b[0m\n",
      "\u001b[0;31mResourceExhaustedError\u001b[0m: OOM when allocating tensor with shape[512,224,224,64]\n\t [[Node: time_distributed_78/convolution = Conv2D[T=DT_FLOAT, data_format=\"NHWC\", padding=\"SAME\", strides=[1, 1, 1, 1], use_cudnn_on_gpu=true, _device=\"/job:localhost/replica:0/task:0/gpu:0\"](time_distributed_78/Reshape, time_distributed_78/kernel/read)]]\n\t [[Node: mul_53/_1599 = _Recv[client_terminated=false, recv_device=\"/job:localhost/replica:0/task:0/cpu:0\", send_device=\"/job:localhost/replica:0/task:0/gpu:0\", send_device_incarnation=1, tensor_name=\"edge_6_mul_53\", tensor_type=DT_FLOAT, _device=\"/job:localhost/replica:0/task:0/cpu:0\"]()]]",
      "\nDuring handling of the above exception, another exception occurred:\n",
      "\u001b[0;31mResourceExhaustedError\u001b[0m                    Traceback (most recent call last)",
      "\u001b[0;32m<ipython-input-34-b6304287a7f8>\u001b[0m in \u001b[0;36m<module>\u001b[0;34m()\u001b[0m\n\u001b[1;32m      3\u001b[0m \u001b[1;31m# print('Train accuracy:', score[1])\u001b[0m\u001b[1;33m\u001b[0m\u001b[1;33m\u001b[0m\u001b[0m\n\u001b[1;32m      4\u001b[0m \u001b[1;33m\u001b[0m\u001b[0m\n\u001b[0;32m----> 5\u001b[0;31m \u001b[0mscore\u001b[0m \u001b[1;33m=\u001b[0m \u001b[0mmodel\u001b[0m\u001b[1;33m.\u001b[0m\u001b[0mevaluate\u001b[0m\u001b[1;33m(\u001b[0m\u001b[0mX_test\u001b[0m\u001b[1;33m,\u001b[0m \u001b[0my_test\u001b[0m\u001b[1;33m)\u001b[0m\u001b[1;33m\u001b[0m\u001b[0m\n\u001b[0m\u001b[1;32m      6\u001b[0m \u001b[0mprint\u001b[0m\u001b[1;33m(\u001b[0m\u001b[1;34m'Test score:'\u001b[0m\u001b[1;33m,\u001b[0m \u001b[0mscore\u001b[0m\u001b[1;33m[\u001b[0m\u001b[1;36m0\u001b[0m\u001b[1;33m]\u001b[0m\u001b[1;33m)\u001b[0m\u001b[1;33m\u001b[0m\u001b[0m\n\u001b[1;32m      7\u001b[0m \u001b[0mprint\u001b[0m\u001b[1;33m(\u001b[0m\u001b[1;34m'Test accuracy:'\u001b[0m\u001b[1;33m,\u001b[0m \u001b[0mscore\u001b[0m\u001b[1;33m[\u001b[0m\u001b[1;36m1\u001b[0m\u001b[1;33m]\u001b[0m\u001b[1;33m)\u001b[0m\u001b[1;33m\u001b[0m\u001b[0m\n",
      "\u001b[0;32mC:\\Program Files\\Anaconda3\\lib\\site-packages\\tensorflow\\contrib\\keras\\python\\keras\\engine\\training.py\u001b[0m in \u001b[0;36mevaluate\u001b[0;34m(self, x, y, batch_size, verbose, sample_weight)\u001b[0m\n\u001b[1;32m   1535\u001b[0m     \u001b[0mself\u001b[0m\u001b[1;33m.\u001b[0m\u001b[0m_make_test_function\u001b[0m\u001b[1;33m(\u001b[0m\u001b[1;33m)\u001b[0m\u001b[1;33m\u001b[0m\u001b[0m\n\u001b[1;32m   1536\u001b[0m     \u001b[0mf\u001b[0m \u001b[1;33m=\u001b[0m \u001b[0mself\u001b[0m\u001b[1;33m.\u001b[0m\u001b[0mtest_function\u001b[0m\u001b[1;33m\u001b[0m\u001b[0m\n\u001b[0;32m-> 1537\u001b[0;31m     \u001b[1;32mreturn\u001b[0m \u001b[0mself\u001b[0m\u001b[1;33m.\u001b[0m\u001b[0m_test_loop\u001b[0m\u001b[1;33m(\u001b[0m\u001b[0mf\u001b[0m\u001b[1;33m,\u001b[0m \u001b[0mins\u001b[0m\u001b[1;33m,\u001b[0m \u001b[0mbatch_size\u001b[0m\u001b[1;33m=\u001b[0m\u001b[0mbatch_size\u001b[0m\u001b[1;33m,\u001b[0m \u001b[0mverbose\u001b[0m\u001b[1;33m=\u001b[0m\u001b[0mverbose\u001b[0m\u001b[1;33m)\u001b[0m\u001b[1;33m\u001b[0m\u001b[0m\n\u001b[0m\u001b[1;32m   1538\u001b[0m \u001b[1;33m\u001b[0m\u001b[0m\n\u001b[1;32m   1539\u001b[0m   \u001b[1;32mdef\u001b[0m \u001b[0mpredict\u001b[0m\u001b[1;33m(\u001b[0m\u001b[0mself\u001b[0m\u001b[1;33m,\u001b[0m \u001b[0mx\u001b[0m\u001b[1;33m,\u001b[0m \u001b[0mbatch_size\u001b[0m\u001b[1;33m=\u001b[0m\u001b[1;36m32\u001b[0m\u001b[1;33m,\u001b[0m \u001b[0mverbose\u001b[0m\u001b[1;33m=\u001b[0m\u001b[1;36m0\u001b[0m\u001b[1;33m)\u001b[0m\u001b[1;33m:\u001b[0m\u001b[1;33m\u001b[0m\u001b[0m\n",
      "\u001b[0;32mC:\\Program Files\\Anaconda3\\lib\\site-packages\\tensorflow\\contrib\\keras\\python\\keras\\engine\\training.py\u001b[0m in \u001b[0;36m_test_loop\u001b[0;34m(self, f, ins, batch_size, verbose)\u001b[0m\n\u001b[1;32m   1251\u001b[0m         \u001b[0mins_batch\u001b[0m \u001b[1;33m=\u001b[0m \u001b[0m_slice_arrays\u001b[0m\u001b[1;33m(\u001b[0m\u001b[0mins\u001b[0m\u001b[1;33m,\u001b[0m \u001b[0mbatch_ids\u001b[0m\u001b[1;33m)\u001b[0m\u001b[1;33m\u001b[0m\u001b[0m\n\u001b[1;32m   1252\u001b[0m \u001b[1;33m\u001b[0m\u001b[0m\n\u001b[0;32m-> 1253\u001b[0;31m       \u001b[0mbatch_outs\u001b[0m \u001b[1;33m=\u001b[0m \u001b[0mf\u001b[0m\u001b[1;33m(\u001b[0m\u001b[0mins_batch\u001b[0m\u001b[1;33m)\u001b[0m\u001b[1;33m\u001b[0m\u001b[0m\n\u001b[0m\u001b[1;32m   1254\u001b[0m       \u001b[1;32mif\u001b[0m \u001b[0misinstance\u001b[0m\u001b[1;33m(\u001b[0m\u001b[0mbatch_outs\u001b[0m\u001b[1;33m,\u001b[0m \u001b[0mlist\u001b[0m\u001b[1;33m)\u001b[0m\u001b[1;33m:\u001b[0m\u001b[1;33m\u001b[0m\u001b[0m\n\u001b[1;32m   1255\u001b[0m         \u001b[1;32mif\u001b[0m \u001b[0mbatch_index\u001b[0m \u001b[1;33m==\u001b[0m \u001b[1;36m0\u001b[0m\u001b[1;33m:\u001b[0m\u001b[1;33m\u001b[0m\u001b[0m\n",
      "\u001b[0;32mC:\\Program Files\\Anaconda3\\lib\\site-packages\\tensorflow\\contrib\\keras\\python\\keras\\backend.py\u001b[0m in \u001b[0;36m__call__\u001b[0;34m(self, inputs)\u001b[0m\n\u001b[1;32m   2244\u001b[0m       \u001b[0mfeed_dict\u001b[0m\u001b[1;33m[\u001b[0m\u001b[0mtensor\u001b[0m\u001b[1;33m]\u001b[0m \u001b[1;33m=\u001b[0m \u001b[0mvalue\u001b[0m\u001b[1;33m\u001b[0m\u001b[0m\n\u001b[1;32m   2245\u001b[0m     \u001b[0msession\u001b[0m \u001b[1;33m=\u001b[0m \u001b[0mget_session\u001b[0m\u001b[1;33m(\u001b[0m\u001b[1;33m)\u001b[0m\u001b[1;33m\u001b[0m\u001b[0m\n\u001b[0;32m-> 2246\u001b[0;31m     \u001b[0mupdated\u001b[0m \u001b[1;33m=\u001b[0m \u001b[0msession\u001b[0m\u001b[1;33m.\u001b[0m\u001b[0mrun\u001b[0m\u001b[1;33m(\u001b[0m\u001b[0mself\u001b[0m\u001b[1;33m.\u001b[0m\u001b[0moutputs\u001b[0m \u001b[1;33m+\u001b[0m \u001b[1;33m[\u001b[0m\u001b[0mself\u001b[0m\u001b[1;33m.\u001b[0m\u001b[0mupdates_op\u001b[0m\u001b[1;33m]\u001b[0m\u001b[1;33m,\u001b[0m \u001b[0mfeed_dict\u001b[0m\u001b[1;33m=\u001b[0m\u001b[0mfeed_dict\u001b[0m\u001b[1;33m)\u001b[0m\u001b[1;33m\u001b[0m\u001b[0m\n\u001b[0m\u001b[1;32m   2247\u001b[0m     \u001b[1;32mreturn\u001b[0m \u001b[0mupdated\u001b[0m\u001b[1;33m[\u001b[0m\u001b[1;33m:\u001b[0m\u001b[0mlen\u001b[0m\u001b[1;33m(\u001b[0m\u001b[0mself\u001b[0m\u001b[1;33m.\u001b[0m\u001b[0moutputs\u001b[0m\u001b[1;33m)\u001b[0m\u001b[1;33m]\u001b[0m\u001b[1;33m\u001b[0m\u001b[0m\n\u001b[1;32m   2248\u001b[0m \u001b[1;33m\u001b[0m\u001b[0m\n",
      "\u001b[0;32mC:\\Program Files\\Anaconda3\\lib\\site-packages\\tensorflow\\python\\client\\session.py\u001b[0m in \u001b[0;36mrun\u001b[0;34m(self, fetches, feed_dict, options, run_metadata)\u001b[0m\n\u001b[1;32m    776\u001b[0m     \u001b[1;32mtry\u001b[0m\u001b[1;33m:\u001b[0m\u001b[1;33m\u001b[0m\u001b[0m\n\u001b[1;32m    777\u001b[0m       result = self._run(None, fetches, feed_dict, options_ptr,\n\u001b[0;32m--> 778\u001b[0;31m                          run_metadata_ptr)\n\u001b[0m\u001b[1;32m    779\u001b[0m       \u001b[1;32mif\u001b[0m \u001b[0mrun_metadata\u001b[0m\u001b[1;33m:\u001b[0m\u001b[1;33m\u001b[0m\u001b[0m\n\u001b[1;32m    780\u001b[0m         \u001b[0mproto_data\u001b[0m \u001b[1;33m=\u001b[0m \u001b[0mtf_session\u001b[0m\u001b[1;33m.\u001b[0m\u001b[0mTF_GetBuffer\u001b[0m\u001b[1;33m(\u001b[0m\u001b[0mrun_metadata_ptr\u001b[0m\u001b[1;33m)\u001b[0m\u001b[1;33m\u001b[0m\u001b[0m\n",
      "\u001b[0;32mC:\\Program Files\\Anaconda3\\lib\\site-packages\\tensorflow\\python\\client\\session.py\u001b[0m in \u001b[0;36m_run\u001b[0;34m(self, handle, fetches, feed_dict, options, run_metadata)\u001b[0m\n\u001b[1;32m    980\u001b[0m     \u001b[1;32mif\u001b[0m \u001b[0mfinal_fetches\u001b[0m \u001b[1;32mor\u001b[0m \u001b[0mfinal_targets\u001b[0m\u001b[1;33m:\u001b[0m\u001b[1;33m\u001b[0m\u001b[0m\n\u001b[1;32m    981\u001b[0m       results = self._do_run(handle, final_targets, final_fetches,\n\u001b[0;32m--> 982\u001b[0;31m                              feed_dict_string, options, run_metadata)\n\u001b[0m\u001b[1;32m    983\u001b[0m     \u001b[1;32melse\u001b[0m\u001b[1;33m:\u001b[0m\u001b[1;33m\u001b[0m\u001b[0m\n\u001b[1;32m    984\u001b[0m       \u001b[0mresults\u001b[0m \u001b[1;33m=\u001b[0m \u001b[1;33m[\u001b[0m\u001b[1;33m]\u001b[0m\u001b[1;33m\u001b[0m\u001b[0m\n",
      "\u001b[0;32mC:\\Program Files\\Anaconda3\\lib\\site-packages\\tensorflow\\python\\client\\session.py\u001b[0m in \u001b[0;36m_do_run\u001b[0;34m(self, handle, target_list, fetch_list, feed_dict, options, run_metadata)\u001b[0m\n\u001b[1;32m   1030\u001b[0m     \u001b[1;32mif\u001b[0m \u001b[0mhandle\u001b[0m \u001b[1;32mis\u001b[0m \u001b[1;32mNone\u001b[0m\u001b[1;33m:\u001b[0m\u001b[1;33m\u001b[0m\u001b[0m\n\u001b[1;32m   1031\u001b[0m       return self._do_call(_run_fn, self._session, feed_dict, fetch_list,\n\u001b[0;32m-> 1032\u001b[0;31m                            target_list, options, run_metadata)\n\u001b[0m\u001b[1;32m   1033\u001b[0m     \u001b[1;32melse\u001b[0m\u001b[1;33m:\u001b[0m\u001b[1;33m\u001b[0m\u001b[0m\n\u001b[1;32m   1034\u001b[0m       return self._do_call(_prun_fn, self._session, handle, feed_dict,\n",
      "\u001b[0;32mC:\\Program Files\\Anaconda3\\lib\\site-packages\\tensorflow\\python\\client\\session.py\u001b[0m in \u001b[0;36m_do_call\u001b[0;34m(self, fn, *args)\u001b[0m\n\u001b[1;32m   1050\u001b[0m         \u001b[1;32mexcept\u001b[0m \u001b[0mKeyError\u001b[0m\u001b[1;33m:\u001b[0m\u001b[1;33m\u001b[0m\u001b[0m\n\u001b[1;32m   1051\u001b[0m           \u001b[1;32mpass\u001b[0m\u001b[1;33m\u001b[0m\u001b[0m\n\u001b[0;32m-> 1052\u001b[0;31m       \u001b[1;32mraise\u001b[0m \u001b[0mtype\u001b[0m\u001b[1;33m(\u001b[0m\u001b[0me\u001b[0m\u001b[1;33m)\u001b[0m\u001b[1;33m(\u001b[0m\u001b[0mnode_def\u001b[0m\u001b[1;33m,\u001b[0m \u001b[0mop\u001b[0m\u001b[1;33m,\u001b[0m \u001b[0mmessage\u001b[0m\u001b[1;33m)\u001b[0m\u001b[1;33m\u001b[0m\u001b[0m\n\u001b[0m\u001b[1;32m   1053\u001b[0m \u001b[1;33m\u001b[0m\u001b[0m\n\u001b[1;32m   1054\u001b[0m   \u001b[1;32mdef\u001b[0m \u001b[0m_extend_graph\u001b[0m\u001b[1;33m(\u001b[0m\u001b[0mself\u001b[0m\u001b[1;33m)\u001b[0m\u001b[1;33m:\u001b[0m\u001b[1;33m\u001b[0m\u001b[0m\n",
      "\u001b[0;31mResourceExhaustedError\u001b[0m: OOM when allocating tensor with shape[512,224,224,64]\n\t [[Node: time_distributed_78/convolution = Conv2D[T=DT_FLOAT, data_format=\"NHWC\", padding=\"SAME\", strides=[1, 1, 1, 1], use_cudnn_on_gpu=true, _device=\"/job:localhost/replica:0/task:0/gpu:0\"](time_distributed_78/Reshape, time_distributed_78/kernel/read)]]\n\t [[Node: mul_53/_1599 = _Recv[client_terminated=false, recv_device=\"/job:localhost/replica:0/task:0/cpu:0\", send_device=\"/job:localhost/replica:0/task:0/gpu:0\", send_device_incarnation=1, tensor_name=\"edge_6_mul_53\", tensor_type=DT_FLOAT, _device=\"/job:localhost/replica:0/task:0/cpu:0\"]()]]\n\nCaused by op 'time_distributed_78/convolution', defined at:\n  File \"C:\\Program Files\\Anaconda3\\lib\\runpy.py\", line 184, in _run_module_as_main\n    \"__main__\", mod_spec)\n  File \"C:\\Program Files\\Anaconda3\\lib\\runpy.py\", line 85, in _run_code\n    exec(code, run_globals)\n  File \"C:\\Program Files\\Anaconda3\\lib\\site-packages\\ipykernel\\__main__.py\", line 3, in <module>\n    app.launch_new_instance()\n  File \"C:\\Program Files\\Anaconda3\\lib\\site-packages\\traitlets\\config\\application.py\", line 653, in launch_instance\n    app.start()\n  File \"C:\\Program Files\\Anaconda3\\lib\\site-packages\\ipykernel\\kernelapp.py\", line 474, in start\n    ioloop.IOLoop.instance().start()\n  File \"C:\\Program Files\\Anaconda3\\lib\\site-packages\\zmq\\eventloop\\ioloop.py\", line 162, in start\n    super(ZMQIOLoop, self).start()\n  File \"C:\\Program Files\\Anaconda3\\lib\\site-packages\\tornado\\ioloop.py\", line 887, in start\n    handler_func(fd_obj, events)\n  File \"C:\\Program Files\\Anaconda3\\lib\\site-packages\\tornado\\stack_context.py\", line 275, in null_wrapper\n    return fn(*args, **kwargs)\n  File \"C:\\Program Files\\Anaconda3\\lib\\site-packages\\zmq\\eventloop\\zmqstream.py\", line 440, in _handle_events\n    self._handle_recv()\n  File \"C:\\Program Files\\Anaconda3\\lib\\site-packages\\zmq\\eventloop\\zmqstream.py\", line 472, in _handle_recv\n    self._run_callback(callback, msg)\n  File \"C:\\Program Files\\Anaconda3\\lib\\site-packages\\zmq\\eventloop\\zmqstream.py\", line 414, in _run_callback\n    callback(*args, **kwargs)\n  File \"C:\\Program Files\\Anaconda3\\lib\\site-packages\\tornado\\stack_context.py\", line 275, in null_wrapper\n    return fn(*args, **kwargs)\n  File \"C:\\Program Files\\Anaconda3\\lib\\site-packages\\ipykernel\\kernelbase.py\", line 276, in dispatcher\n    return self.dispatch_shell(stream, msg)\n  File \"C:\\Program Files\\Anaconda3\\lib\\site-packages\\ipykernel\\kernelbase.py\", line 228, in dispatch_shell\n    handler(stream, idents, msg)\n  File \"C:\\Program Files\\Anaconda3\\lib\\site-packages\\ipykernel\\kernelbase.py\", line 390, in execute_request\n    user_expressions, allow_stdin)\n  File \"C:\\Program Files\\Anaconda3\\lib\\site-packages\\ipykernel\\ipkernel.py\", line 196, in do_execute\n    res = shell.run_cell(code, store_history=store_history, silent=silent)\n  File \"C:\\Program Files\\Anaconda3\\lib\\site-packages\\ipykernel\\zmqshell.py\", line 501, in run_cell\n    return super(ZMQInteractiveShell, self).run_cell(*args, **kwargs)\n  File \"C:\\Program Files\\Anaconda3\\lib\\site-packages\\IPython\\core\\interactiveshell.py\", line 2717, in run_cell\n    interactivity=interactivity, compiler=compiler, result=result)\n  File \"C:\\Program Files\\Anaconda3\\lib\\site-packages\\IPython\\core\\interactiveshell.py\", line 2821, in run_ast_nodes\n    if self.run_code(code, result):\n  File \"C:\\Program Files\\Anaconda3\\lib\\site-packages\\IPython\\core\\interactiveshell.py\", line 2881, in run_code\n    exec(code_obj, self.user_global_ns, self.user_ns)\n  File \"<ipython-input-28-47a1428c3771>\", line 76, in <module>\n    vgg_face.add(TimeDistributed(Convolution2D(64, (3, 3), activation='relu', padding='same', name='conv1_1', trainable=False), input_shape=input_shape))\n  File \"C:\\Program Files\\Anaconda3\\lib\\site-packages\\tensorflow\\contrib\\keras\\python\\keras\\models.py\", line 463, in add\n    layer(x)\n  File \"C:\\Program Files\\Anaconda3\\lib\\site-packages\\tensorflow\\contrib\\keras\\python\\keras\\engine\\topology.py\", line 578, in __call__\n    output = self.call(inputs, **kwargs)\n  File \"C:\\Program Files\\Anaconda3\\lib\\site-packages\\tensorflow\\contrib\\keras\\python\\keras\\layers\\wrappers.py\", line 201, in call\n    y = self.layer.call(inputs)  # (num_samples * timesteps, ...)\n  File \"C:\\Program Files\\Anaconda3\\lib\\site-packages\\tensorflow\\contrib\\keras\\python\\keras\\layers\\convolutional.py\", line 178, in call\n    dilation_rate=self.dilation_rate)\n  File \"C:\\Program Files\\Anaconda3\\lib\\site-packages\\tensorflow\\contrib\\keras\\python\\keras\\backend.py\", line 3046, in conv2d\n    data_format='NHWC')\n  File \"C:\\Program Files\\Anaconda3\\lib\\site-packages\\tensorflow\\python\\ops\\nn_ops.py\", line 661, in convolution\n    op=op)\n  File \"C:\\Program Files\\Anaconda3\\lib\\site-packages\\tensorflow\\python\\ops\\nn_ops.py\", line 331, in with_space_to_batch\n    return op(input, num_spatial_dims, padding)\n  File \"C:\\Program Files\\Anaconda3\\lib\\site-packages\\tensorflow\\python\\ops\\nn_ops.py\", line 653, in op\n    name=name)\n  File \"C:\\Program Files\\Anaconda3\\lib\\site-packages\\tensorflow\\python\\ops\\nn_ops.py\", line 129, in _non_atrous_convolution\n    name=name)\n  File \"C:\\Program Files\\Anaconda3\\lib\\site-packages\\tensorflow\\python\\ops\\gen_nn_ops.py\", line 403, in conv2d\n    data_format=data_format, name=name)\n  File \"C:\\Program Files\\Anaconda3\\lib\\site-packages\\tensorflow\\python\\framework\\op_def_library.py\", line 768, in apply_op\n    op_def=op_def)\n  File \"C:\\Program Files\\Anaconda3\\lib\\site-packages\\tensorflow\\python\\framework\\ops.py\", line 2336, in create_op\n    original_op=self._default_original_op, op_def=op_def)\n  File \"C:\\Program Files\\Anaconda3\\lib\\site-packages\\tensorflow\\python\\framework\\ops.py\", line 1228, in __init__\n    self._traceback = _extract_stack()\n\nResourceExhaustedError (see above for traceback): OOM when allocating tensor with shape[512,224,224,64]\n\t [[Node: time_distributed_78/convolution = Conv2D[T=DT_FLOAT, data_format=\"NHWC\", padding=\"SAME\", strides=[1, 1, 1, 1], use_cudnn_on_gpu=true, _device=\"/job:localhost/replica:0/task:0/gpu:0\"](time_distributed_78/Reshape, time_distributed_78/kernel/read)]]\n\t [[Node: mul_53/_1599 = _Recv[client_terminated=false, recv_device=\"/job:localhost/replica:0/task:0/cpu:0\", send_device=\"/job:localhost/replica:0/task:0/gpu:0\", send_device_incarnation=1, tensor_name=\"edge_6_mul_53\", tensor_type=DT_FLOAT, _device=\"/job:localhost/replica:0/task:0/cpu:0\"]()]]\n"
     ]
    }
   ],
   "source": [
    "score = model.evaluate(X_train, y_train)\n",
    "print('Train score:', score[0])\n",
    "print('Train accuracy:', score[1])\n",
    "\n",
    "score = model.evaluate(X_test, y_test)\n",
    "print('Test score:', score[0])\n",
    "print('Test accuracy:', score[1])"
   ]
  },
  {
   "cell_type": "code",
   "execution_count": 50,
   "metadata": {},
   "outputs": [
    {
     "name": "stdout",
     "output_type": "stream",
     "text": [
      "383/383 [==============================] - 31s    \n"
     ]
    }
   ],
   "source": [
    "# # Compute confusion matrix\n",
    "# cnf_matrix = confusion_matrix(y_test, y_pred)\n",
    "# np.set_printoptions(precision=2)\n",
    "\n",
    "# plot_confusion_matrix(cnf_matrix, classes=class_names,\n",
    "#                       title='Confusion matrix, without normalization')\n",
    "\n",
    "# plot_confusion_matrix(cnf_matrix, classes=class_names, normalize=True,\n",
    "#                       title='Normalized confusion matrix')\n",
    "\n",
    "y_test\n",
    "y_pred_ = model.predict(x=X_test, batch_size=batch_size, verbose=1)"
   ]
  },
  {
   "cell_type": "code",
   "execution_count": 94,
   "metadata": {},
   "outputs": [
    {
     "data": {
      "text/plain": [
       "[array([[ 0.23438,  0.07812,  0.15625,  0.14062,  0.17188,  0.14062,\n",
       "          0.07812],\n",
       "        [ 0.15   ,  0.1    ,  0.075  ,  0.15   ,  0.3    ,  0.15   ,  0.075  ],\n",
       "        [ 0.28261,  0.1087 ,  0.19565,  0.15217,  0.1087 ,  0.13043,\n",
       "          0.02174],\n",
       "        [ 0.22222,  0.07937,  0.07937,  0.33333,  0.15873,  0.06349,\n",
       "          0.06349],\n",
       "        [ 0.30159,  0.06349,  0.07937,  0.09524,  0.25397,  0.15873,\n",
       "          0.04762],\n",
       "        [ 0.18033,  0.08197,  0.13115,  0.08197,  0.2459 ,  0.22951,\n",
       "          0.04918],\n",
       "        [ 0.19565,  0.13043,  0.13043,  0.06522,  0.21739,  0.17391,\n",
       "          0.08696]])]"
      ]
     },
     "execution_count": 94,
     "metadata": {},
     "output_type": "execute_result"
    }
   ],
   "source": [
    "cm = confusion_matrix(y_test, y_pred)\n",
    "cm = [cm.astype('float') / cm.sum(axis=1)[:, np.newaxis]]\n",
    "cm"
   ]
  },
  {
   "cell_type": "code",
   "execution_count": 108,
   "metadata": {
    "scrolled": false
   },
   "outputs": [
    {
     "data": {
      "image/png": "[encoded data removed]",
      "text/plain": [
       "<matplotlib.figure.Figure at 0x2211f735278>"
      ]
     },
     "metadata": {},
     "output_type": "display_data"
    }
   ],
   "source": [
    "y_pred = np.argmax(y_pred_, axis=1)\n",
    "# np.sum(y_pred == y_test)/y_test.shape[0]\n",
    "\n",
    "plot_confusion_matrix(y_test=y_test, y_pred=y_pred,\n",
    "                      classes=np.array(('angry', 'disgust', 'fear', 'happy', 'neutral', 'sad', 'surprise')),\n",
    "                      normalize=True)"
   ]
  },
  {
   "cell_type": "code",
   "execution_count": 33,
   "metadata": {},
   "outputs": [
    {
     "name": "stdout",
     "output_type": "stream",
     "text": [
      "dict_keys(['val_loss', 'val_acc', 'loss', 'acc'])\n"
     ]
    },
    {
     "data": {
      "image/png": "[encoded data removed]",
      "text/plain": [
       "<matplotlib.figure.Figure at 0x22106280c88>"
      ]
     },
     "metadata": {},
     "output_type": "display_data"
    },
    {
     "data": {
      "image/png": "[encoded data removed]",
      "text/plain": [
       "<matplotlib.figure.Figure at 0x2211261ff98>"
      ]
     },
     "metadata": {},
     "output_type": "display_data"
    }
   ],
   "source": [
    "# list all data in history\n",
    "print(history_.keys())\n",
    "# summarize history for accuracy\n",
    "plt.plot(history_['acc'])\n",
    "plt.plot(history_['val_acc'])\n",
    "plt.title('model accuracy')\n",
    "plt.ylabel('accuracy')\n",
    "plt.xlabel('epoch')\n",
    "plt.legend(['train', 'validation'], loc='upper left')\n",
    "plt.show()\n",
    "# summarize history for loss\n",
    "plt.plot(history_['loss'])\n",
    "plt.plot(history_['val_loss'])\n",
    "plt.title('model loss')\n",
    "plt.ylabel('loss')\n",
    "plt.xlabel('epoch')\n",
    "plt.legend(['train', 'validation'], loc='upper left')\n",
    "plt.show()"
   ]
  },
  {
   "cell_type": "code",
   "execution_count": null,
   "metadata": {
    "collapsed": true
   },
   "outputs": [],
   "source": []
  }
 ],
 "metadata": {
  "anaconda-cloud": {},
  "kernelspec": {
   "display_name": "Python [conda root]",
   "language": "python",
   "name": "conda-root-py"
  },
  "language_info": {
   "codemirror_mode": {
    "name": "ipython",
    "version": 3
   },
   "file_extension": ".py",
   "mimetype": "text/x-python",
   "name": "python",
   "nbconvert_exporter": "python",
   "pygments_lexer": "ipython3",
   "version": "3.5.2"
  }
 },
 "nbformat": 4,
 "nbformat_minor": 1
}
